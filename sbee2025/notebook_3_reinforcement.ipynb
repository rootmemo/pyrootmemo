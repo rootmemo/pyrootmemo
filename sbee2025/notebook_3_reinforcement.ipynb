{
 "cells": [
  {
   "cell_type": "markdown",
   "id": "f9da68e8",
   "metadata": {},
   "source": [
    "# Reinforcement predictions"
   ]
  },
  {
   "cell_type": "markdown",
   "id": "931b4573",
   "metadata": {},
   "source": [
    "## Initialise code\n",
    "\n",
    "First, we need to load some packages and functions."
   ]
  },
  {
   "cell_type": "code",
   "execution_count": null,
   "id": "73fc8d7c",
   "metadata": {},
   "outputs": [],
   "source": [
    "# load packages and functions\n",
    "import numpy as np\n",
    "import matplotlib.pyplot as plt\n",
    "from pyrootmemo.io import read_csv_roots\n",
    "from pyrootmemo.fit import Powerlaw\n",
    "from pyrootmemo.materials import Soil, Interface\n",
    "from pyrootmemo.geometry import SoilProfile, FailureSurface\n",
    "from pyrootmemo.models import Wwm, Fbm, Rbmw, Waldron\n",
    "\n",
    "# define parameter object (value + unit), used later to define soil, root and geometry parameters\n",
    "from pyrootmemo.helpers import units  # load the unit system used\n",
    "from collections import namedtuple\n",
    "Parameter = namedtuple(\"parameter\", \"value unit\")"
   ]
  },
  {
   "cell_type": "markdown",
   "id": "1915084d",
   "metadata": {},
   "source": [
    "## Load data\n",
    "\n",
    "There are two files to load, one for biomechanical testing results, and describing the diameters of all roots in the experiment used to measure reinforcement. \n",
    "\n",
    "By default, this script uses biomechanics data for willow roots as measured by Liang et al. (2017), see https://doi.org/10.1016/j.ecoleng.2017.06.067.\n",
    "\n",
    "By default, root reinforcements are predicted for an (artificial) set of *three roots only*, to make it easier to see what models predict and why. These diameters are stored in the data file \"data/experiment_dummy_data.csv\". Once you understand how the script and models function, you can swap out this 'dummy' data for real measured diameter data on soil reinforcement by willow roots, as measured for a direct shear test by Bull et al. (2022), see https://doi.org/10.1098/rspa.2021.0210 (data file 'data/experiment_willowC_bull.csv'). \n",
    "\n",
    "You can also experiment with some of the data for *Lolium perenne* and *Onobrychis viciifolia* as discussed earlier during this workhop. When you do this, you will need to update some (estimated or measured) properties such as the root length or the cross-sectional area of the shear plane.\n",
    "\n",
    "Alternatively, you can read in your own data by placing a comma seperated .csv files in the project folder and adjusting the paths below. In this case:\n",
    "\n",
    "* The .csv file with 'field' data should contain columns for:\n",
    "  * `diameter_unit`: the diameter of the roots\n",
    "* The .csv file describing biomechanical data should contain columns for:\n",
    "  * `diameter_unit`: the diameters of the tested roots\n",
    "  * `tensile_strength_unit`: the tensile strengths of the tested roots\n",
    "  * `elastic_modulus_unit`: the (elastic) stiffness of the tested roots\n",
    "\n",
    "The part of the column name indicated by 'unit' must be replaced by the measurement unit, e.g. 'mm'."
   ]
  },
  {
   "cell_type": "code",
   "execution_count": null,
   "id": "18956b6d",
   "metadata": {},
   "outputs": [],
   "source": [
    "# load root diameter data (use \"#\" at the start of a code line to disable execution of this line)\n",
    "roots_experiment = read_csv_roots('data/experiment_dummy_data.csv')\n",
    "# roots_experiment = read_csv_roots('data/experiment_willowC_bull.csv')\n",
    "# roots_experiment = read_csv_roots('data/experiment_lolium_perenne_talveg_20170615.csv')\n",
    "# roots_experiment = read_csv_roots('data/experiment_onobrychis_viciifolia_talveg_20170615.csv')\n",
    "\n",
    "# measure biomechanical data (use \"#\" at the start of a code line to disable execution of this line)\n",
    "roots_biomech = read_csv_roots('data/tensile_willow_liang2017.csv') \n",
    "# roots_biomech = read_csv_roots('data/tensile_lolium_perenne_talveg.csv') \n",
    "# roots_biomech = read_csv_roots('data/tensile_onobrychis_viciifolia_talveg.csv') "
   ]
  },
  {
   "cell_type": "markdown",
   "id": "3c6b51d3",
   "metadata": {},
   "source": [
    "We could compare the differences in diameter distribution between roots tested for biomechanical properties, and those counted in the shear strength test."
   ]
  },
  {
   "cell_type": "code",
   "execution_count": null,
   "id": "0e89dc6d",
   "metadata": {},
   "outputs": [],
   "source": [
    "# generate a plot with two subplots\n",
    "fig, axs = plt.subplots(1, 2, sharex = True, sharey = True)\n",
    "fig.supxlabel('diameter [mm]')\n",
    "fig.supylabel('density [-]')\n",
    "\n",
    "# plot biomechanical in first subplot\n",
    "axs[0].hist(roots_biomech.diameter.to('mm').magnitude, density = True)\n",
    "axs[0].title.set_text('Biomechanical testing')\n",
    "\n",
    "# plot experiment in second subplot\n",
    "axs[1].hist(roots_experiment.diameter.to('mm').magnitude, density = True)\n",
    "axs[1].title.set_text('Reinforcement experiment')"
   ]
  },
  {
   "cell_type": "markdown",
   "id": "c6d86f6e",
   "metadata": {},
   "source": [
    "# Biomechanics \n",
    "\n",
    "First, we need to fit the biomechanical data, so we can predict root biomechanical properties for all roots in the *experiment*."
   ]
  },
  {
   "cell_type": "code",
   "execution_count": null,
   "id": "4c5ea0c8",
   "metadata": {},
   "outputs": [],
   "source": [
    "# create a power law for tensile strength\n",
    "fit_tensile_strength = Powerlaw(\n",
    "    roots_biomech.diameter,\n",
    "    roots_biomech.tensile_strength,\n",
    "    model = 'normal'\n",
    ")\n",
    "\n",
    "# create a power law for root stiffness\n",
    "fit_elastic_modulus = Powerlaw(\n",
    "    roots_biomech.diameter,\n",
    "    roots_biomech.elastic_modulus,\n",
    "    model = 'normal'\n",
    ")"
   ]
  },
  {
   "cell_type": "markdown",
   "id": "ff873c16",
   "metadata": {},
   "source": [
    "With these fits, we can now predict the strength and stiffness of any root in the experiment"
   ]
  },
  {
   "cell_type": "code",
   "execution_count": null,
   "id": "5e27f2c5",
   "metadata": {},
   "outputs": [],
   "source": [
    "# predict tensile strenghts\n",
    "roots_experiment.tensile_strength = fit_tensile_strength.predict(roots_experiment.diameter)\n",
    "# predict stiffnesses\n",
    "roots_experiment.elastic_modulus = fit_elastic_modulus.predict(roots_experiment.diameter)"
   ]
  },
  {
   "cell_type": "markdown",
   "id": "fcea7851",
   "metadata": {},
   "source": [
    "For some models (Waldron, RBMw), we also need to know the (anchored) length of the root. \n",
    "\n",
    "Bull et al.'s expriments were sheared half-way a 500 mm long core. Therefore, let's assume that the (anchored) length, i.e. the distance from the shear plane to the tip of all roots, is 250 mm for all roots."
   ]
  },
  {
   "cell_type": "code",
   "execution_count": null,
   "id": "ca39d938",
   "metadata": {},
   "outputs": [],
   "source": [
    "# diameter--length power law parameters\n",
    "length_multiplier = 250 * units('mm')\n",
    "length_exponent = 0.0\n",
    "reference_diameter = 1.0 * units('mm')\n",
    "\n",
    "# set length for each root, using power law\n",
    "roots_experiment.length = (\n",
    "    length_multiplier \n",
    "    * (roots_experiment.diameter / reference_diameter) ** length_exponent\n",
    "    )"
   ]
  },
  {
   "cell_type": "markdown",
   "id": "7cd10fa4",
   "metadata": {},
   "source": [
    "# Set soil and interface properties"
   ]
  },
  {
   "cell_type": "markdown",
   "id": "c74eeb0a",
   "metadata": {},
   "source": [
    "Let's define come soil properties. You can define multiple soils, but In Bull's experiment, there is only one soil."
   ]
  },
  {
   "cell_type": "code",
   "execution_count": null,
   "id": "c2a35baa",
   "metadata": {},
   "outputs": [],
   "source": [
    "soil = Soil(\n",
    "    'silty SAND',\n",
    "    cohesion = Parameter(0.0, 'kPa'),\n",
    "    friction_angle = Parameter(36.4, 'degrees')\n",
    ")"
   ]
  },
  {
   "cell_type": "markdown",
   "id": "e8a83c4d",
   "metadata": {},
   "source": [
    "With the soil(s) defined, we can now define a soil profile. This is a list of soils - stacked on top of each other (top to bottom). For each soil in the 'stack' define the bottom of the layer.\n",
    "\n",
    "Bull's tests were conducted in a 500 mm long core, so the depth of the silty sand is at 500 mm below the soil surface"
   ]
  },
  {
   "cell_type": "code",
   "execution_count": null,
   "id": "25263349",
   "metadata": {},
   "outputs": [],
   "source": [
    "soil_profile = SoilProfile(\n",
    "    [soil],\n",
    "    depth = Parameter([500.0], 'mm')\n",
    ")"
   ]
  },
  {
   "cell_type": "markdown",
   "id": "6f0e62c3",
   "metadata": {},
   "source": [
    "The Waldron model requires defining the strength of the root-soil interface."
   ]
  },
  {
   "cell_type": "code",
   "execution_count": null,
   "id": "e2f86725",
   "metadata": {},
   "outputs": [],
   "source": [
    "interface = Interface(\n",
    "    shear_strength = Parameter(2.7, 'kPa')\n",
    ")"
   ]
  },
  {
   "cell_type": "markdown",
   "id": "b2e9381a",
   "metadata": {},
   "source": [
    "Finally, let's set some parameters for the failure surface. In Bull's test, these were located at 250 mm depth. The cores were 110 mm in diameter."
   ]
  },
  {
   "cell_type": "code",
   "execution_count": null,
   "id": "a5e36710",
   "metadata": {},
   "outputs": [],
   "source": [
    "failure_surface = FailureSurface(\n",
    "    cross_sectional_area = Parameter(0.25 * np.pi * 110**2, 'mm^2'),\n",
    "    depth = Parameter(250, 'mm'),\n",
    "    shear_zone_thickness = Parameter(30, 'mm')\n",
    ")"
   ]
  },
  {
   "cell_type": "markdown",
   "id": "3684f45e",
   "metadata": {},
   "source": [
    "## Reinforcement predictions\n",
    "\n",
    "With all properties defined, we can now start to make reinforcement predictions using the various models."
   ]
  },
  {
   "cell_type": "markdown",
   "id": "800e0c91",
   "metadata": {},
   "source": [
    "### WWM"
   ]
  },
  {
   "cell_type": "code",
   "execution_count": null,
   "id": "7863a4fd",
   "metadata": {},
   "outputs": [],
   "source": [
    "# create a Wwm model object\n",
    "wwm = Wwm(roots_experiment)\n",
    "\n",
    "# calculate and show the peak reinforcement (in kPa)\n",
    "peak_reinforcement = wwm.peak_reinforcement(failure_surface)\n",
    "print(peak_reinforcement.to('kPa'))"
   ]
  },
  {
   "cell_type": "markdown",
   "id": "32a0aa36",
   "metadata": {},
   "source": [
    "### FBM"
   ]
  },
  {
   "cell_type": "code",
   "execution_count": null,
   "id": "854eed3b",
   "metadata": {},
   "outputs": [],
   "source": [
    "# define the load sharing parameter\n",
    "load_sharing = 1.0\n",
    "\n",
    "# create a Fbm model object\n",
    "fbm = Fbm(roots_experiment, load_sharing)\n",
    "\n",
    "# calculate and show the peak reinforcement (in kPa)\n",
    "peak_reinforcement = fbm.peak_reinforcement(failure_surface, k = 1.2)\n",
    "print(peak_reinforcement.to('kPa'))\n",
    "\n",
    "# show a plot demonstrating how the reinforcement mobilises\n",
    "# if `stack = True`, show all contributions of individual roots (can be labelled, e.g. by diameter)\n",
    "fbm.plot(\n",
    "    stack = True, \n",
    "    labels = [str(round(d, 2)) for d in roots_experiment.diameter.magnitude]\n",
    "    )"
   ]
  },
  {
   "cell_type": "markdown",
   "id": "a5609316",
   "metadata": {},
   "source": [
    "### RBMw"
   ]
  },
  {
   "cell_type": "code",
   "execution_count": null,
   "id": "4dcf16cd",
   "metadata": {},
   "outputs": [],
   "source": [
    "# define the Weibull shape parameter\n",
    "weibull_shape = 4.0\n",
    "\n",
    "# create a Rbmw model object\n",
    "rbmw = Rbmw(roots_experiment, weibull_shape)\n",
    "\n",
    "# calculate and show the peak reinforcement (in kPa)\n",
    "peak = rbmw.peak_reinforcement(failure_surface)\n",
    "print(peak['reinforcement'].to('kPa'))\n",
    "\n",
    "# show a plot demonstrating how the force in the bundle mobilises with displacement\n",
    "# if `stack = True`, show all contributions of individual roots (can be labelled, e.g. by diameter)\n",
    "rbmw.plot(\n",
    "    stack = True,\n",
    "    labels = [str(round(d, 2)) for d in roots_experiment.diameter.magnitude]\n",
    "    )"
   ]
  },
  {
   "cell_type": "markdown",
   "id": "68d3f46e",
   "metadata": {},
   "source": [
    "### Waldron"
   ]
  },
  {
   "cell_type": "code",
   "execution_count": null,
   "id": "455dbbed",
   "metadata": {},
   "outputs": [],
   "source": [
    "# create a Waldron model object. We can include the effects of breakage and/or \n",
    "# slippage by setting model parameters to `True` or `False`\n",
    "waldron = Waldron(\n",
    "    roots_experiment,\n",
    "    interface,\n",
    "    soil_profile,\n",
    "    failure_surface,\n",
    "    breakage = True,   # allow for breaking of roots (True) or no breakage (False)\n",
    "    slipping = True    # allow for root slippage (True) or not (False)\n",
    "    )\n",
    "\n",
    "# calculate and show the peak reinforcement (in kPa)\n",
    "peak = waldron.peak_reinforcement()\n",
    "print('peak reinforcement:', peak['reinforcement'].to('kPa'))\n",
    "print('peak displacement:', peak['displacement'])\n",
    "\n",
    "# show how the reinforcement mobilises with soil shear displacement\n",
    "# if `stack = True`, show all contributions of individual roots (can be labelled, e.g. by diameter)\n",
    "waldron.plot(\n",
    "    stack = True,\n",
    "    labels = [str(round(d, 2)) for d in roots_experiment.diameter.magnitude],\n",
    "    margin_axis = 0.5  # plot some extra x-axis range, as fraction of default range\n",
    "    )"
   ]
  },
  {
   "cell_type": "markdown",
   "id": "690d191b",
   "metadata": {},
   "source": [
    "## Explore!\n",
    "\n",
    "You can now investigate:\n",
    "\n",
    "* What happens when you use realistic, i.e. measured, diameter data?\n",
    "\n",
    "* How do the different reinforcement models compare? For example, in terms of:\n",
    "  \n",
    "  * Peak reinforcement (root 'cohesion')\n",
    "  * Displacements required to reach peak (Waldron, Rbmw)\n",
    "  * Which roots are predicted to break first - thicker or thinner ones?\n",
    "\n",
    "* What happens if you make different assumptions, for example for:\n",
    "  1. Power law fitting methods for root tensile strength and/or root stiffness\n",
    "  2. FBM load sharing paramter\n",
    "  3. RBMw Weibull shape parameter\n",
    "  4. Different soil properties (friction angle)\n",
    "  5. Different soil-root interface properties (in Waldron model). When do roots slip? When to roots break? Is accounting for slippage important?\n",
    "  6. Different failure surface properties (e.g. shear zone thickness in Waldron's model?)\n",
    "\n",
    "* Try a different dataset, e.g. for:\n",
    "\n",
    "  - *Lolium perenne*\n",
    "  - *Onobrychis viciifolia*\n",
    "\n",
    "  You may need to update assuptions for root length and/or cross-sectional area of the shear plane. How do the results change, and how are the root reinforcement models differ?"
   ]
  }
 ],
 "metadata": {
  "kernelspec": {
   "display_name": "rrmm",
   "language": "python",
   "name": "python3"
  },
  "language_info": {
   "codemirror_mode": {
    "name": "ipython",
    "version": 3
   },
   "file_extension": ".py",
   "mimetype": "text/x-python",
   "name": "python",
   "nbconvert_exporter": "python",
   "pygments_lexer": "ipython3",
   "version": "3.13.3"
  }
 },
 "nbformat": 4,
 "nbformat_minor": 5
}
