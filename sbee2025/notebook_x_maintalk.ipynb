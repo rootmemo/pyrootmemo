{
 "cells": [
  {
   "cell_type": "markdown",
   "id": "ea3bb968",
   "metadata": {},
   "source": [
    "# pyrootmemo example for main conference talk\n",
    "\n"
   ]
  },
  {
   "cell_type": "markdown",
   "id": "c56d7141",
   "metadata": {},
   "source": [
    "Load objects"
   ]
  },
  {
   "cell_type": "code",
   "execution_count": null,
   "id": "eb0861c9",
   "metadata": {},
   "outputs": [],
   "source": [
    "from pyrootmemo.materials import MultipleRoots, Interface, Soil\n",
    "from pyrootmemo.geometry import SoilProfile, FailureSurface\n",
    "from pyrootmemo.models import Wwm, Fbm, Rbmw, Waldron\n",
    "from pyrootmemo.helpers import Parameter"
   ]
  },
  {
   "cell_type": "markdown",
   "id": "1a018c4a",
   "metadata": {},
   "source": [
    "Define input parameters"
   ]
  },
  {
   "cell_type": "code",
   "execution_count": null,
   "id": "f30af5b8",
   "metadata": {},
   "outputs": [],
   "source": [
    "roots = MultipleRoots(\n",
    "    species = \"test_species\",\n",
    "    diameter = Parameter([3, 4, 5], 'mm'),\n",
    "    tensile_strength = Parameter([20, 16, 10], 'MPa'),\n",
    "    elastic_modulus = Parameter([200, 180, 160], 'MPa'),\n",
    "    length = Parameter([300, 400, 500], 'mm')\n",
    ")\n",
    "\n",
    "interface = Interface(shear_strength = Parameter(10, 'kPa'))\n",
    "\n",
    "failure_surface = FailureSurface(\n",
    "    cross_sectional_area = Parameter(0.1, 'm^2'),\n",
    "    depth = Parameter(0.5, 'm'),\n",
    "    shear_zone_thickness = Parameter(10, 'mm')\n",
    "    )\n",
    "\n",
    "sand = Soil(\n",
    "    'sand', \n",
    "    cohesion = Parameter(0, 'kPa'), \n",
    "    friction_angle = Parameter(30, 'deg')\n",
    "    )\n",
    "\n",
    "soil_profile = SoilProfile(\n",
    "    [sand],\n",
    "    depth = Parameter([10], 'm'),\n",
    ")"
   ]
  },
  {
   "cell_type": "markdown",
   "id": "16d01d1e",
   "metadata": {},
   "source": [
    "Wu/Waldron model"
   ]
  },
  {
   "cell_type": "code",
   "execution_count": null,
   "id": "31f4486d",
   "metadata": {},
   "outputs": [],
   "source": [
    "wwm = Wwm(roots)\n",
    "print(wwm.peak_reinforcement(failure_surface).to('kPa'))"
   ]
  },
  {
   "cell_type": "markdown",
   "id": "8488e257",
   "metadata": {},
   "source": [
    "Fibre Bundle Model"
   ]
  },
  {
   "cell_type": "code",
   "execution_count": null,
   "id": "6a6d6f31",
   "metadata": {},
   "outputs": [],
   "source": [
    "fbm = Fbm(roots, load_sharing = 0.0)\n",
    "print(fbm.peak_reinforcement(failure_surface).to('kPa'))\n",
    "fbm.plot(stack = True, labels = [3, 4, 5])"
   ]
  },
  {
   "cell_type": "markdown",
   "id": "5cdd4632",
   "metadata": {},
   "source": [
    "Root Bundle Model (weibull)"
   ]
  },
  {
   "cell_type": "code",
   "execution_count": null,
   "id": "0f81d4a4",
   "metadata": {},
   "outputs": [],
   "source": [
    "rbmw = Rbmw(roots, weibull_shape = 5)\n",
    "print(rbmw.peak_reinforcement(failure_surface)['reinforcement'].to('kPa'))\n",
    "rbmw.plot(stack = True, labels = [3, 4, 5])"
   ]
  },
  {
   "cell_type": "markdown",
   "id": "c942d139",
   "metadata": {},
   "source": [
    "Waldron's model"
   ]
  },
  {
   "cell_type": "code",
   "execution_count": null,
   "id": "967fae1c",
   "metadata": {},
   "outputs": [],
   "source": [
    "waldron = Waldron(roots, interface, soil_profile, failure_surface, slipping = True)\n",
    "print(waldron.peak_reinforcement()['reinforcement'].to('kPa'))\n",
    "waldron.plot(stack = True, labels = [3, 4, 5], margin_axis = 2)"
   ]
  }
 ],
 "metadata": {
  "kernelspec": {
   "display_name": "rrmm",
   "language": "python",
   "name": "python3"
  },
  "language_info": {
   "codemirror_mode": {
    "name": "ipython",
    "version": 3
   },
   "file_extension": ".py",
   "mimetype": "text/x-python",
   "name": "python",
   "nbconvert_exporter": "python",
   "pygments_lexer": "ipython3",
   "version": "3.13.0"
  }
 },
 "nbformat": 4,
 "nbformat_minor": 5
}
