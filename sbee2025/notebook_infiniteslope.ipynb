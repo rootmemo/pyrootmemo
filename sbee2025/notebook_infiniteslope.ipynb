{
 "cells": [
  {
   "cell_type": "markdown",
   "id": "f3234a0e",
   "metadata": {},
   "source": [
    "# Infinite slope analysis"
   ]
  },
  {
   "cell_type": "markdown",
   "id": "1ed66009",
   "metadata": {},
   "source": [
    "## Initialise code\n",
    "\n",
    "First, we need to load some packages and functions."
   ]
  },
  {
   "cell_type": "code",
   "execution_count": 143,
   "id": "ae5b12da",
   "metadata": {},
   "outputs": [],
   "source": [
    "# load packages and functions\n",
    "import numpy as np\n",
    "import matplotlib.pyplot as plt\n",
    "from pyrootmemo.materials import Soil\n",
    "from pyrootmemo.geometry import SoilProfile, FailureSurface\n",
    "from pyrootmemo.models import Wwm, Fbm, Rbmw, Waldron\n",
    "# define parameter object (value + unit), used later to define soil, root and geometry parameters\n",
    "from pyrootmemo.tools.helpers import units\n",
    "from collections import namedtuple\n",
    "Parameter = namedtuple(\"parameter\", \"value unit\")"
   ]
  },
  {
   "cell_type": "markdown",
   "id": "df8e4baf",
   "metadata": {},
   "source": [
    "## Define soil profile and failure surface"
   ]
  },
  {
   "cell_type": "markdown",
   "id": "eaaf1457",
   "metadata": {},
   "source": [
    "First, define a series of soils"
   ]
  },
  {
   "cell_type": "code",
   "execution_count": 144,
   "id": "19312ed1",
   "metadata": {},
   "outputs": [],
   "source": [
    "clay = Soil(\n",
    "    'Clay',\n",
    "    cohesion = Parameter(10, 'kPa'),\n",
    "    friction_angle = Parameter(17.5, 'degrees'),\n",
    "    unit_weight_bulk = Parameter(16, 'kN/m^3'),\n",
    "    unit_weight_saturated = Parameter(18, 'kN/m^3')\n",
    "    )  \n",
    "sand = Soil(\n",
    "    'Sand',\n",
    "    cohesion = Parameter(0, 'kPa'),\n",
    "    friction_angle = Parameter(35, 'degrees'),\n",
    "    unit_weight_bulk = Parameter(18, 'kN/m^3'),\n",
    "    unit_weight_saturated = Parameter(20, 'kN/m^3')\n",
    "    )"
   ]
  },
  {
   "cell_type": "markdown",
   "id": "466444dd",
   "metadata": {},
   "source": [
    "Combine soils, and information about the water table, into a soil profile"
   ]
  },
  {
   "cell_type": "code",
   "execution_count": 145,
   "id": "ed51e172",
   "metadata": {},
   "outputs": [],
   "source": [
    "soil_profile = SoilProfile(\n",
    "    [clay, sand],\n",
    "    depth = Parameter([2.0, 10.0], 'm'),\n",
    "    groundwater_table = Parameter(1.5, 'm')\n",
    "    )"
   ]
  },
  {
   "cell_type": "markdown",
   "id": "d3c3603f",
   "metadata": {},
   "source": [
    "Define the geometry of the slope and failure surface"
   ]
  },
  {
   "cell_type": "code",
   "execution_count": 146,
   "id": "7b939e71",
   "metadata": {},
   "outputs": [],
   "source": [
    "failure_surface = FailureSurface(\n",
    "    depth = Parameter(3, 'm'),\n",
    "    orientation = Parameter(20, 'deg')\n",
    "    )    "
   ]
  },
  {
   "cell_type": "markdown",
   "id": "ebe1eef3",
   "metadata": {},
   "source": [
    "Set an amount of root cohesion at the "
   ]
  },
  {
   "cell_type": "code",
   "execution_count": 147,
   "id": "427df234",
   "metadata": {},
   "outputs": [],
   "source": [
    "root_cohesion = 2.0 * units('kPa')"
   ]
  },
  {
   "cell_type": "markdown",
   "id": "8af49e24",
   "metadata": {},
   "source": [
    "## Infinite slope calculation"
   ]
  },
  {
   "cell_type": "markdown",
   "id": "f5366598",
   "metadata": {},
   "source": [
    "Calculate soil and water stresses at the failure surface"
   ]
  },
  {
   "cell_type": "code",
   "execution_count": 148,
   "id": "b66fb4a7",
   "metadata": {},
   "outputs": [],
   "source": [
    "# pore pressure at failure surface\n",
    "pore_pressure = soil_profile.pore_pressure(\n",
    "    failure_surface.depth,\n",
    "    direction = failure_surface.orientation\n",
    "    )\n",
    "# total vertical soil stress, at failure surface\n",
    "total_vertical_stress = soil_profile.vertical_stress(failure_surface.depth)\n"
   ]
  },
  {
   "cell_type": "markdown",
   "id": "7096849e",
   "metadata": {},
   "source": [
    "Get the soil properties (cohesion, friction angle) at the failure surface"
   ]
  },
  {
   "cell_type": "code",
   "execution_count": 149,
   "id": "5b61f4ec",
   "metadata": {},
   "outputs": [],
   "source": [
    "# soil friction angle and cohesion at failure surface\n",
    "soil_cohesion = soil_profile.get_soil(failure_surface.depth).cohesion\n",
    "friction_angle = soil_profile.get_soil(failure_surface.depth).friction_angle"
   ]
  },
  {
   "cell_type": "markdown",
   "id": "d9f263b7",
   "metadata": {},
   "source": [
    "Calculate the stabilising and destabilising forces"
   ]
  },
  {
   "cell_type": "code",
   "execution_count": 150,
   "id": "9a467682",
   "metadata": {},
   "outputs": [
    {
     "name": "stdout",
     "output_type": "stream",
     "text": [
      "Destabilising stresses: 17.033871656693293 kilopascal\n",
      "Resisting strengths: 25.67157016836392 kilopascal\n"
     ]
    }
   ],
   "source": [
    "# driving stresses\n",
    "stress = (\n",
    "    total_vertical_stress\n",
    "    * np.sin(failure_surface.orientation)\n",
    "    * np.cos(failure_surface.orientation)\n",
    "    )\n",
    "# resisting strength\n",
    "strength = (\n",
    "    soil_cohesion\n",
    "    + root_cohesion\n",
    "    + np.tan(friction_angle) * (\n",
    "        total_vertical_stress * np.cos(failure_surface.orientation)**2 \n",
    "        - pore_pressure\n",
    "        )\n",
    "    )\n",
    "# print results\n",
    "print('Destabilising stresses:', stress.to('kPa'))\n",
    "print('Resisting strengths:', strength.to('kPa'))"
   ]
  },
  {
   "cell_type": "markdown",
   "id": "35128a88",
   "metadata": {},
   "source": [
    "Calculate the factor of safety"
   ]
  },
  {
   "cell_type": "code",
   "execution_count": 151,
   "id": "faf3d99d",
   "metadata": {},
   "outputs": [
    {
     "name": "stdout",
     "output_type": "stream",
     "text": [
      "Factor of safety: 1.5070895616544422\n"
     ]
    }
   ],
   "source": [
    "FoS = strength / stress\n",
    "print('Factor of safety:', FoS.magnitude)"
   ]
  },
  {
   "cell_type": "markdown",
   "id": "cae8bc6f",
   "metadata": {},
   "source": [
    "## Explore!\n",
    "\n",
    "How is the factor of safety affected by:\n",
    "* Root 'cohesion'\n",
    "* Soil properties and profile\n",
    "* Groundwater conditions"
   ]
  }
 ],
 "metadata": {
  "kernelspec": {
   "display_name": "rrmm",
   "language": "python",
   "name": "python3"
  },
  "language_info": {
   "codemirror_mode": {
    "name": "ipython",
    "version": 3
   },
   "file_extension": ".py",
   "mimetype": "text/x-python",
   "name": "python",
   "nbconvert_exporter": "python",
   "pygments_lexer": "ipython3",
   "version": "3.13.0"
  }
 },
 "nbformat": 4,
 "nbformat_minor": 5
}
