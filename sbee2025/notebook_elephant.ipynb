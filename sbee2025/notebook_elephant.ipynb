{
 "cells": [
  {
   "cell_type": "markdown",
   "id": "f5591e13",
   "metadata": {},
   "source": [
    "# Drawing an elephant with four complex parameters\n",
    "\n",
    "See Mayer et al. (2010) for more details (https://doi.org/10.1119/1.3254017)"
   ]
  },
  {
   "cell_type": "markdown",
   "id": "0536f2a5",
   "metadata": {},
   "source": [
    "Initiate code:"
   ]
  },
  {
   "cell_type": "code",
   "execution_count": 1,
   "id": "0dfc8a1d",
   "metadata": {},
   "outputs": [],
   "source": [
    "# Load packages\n",
    "import numpy as np\n",
    "import matplotlib.pyplot as plt"
   ]
  },
  {
   "cell_type": "markdown",
   "id": "3e6fc2fb",
   "metadata": {},
   "source": [
    "Define all parameters:"
   ]
  },
  {
   "cell_type": "code",
   "execution_count": 2,
   "id": "f8293bcd",
   "metadata": {},
   "outputs": [],
   "source": [
    "# 4 Elephant parameters (outline)\n",
    "p1 = 50 - 30j\n",
    "p2 = 18 + 8j\n",
    "p3 = 12 - 10j\n",
    "p4 = -14 - 60j\n",
    "# 5th parameter (eyes + trunk)\n",
    "p5 = 40 + 20j"
   ]
  },
  {
   "cell_type": "markdown",
   "id": "83682937",
   "metadata": {},
   "source": [
    "Calculate plotting coordinates:"
   ]
  },
  {
   "cell_type": "code",
   "execution_count": 3,
   "id": "c762d206",
   "metadata": {},
   "outputs": [],
   "source": [
    "# cylindrical coordinate range (full circle)\n",
    "t = np.linspace(0, 2 * np.pi, 361)\n",
    "# fourier series parameters\n",
    "k = np.arange(0, 6)\n",
    "Ax = np.array([0, 0, 0, p3.real, 0, p4.real])\n",
    "Bx = np.array([0, p1.real, p2.real, 0, 0, 0])\n",
    "Ay = np.array([0, p4.imag, 0, 0, 0, 0])\n",
    "By = np.array([0, p1.imag, p2.imag, p3.imag, 0, 0])\n",
    "# fourier series\n",
    "x_outline = np.sum(Ax * np.cos(np.outer(t, k)) + Bx * np.sin(np.outer(t, k)), axis = 1)\n",
    "y_outline = np.sum(Ay * np.cos(np.outer(t, k)) + By * np.sin(np.outer(t, k)), axis = 1)\n",
    "# eye\n",
    "x_eye = y_eye = p5.imag\n"
   ]
  },
  {
   "cell_type": "markdown",
   "id": "19647255",
   "metadata": {},
   "source": [
    "Now plot our elephant..."
   ]
  },
  {
   "cell_type": "code",
   "execution_count": 4,
   "id": "cbb8873d",
   "metadata": {},
   "outputs": [
    {
     "data": {
      "image/png": "[encoded data removed]",
      "text/plain": [
       "<Figure size 432x288 with 1 Axes>"
      ]
     },
     "metadata": {
      "needs_background": "light"
     },
     "output_type": "display_data"
    }
   ],
   "source": [
    "fig, ax = plt.subplots()\n",
    "ax.plot(y_outline, -x_outline)\n",
    "ax.scatter(x_eye, y_eye)\n",
    "ax.set_aspect('equal', 'box')"
   ]
  },
  {
   "cell_type": "markdown",
   "id": "cdbcc489",
   "metadata": {},
   "source": [
    "...and make his trunk wiggle!"
   ]
  },
  {
   "cell_type": "code",
   "execution_count": null,
   "id": "b66f6a72",
   "metadata": {},
   "outputs": [
    {
     "ename": "NameError",
     "evalue": "name 'x' is not defined",
     "output_type": "error",
     "traceback": [
      "\u001b[1;31m---------------------------------------------------------------------------\u001b[0m",
      "\u001b[1;31mNameError\u001b[0m                                 Traceback (most recent call last)",
      "Cell \u001b[1;32mIn[5], line 2\u001b[0m\n\u001b[0;32m      1\u001b[0m \u001b[38;5;66;03m# trunk coordinates at various amounts of 'wiggle'\u001b[39;00m\n\u001b[1;32m----> 2\u001b[0m x2 \u001b[38;5;241m=\u001b[39m x\u001b[38;5;241m.\u001b[39mcopy()\n\u001b[0;32m      3\u001b[0m x3 \u001b[38;5;241m=\u001b[39m x\u001b[38;5;241m.\u001b[39mcopy()\n\u001b[0;32m      4\u001b[0m x2[y \u001b[38;5;241m>\u001b[39m p5\u001b[38;5;241m.\u001b[39mreal] \u001b[38;5;241m=\u001b[39m x2[y \u001b[38;5;241m>\u001b[39m p5\u001b[38;5;241m.\u001b[39mreal] \u001b[38;5;241m-\u001b[39m \u001b[38;5;241m0.25\u001b[39m \u001b[38;5;241m*\u001b[39m (y[y \u001b[38;5;241m>\u001b[39m p5\u001b[38;5;241m.\u001b[39mreal] \u001b[38;5;241m-\u001b[39m p5\u001b[38;5;241m.\u001b[39mreal)\n",
      "\u001b[1;31mNameError\u001b[0m: name 'x' is not defined"
     ]
    }
   ],
   "source": [
    "# trunk coordinates at various amounts of 'wiggle'\n",
    "x_outline_trunk_down_2 = x_outline.copy()\n",
    "x_outline_trunjk_up = x_outline.copy()\n",
    "x_outline_trunk_down_2[y_outline > p5.real] = (\n",
    "    x_outline_trunk_down_2[y_outline > p5.real] \n",
    "    - 0.25 * (y_outline[y_outline > p5.real] - p5.real)\n",
    "    )\n",
    "x_outline_trunjk_up[y_outline > p5.real] = (\n",
    "    x_outline_trunjk_up[y_outline > p5.real] \n",
    "    + 0.25 * (y_outline[y_outline > p5.real] - p5.real)\n",
    "    )\n",
    "# plot wiggly trunk\n",
    "fig2, ax2 = plt.subplots()\n",
    "ax2.scatter(x_eye, y_eye)\n",
    "ax2.set_aspect('equal', 'box')\n",
    "ax2.plot(y_outline, -x_outline)\n",
    "ax2.plot(y_outline, -x_outline_trunk_down_2, zorder = -1)\n",
    "ax2.plot(y_outline, -x_outline_trunjk_up, zorder = -2)\n"
   ]
  }
 ],
 "metadata": {
  "kernelspec": {
   "display_name": "rrmm",
   "language": "python",
   "name": "python3"
  },
  "language_info": {
   "codemirror_mode": {
    "name": "ipython",
    "version": 3
   },
   "file_extension": ".py",
   "mimetype": "text/x-python",
   "name": "python",
   "nbconvert_exporter": "python",
   "pygments_lexer": "ipython3",
   "version": "3.13.0"
  }
 },
 "nbformat": 4,
 "nbformat_minor": 5
}
