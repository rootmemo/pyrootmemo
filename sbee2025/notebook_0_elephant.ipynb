{
 "cells": [
  {
   "cell_type": "markdown",
   "id": "f5591e13",
   "metadata": {},
   "source": [
    "# Drawing an elephant with four complex parameters\n",
    "\n",
    "See Mayer et al. (2010) for more details (https://doi.org/10.1119/1.3254017)"
   ]
  },
  {
   "cell_type": "markdown",
   "id": "0536f2a5",
   "metadata": {},
   "source": [
    "Initiate code:"
   ]
  },
  {
   "cell_type": "code",
   "execution_count": null,
   "id": "0dfc8a1d",
   "metadata": {},
   "outputs": [],
   "source": [
    "# Load packages\n",
    "import numpy as np\n",
    "import matplotlib.pyplot as plt"
   ]
  },
  {
   "cell_type": "markdown",
   "id": "3e6fc2fb",
   "metadata": {},
   "source": [
    "Define all parameters:"
   ]
  },
  {
   "cell_type": "code",
   "execution_count": null,
   "id": "f8293bcd",
   "metadata": {},
   "outputs": [],
   "source": [
    "# 4 Elephant parameters (outline)\n",
    "p1 = 50 - 30j\n",
    "p2 = 18 + 8j\n",
    "p3 = 12 - 10j\n",
    "p4 = -14 - 60j\n",
    "# 5th parameter (eyes + trunk)\n",
    "p5 = 40 + 20j"
   ]
  },
  {
   "cell_type": "markdown",
   "id": "83682937",
   "metadata": {},
   "source": [
    "Calculate plotting coordinates:"
   ]
  },
  {
   "cell_type": "code",
   "execution_count": null,
   "id": "c762d206",
   "metadata": {},
   "outputs": [],
   "source": [
    "# cylindrical coordinate range (full circle)\n",
    "t = np.linspace(0, 2 * np.pi, 361)\n",
    "# fourier series parameters\n",
    "k = np.arange(0, 6)\n",
    "Ax = np.array([0, 0, 0, p3.real, 0, p4.real])\n",
    "Bx = np.array([0, p1.real, p2.real, 0, 0, 0])\n",
    "Ay = np.array([0, p4.imag, 0, 0, 0, 0])\n",
    "By = np.array([0, p1.imag, p2.imag, p3.imag, 0, 0])\n",
    "# fourier series\n",
    "x_outline = np.sum(Ax * np.cos(np.outer(t, k)) + Bx * np.sin(np.outer(t, k)), axis = 1)\n",
    "y_outline = np.sum(Ay * np.cos(np.outer(t, k)) + By * np.sin(np.outer(t, k)), axis = 1)\n",
    "# eye\n",
    "x_eye = y_eye = p5.imag\n"
   ]
  },
  {
   "cell_type": "markdown",
   "id": "19647255",
   "metadata": {},
   "source": [
    "Now plot our elephant..."
   ]
  },
  {
   "cell_type": "code",
   "execution_count": null,
   "id": "cbb8873d",
   "metadata": {},
   "outputs": [],
   "source": [
    "fig, ax = plt.subplots()\n",
    "ax.plot(y_outline, -x_outline)\n",
    "ax.scatter(x_eye, y_eye)\n",
    "ax.set_aspect('equal', 'box')"
   ]
  },
  {
   "cell_type": "markdown",
   "id": "cdbcc489",
   "metadata": {},
   "source": [
    "...and make his trunk wiggle!"
   ]
  },
  {
   "cell_type": "code",
   "execution_count": null,
   "id": "b66f6a72",
   "metadata": {},
   "outputs": [],
   "source": [
    "# trunk coordinates at various amounts of 'wiggle'\n",
    "x_outline_trunk_down_2 = x_outline.copy()\n",
    "x_outline_trunk_up = x_outline.copy()\n",
    "x_outline_trunk_down_2[y_outline > p5.real] = (\n",
    "    x_outline_trunk_down_2[y_outline > p5.real] \n",
    "    - 0.25 * (y_outline[y_outline > p5.real] - p5.real)\n",
    "    )\n",
    "x_outline_trunk_up[y_outline > p5.real] = (\n",
    "    x_outline_trunk_up[y_outline > p5.real] \n",
    "    + 0.25 * (y_outline[y_outline > p5.real] - p5.real)\n",
    "    )\n",
    "# plot wiggly trunk\n",
    "fig2, ax2 = plt.subplots()\n",
    "ax2.scatter(x_eye, y_eye)\n",
    "ax2.set_aspect('equal', 'box')\n",
    "ax2.plot(y_outline, -x_outline)\n",
    "ax2.plot(y_outline, -x_outline_trunk_down_2, zorder = -1)\n",
    "ax2.plot(y_outline, -x_outline_trunk_up, zorder = -2)\n"
   ]
  }
 ],
 "metadata": {
  "kernelspec": {
   "display_name": "rrmm",
   "language": "python",
   "name": "python3"
  },
  "language_info": {
   "codemirror_mode": {
    "name": "ipython",
    "version": 3
   },
   "file_extension": ".py",
   "mimetype": "text/x-python",
   "name": "python",
   "nbconvert_exporter": "python",
   "pygments_lexer": "ipython3",
   "version": "3.13.0"
  }
 },
 "nbformat": 4,
 "nbformat_minor": 5
}
