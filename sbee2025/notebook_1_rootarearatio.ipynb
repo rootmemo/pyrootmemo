{
 "cells": [
  {
   "cell_type": "markdown",
   "id": "ea3bb968",
   "metadata": {},
   "source": [
    "# Root area ratio\n",
    "\n"
   ]
  },
  {
   "cell_type": "markdown",
   "id": "0c218150",
   "metadata": {},
   "source": [
    "## Initialise code\n",
    "\n",
    "First, we need to load some python packages and functions. This will enable us to reading data from csv files, define units, and plot any results."
   ]
  },
  {
   "cell_type": "code",
   "execution_count": null,
   "id": "eb0861c9",
   "metadata": {},
   "outputs": [],
   "source": [
    "import numpy as np\n",
    "import matplotlib.pyplot as plt\n",
    "from pyrootmemo.io import read_csv_roots\n",
    "from pyrootmemo.helpers import units"
   ]
  },
  {
   "cell_type": "markdown",
   "id": "d59b1b99",
   "metadata": {},
   "source": [
    "## Load data\n",
    "\n",
    "There are two sources of data available in the \"sbee2025/data\" folder:\n",
    "\n",
    "* root intersection data for *Lolium perenne* (Talveg dataset)\n",
    "* root intersection for *Onobrychis viciifolia* (Talveg dataset)\n",
    "\n",
    "By default, this notebook loads the *Lolium perenne* data but you can easily change this out by changing the path to the relevant data file."
   ]
  },
  {
   "cell_type": "code",
   "execution_count": null,
   "id": "037046a2",
   "metadata": {},
   "outputs": [],
   "source": [
    "# load tensile strength data from csv\n",
    "data = read_csv_roots('data/experiment_lolium_perenne_talveg_20170615.csv')\n",
    "# data = read_csv_roots('data/experiment_onobrychis_viciifolia_talveg_20170615.csv')"
   ]
  },
  {
   "cell_type": "markdown",
   "id": "f6e118fe",
   "metadata": {},
   "source": [
    "Your data is loaded into the object `data`. This object has attributes:\n",
    "\n",
    "*  `diameter`: the diameter of each individual root\n",
    "* `x0`: x-position of each root intersection with the window\n",
    "* `y0`: y-position (depth) of each root intersection with the window\n",
    "\n",
    "These data keeps its measurement units with it, so there is never any confusion as to what it units are! \n",
    "\n",
    "We can access these attributes as follows:\n"
   ]
  },
  {
   "cell_type": "code",
   "execution_count": null,
   "id": "f67080b8",
   "metadata": {},
   "outputs": [],
   "source": [
    "# show data to screen using the 'print' command\n",
    "print(data.diameter)"
   ]
  },
  {
   "cell_type": "code",
   "execution_count": null,
   "id": "cf286b48",
   "metadata": {},
   "outputs": [],
   "source": [
    "# show only values (with no units, i.e. the \"magnitude\" of the measurement)\n",
    "print(data.diameter.magnitude)"
   ]
  },
  {
   "cell_type": "code",
   "execution_count": null,
   "id": "be01fcb6",
   "metadata": {},
   "outputs": [],
   "source": [
    "# show the unit of measurement\n",
    "print(data.diameter.units)"
   ]
  },
  {
   "cell_type": "markdown",
   "id": "778b1e08",
   "metadata": {},
   "source": [
    "We can easily convert between different unit types by using the `.to()` method."
   ]
  },
  {
   "cell_type": "code",
   "execution_count": null,
   "id": "e32f71a1",
   "metadata": {},
   "outputs": [],
   "source": [
    "# show diameter values in centimetres\n",
    "print(data.diameter.to('cm'))"
   ]
  },
  {
   "cell_type": "markdown",
   "id": "7ab9be89",
   "metadata": {},
   "source": [
    "## Plotting\n",
    "\n",
    "### Histogram of all diameters\n",
    "\n",
    "Let's plot a histogram showing the distribution of measured diameters."
   ]
  },
  {
   "cell_type": "code",
   "execution_count": null,
   "id": "36e6b0a2",
   "metadata": {},
   "outputs": [],
   "source": [
    "# plot a histogram\n",
    "plt.hist(data.diameter.magnitude)\n",
    "\n",
    "# set axis labels\n",
    "plt.xlabel('Diameter [' + str(data.diameter.units) + ']')\n",
    "plt.ylabel('Number of roots [-]')"
   ]
  },
  {
   "cell_type": "markdown",
   "id": "5e0774c9",
   "metadata": {},
   "source": [
    "## Total root area ratio"
   ]
  },
  {
   "cell_type": "markdown",
   "id": "69381e74",
   "metadata": {},
   "source": [
    "In order to calculate any root area ratios we need to define the size of the window.\n",
    "\n",
    "First, manually set the x (horizontal) and y (depth) position of the sides of the window. "
   ]
  },
  {
   "cell_type": "code",
   "execution_count": null,
   "id": "b5483fe3",
   "metadata": {},
   "outputs": [],
   "source": [
    "window_x = [0, 27] * units('cm')\n",
    "window_y = [0, 20] * units('cm')"
   ]
  },
  {
   "cell_type": "markdown",
   "id": "da2593f9",
   "metadata": {},
   "source": [
    "We can now calculate the area of the window:"
   ]
  },
  {
   "cell_type": "code",
   "execution_count": null,
   "id": "9317fc88",
   "metadata": {},
   "outputs": [],
   "source": [
    "window_width = window_x[1] - window_x[0]\n",
    "window_height = window_y[1] - window_y[0]\n",
    "window_area = window_width * window_height\n",
    "print(window_area)"
   ]
  },
  {
   "cell_type": "markdown",
   "id": "dbeb2202",
   "metadata": {},
   "source": [
    "The total root area ratio is defined as the total cross-sectional area of the root divided by the cross-sectional area of the soil. Let's do some calculations:"
   ]
  },
  {
   "cell_type": "code",
   "execution_count": null,
   "id": "e1fbb16d",
   "metadata": {},
   "outputs": [],
   "source": [
    "root_area_perroot = 0.25 * np.pi * data.diameter**2\n",
    "root_area_ratio_perroot = root_area_perroot / window_area\n",
    "root_area_ratio = sum(root_area_ratio_perroot)\n",
    "print(root_area_ratio)"
   ]
  },
  {
   "cell_type": "markdown",
   "id": "08651241",
   "metadata": {},
   "source": [
    "Root diameters and window dimensions may have different units (e.g. millimetres \n",
    "and centimetres). The root area ratio is now defined with unusual units. \n",
    "Therefore, let us convert the calculated root area ratio to a more \n",
    "user-friendly unit, such as a dimensionless unit (e.g. mm^2/mm^2) or \n",
    "a percentage:"
   ]
  },
  {
   "cell_type": "code",
   "execution_count": null,
   "id": "c156d3a2",
   "metadata": {},
   "outputs": [],
   "source": [
    "print(root_area_ratio.to(\"mm^2/mm^2\"))\n",
    "print(root_area_ratio.to(\"%\"))"
   ]
  },
  {
   "cell_type": "markdown",
   "id": "1ec456c5",
   "metadata": {},
   "source": [
    "## Locations of each individual root\n",
    "\n",
    "Let's also have a look at the locations of each root, using a scatter plot."
   ]
  },
  {
   "cell_type": "code",
   "execution_count": null,
   "id": "c4823f72",
   "metadata": {},
   "outputs": [],
   "source": [
    "# set measurement unit for axes\n",
    "axes_units = 'mm'\n",
    "\n",
    "# plot a scatter plot\n",
    "fig, ax = plt.subplots()\n",
    "scatter = plt.scatter(\n",
    "    data.x0.to(axes_units).magnitude,  # x-position\n",
    "    data.y0.to(axes_units).magnitude,  # y-position\n",
    "    c = data.diameter.magnitude,       # colours \n",
    "    alpha = 0.7                        # transparancy of marker points\n",
    "    )\n",
    "\n",
    "# set the axes\n",
    "ax.set_aspect('equal', 'box')\n",
    "ax.set_xlabel('x0 [' + axes_units + ']')\n",
    "ax.set_ylabel('y0 [' + axes_units + ']')\n",
    "ax.set_xlim(window_x.to(axes_units).magnitude)\n",
    "ax.set_ylim(reversed(window_y.to(axes_units).magnitude))\n",
    "\n",
    "# add a colour bar\n",
    "fig.colorbar(\n",
    "    scatter, \n",
    "    ax = ax, \n",
    "    label = 'Root diameter [' + str(data.diameter.units) + ']'\n",
    "    )"
   ]
  },
  {
   "cell_type": "markdown",
   "id": "4fa7c2fe",
   "metadata": {},
   "source": [
    "## Root area ratio per grid cell and diameter range\n",
    "\n",
    "Now make a plot that shows the root area ratio in each grid cell. \n",
    "\n",
    "First, define the number of individual bins in the 'x' and 'y' directions:"
   ]
  },
  {
   "cell_type": "code",
   "execution_count": null,
   "id": "ac586aa6",
   "metadata": {},
   "outputs": [],
   "source": [
    "x_bins = 5\n",
    "y_bins = 4"
   ]
  },
  {
   "cell_type": "markdown",
   "id": "d723326a",
   "metadata": {},
   "source": [
    "With these, we can define the bounding x and y positions of the edges of each grid cell:"
   ]
  },
  {
   "cell_type": "code",
   "execution_count": null,
   "id": "63b8e429",
   "metadata": {},
   "outputs": [],
   "source": [
    "x_edges = np.linspace(window_x[0], window_x[1], x_bins + 1)\n",
    "y_edges = np.linspace(window_y[0], window_y[1], y_bins + 1)"
   ]
  },
  {
   "cell_type": "markdown",
   "id": "e0e47e32",
   "metadata": {},
   "source": [
    "Now calculate the root area ratio contribution of each root to the window grid cell\n",
    "it is part of:"
   ]
  },
  {
   "cell_type": "code",
   "execution_count": null,
   "id": "616b278b",
   "metadata": {},
   "outputs": [],
   "source": [
    "# area of each grid cell\n",
    "grid_area = window_area / (x_bins * y_bins)\n",
    "print(grid_area)\n",
    "# contribution of each individual root to the total root area ratio in each grid cell\n",
    "rar_grid_contribution = root_area_perroot / grid_area"
   ]
  },
  {
   "cell_type": "markdown",
   "id": "c4ebdf77",
   "metadata": {},
   "source": [
    "We could plot the root area ratio for a series of diameter range. These ranges\n",
    "are dividided by limits. For example, the limits below - by default - specify\n",
    "three ranges: 0 to 0.5 mm, 0.5 to 1 mm and 1 to 100 mm. You can adjust this as you\n",
    "see fit."
   ]
  },
  {
   "cell_type": "code",
   "execution_count": null,
   "id": "a4d9822a",
   "metadata": {},
   "outputs": [],
   "source": [
    "# set the minimum and maximum diameter of all roots to include in the plot\n",
    "diameter_limits = [0, 0.5, 1, 100] * units('mm')"
   ]
  },
  {
   "cell_type": "markdown",
   "id": "7da8d241",
   "metadata": {},
   "source": [
    "With grids and diameter ranges defined, we can plot a 2-dimensional histogram showing \n",
    "how the root area ratio changes with changing positions along the window:"
   ]
  },
  {
   "cell_type": "code",
   "execution_count": null,
   "id": "0471b724",
   "metadata": {},
   "outputs": [],
   "source": [
    "# define unit system used for plotting\n",
    "axes_unit = 'mm'\n",
    "rar_unit = '%'\n",
    "\n",
    "# bin data and make subplot titles\n",
    "binned_data = []\n",
    "subplot_titles = []\n",
    "for dmin, dmax in zip(diameter_limits[:-1], diameter_limits[1:]):\n",
    "    mask = (data.diameter > dmin) & (data.diameter <= dmax)\n",
    "    binned_data.append(np.histogram2d(\n",
    "        data.x0[mask].to(axes_units).magnitude,  # x-positions of each root\n",
    "        data.y0[mask].to(axes_units).magnitude,  # y-positions of each root\n",
    "        bins = [\n",
    "            x_edges.to(axes_units).magnitude, \n",
    "            y_edges.to(axes_units).magnitude\n",
    "            ],                                   # bins settings\n",
    "        weights = rar_grid_contribution[mask].to(rar_unit).magnitude\n",
    "        ))\n",
    "    subplot_titles.append(str(dmin.magnitude) + '-' + str(dmax.magnitude) + ' mm')\n",
    "rar_max = max(np.max(i[0]) for i in binned_data)\n",
    "\n",
    "# plot binned results\n",
    "fig, axs = plt.subplots(1, len(diameter_limits) - 1, sharex = True, sharey = True, squeeze = False)\n",
    "axs[0, 0].set_ylabel('y0 [' + axes_units + ']')\n",
    "for ax, bi, spt in zip(axs.flatten(), binned_data, subplot_titles):\n",
    "    a = ax.imshow(\n",
    "        bi[0].transpose(),\n",
    "        vmin = 0.0,\n",
    "        vmax = rar_max,\n",
    "        cmap = \"Blues\",\n",
    "        origin = 'lower',\n",
    "        extent = [*window_x.to(axes_unit).magnitude, *window_y.to(axes_unit).magnitude]\n",
    "        )\n",
    "    ax.set_xlabel('x0 [' + axes_units + ']')\n",
    "    ax.set_ylim(reversed(window_y.to(axes_units).magnitude))\n",
    "    ax.set_title(spt)\n",
    "\n",
    "# add colourbar for root area ratio results\n",
    "fig.subplots_adjust(bottom = 0.25)\n",
    "cbar_ax = fig.add_axes([0.20, 0.05, 0.6, 0.05])\n",
    "fig.colorbar(\n",
    "    a, \n",
    "    cax = cbar_ax, \n",
    "    label = 'Root area ratio [%]',\n",
    "    orientation = 'horizontal')"
   ]
  },
  {
   "cell_type": "markdown",
   "id": "cc82fd80",
   "metadata": {},
   "source": [
    "Let us also calculate the total root area ratio per diameter class:"
   ]
  },
  {
   "cell_type": "code",
   "execution_count": null,
   "id": "8994c276",
   "metadata": {},
   "outputs": [],
   "source": [
    "average_rar_per_class = [np.mean(b[0]) for b in binned_data]\n",
    "for class_name, rar in zip(subplot_titles, average_rar_per_class):\n",
    "    print(class_name + ': ' + str(rar) + ' ' + rar_unit)"
   ]
  },
  {
   "cell_type": "markdown",
   "id": "3b19f200",
   "metadata": {},
   "source": [
    "## Explore!\n",
    "\n",
    "You can now investigate:\n",
    "\n",
    "* How does the root area ratio change with depth? You could look at this by:\n",
    "  * varying the number of y-bins\n",
    "  * setting the number of bins in the x-direction to 1\n",
    "  * setting a wide diameter class to capture all roots, i.e.:\n",
    "    `diameter_range = [0, 100] * units('mm')`\n",
    "\n",
    "* What is the contribution of different diameter ranges to the total root \n",
    "  area ratio?. Does most of the root area ratio come from relatively thin \n",
    "  or relatively thick roots?\n",
    "\n",
    "* Vary the number of bins in x and y-directions. What do you think is a \n",
    "  reasonable bin size for this data?\n",
    "  \n",
    "  * ...too many bins and we get a lot of scatter...\n",
    "  * ...too few bins and we lose too much information about the location of each root...\n",
    "\n",
    "* Now use a different dataset, for example the data for\n",
    "  *Onobrychis viciifolia*. Are your results and choices different?"
   ]
  }
 ],
 "metadata": {
  "kernelspec": {
   "display_name": "rrmm",
   "language": "python",
   "name": "python3"
  },
  "language_info": {
   "codemirror_mode": {
    "name": "ipython",
    "version": 3
   },
   "file_extension": ".py",
   "mimetype": "text/x-python",
   "name": "python",
   "nbconvert_exporter": "python",
   "pygments_lexer": "ipython3",
   "version": "3.13.0"
  }
 },
 "nbformat": 4,
 "nbformat_minor": 5
}
