{
 "cells": [
  {
   "cell_type": "markdown",
   "id": "ea3bb968",
   "metadata": {},
   "source": [
    "# Power law fitting\n",
    "\n"
   ]
  },
  {
   "cell_type": "markdown",
   "id": "0c218150",
   "metadata": {},
   "source": [
    "## Initialise code\n",
    "\n",
    "First, we need to load some packages and functions. This will enable us to reading data from csv files, make power law fits and to plot any results."
   ]
  },
  {
   "cell_type": "code",
   "execution_count": 70,
   "id": "eb0861c9",
   "metadata": {},
   "outputs": [],
   "source": [
    "from pyrootmemo.io import read_csv_roots\n",
    "from pyrootmemo.fit import Powerlaw\n",
    "import matplotlib.pyplot as plt"
   ]
  },
  {
   "cell_type": "markdown",
   "id": "d59b1b99",
   "metadata": {},
   "source": [
    "## Load data\n",
    "\n",
    "By default, this script uses tensile strength data measured for Maize plants, as described by Meijer et al. (2024), see https://doi.org/10.1007/s11104-024-06507-y\n",
    "\n",
    "Alternatively, you can read in your own data by placing a comma seperated .csv file in the project folder and adjusting the path below. Your csv file must have (at least) two columns, one for diameter and one for tensile strength measurements. All column should be named in the .csv header row using the following convention:\n",
    "\n",
    "* 'diameter_unit'\n",
    "* 'tensile_strength_unit'\n",
    "\n",
    "where 'unit' is the measurement unit in your data. For example, the default data had headers 'diameter_mm' and 'tensile_strength_MPa' for the columns containing diameter (measured in millimetres) and tensile strength values (measured in megapascals)."
   ]
  },
  {
   "cell_type": "code",
   "execution_count": 71,
   "id": "037046a2",
   "metadata": {},
   "outputs": [],
   "source": [
    "# load tensile strength data from csv\n",
    "data = read_csv_roots('data/tensile_maize_meijer2024.csv')"
   ]
  },
  {
   "cell_type": "markdown",
   "id": "f6e118fe",
   "metadata": {},
   "source": [
    "Your data is loaded into the object `data`. This object has attributes `diameter` and `tensile_strength` (and perhaps others too if you use your own data) that contain each lists of data. These data keeps its measurement units with it, so there is never any confusion as to what it units are! \n",
    "\n",
    "We can access data in the object by:\n"
   ]
  },
  {
   "cell_type": "code",
   "execution_count": 72,
   "id": "f67080b8",
   "metadata": {},
   "outputs": [
    {
     "name": "stdout",
     "output_type": "stream",
     "text": [
      "[0.65 0.81 0.97 1.0 1.02 1.02 1.03 1.03 1.17 1.17 1.19 1.19 1.2 1.21 1.23 1.25 1.31 1.31 1.33 1.37 1.41 1.42 1.43 1.53 1.55 1.66 1.81 1.83 1.9 1.92 1.94 1.94 1.94 1.95 1.96 1.99 2.02 2.03 2.03 2.31 2.45 2.59 2.74 2.81 3.8 3.89] millimeter\n"
     ]
    }
   ],
   "source": [
    "# show data to screen\n",
    "print(data.diameter)"
   ]
  },
  {
   "cell_type": "code",
   "execution_count": 73,
   "id": "cf286b48",
   "metadata": {},
   "outputs": [
    {
     "name": "stdout",
     "output_type": "stream",
     "text": [
      "[0.65 0.81 0.97 1.   1.02 1.02 1.03 1.03 1.17 1.17 1.19 1.19 1.2  1.21\n",
      " 1.23 1.25 1.31 1.31 1.33 1.37 1.41 1.42 1.43 1.53 1.55 1.66 1.81 1.83\n",
      " 1.9  1.92 1.94 1.94 1.94 1.95 1.96 1.99 2.02 2.03 2.03 2.31 2.45 2.59\n",
      " 2.74 2.81 3.8  3.89]\n"
     ]
    }
   ],
   "source": [
    "# show only values (with no units)\n",
    "print(data.diameter.magnitude)"
   ]
  },
  {
   "cell_type": "code",
   "execution_count": 74,
   "id": "be01fcb6",
   "metadata": {},
   "outputs": [
    {
     "name": "stdout",
     "output_type": "stream",
     "text": [
      "millimeter\n"
     ]
    }
   ],
   "source": [
    "# show the unit of measurement\n",
    "print(data.diameter.units)"
   ]
  },
  {
   "cell_type": "markdown",
   "id": "7ab9be89",
   "metadata": {},
   "source": [
    "Let's plot a histogram showing the distribution of tested diameters."
   ]
  },
  {
   "cell_type": "code",
   "execution_count": 75,
   "id": "36e6b0a2",
   "metadata": {},
   "outputs": [
    {
     "data": {
      "text/plain": [
       "Text(0, 0.5, 'Number of roots [-]')"
      ]
     },
     "execution_count": 75,
     "metadata": {},
     "output_type": "execute_result"
    },
    {
     "data": {
      "image/png": "[encoded data removed]",
      "text/plain": [
       "<Figure size 432x288 with 1 Axes>"
      ]
     },
     "metadata": {
      "needs_background": "light"
     },
     "output_type": "display_data"
    }
   ],
   "source": [
    "plt.hist(data.diameter.magnitude)\n",
    "plt.xlabel('Diameter [' + str(data.diameter.units) + ']')\n",
    "plt.ylabel('Number of roots [-]')"
   ]
  },
  {
   "cell_type": "markdown",
   "id": "1ec456c5",
   "metadata": {},
   "source": [
    "Let's also have a look at all diameter and tensile strength measurements in a scatter plot, so we know what we are trying to fit."
   ]
  },
  {
   "cell_type": "code",
   "execution_count": 76,
   "id": "b66012e6",
   "metadata": {},
   "outputs": [
    {
     "data": {
      "text/plain": [
       "Text(0, 0.5, 'Tensile strength [megapascal]')"
      ]
     },
     "execution_count": 76,
     "metadata": {},
     "output_type": "execute_result"
    },
    {
     "data": {
      "image/png": "[encoded data removed]",
      "text/plain": [
       "<Figure size 432x288 with 1 Axes>"
      ]
     },
     "metadata": {
      "needs_background": "light"
     },
     "output_type": "display_data"
    }
   ],
   "source": [
    "plt.scatter(data.diameter.magnitude, data.tensile_strength.magnitude)\n",
    "plt.xlabel('Diameter [' + str(data.diameter.units) + ']')\n",
    "plt.ylabel('Tensile strength [' + str(data.tensile_strength.units) + ']')"
   ]
  },
  {
   "cell_type": "markdown",
   "id": "919f5383",
   "metadata": {},
   "source": [
    "## Fit\n",
    "\n",
    "Let's now generate some power law fits for your data.\n",
    "\n",
    "There are different fitting models to choose from in `pyrootmemo`. These models are further described in Meijer (2025), see https://doi.org/10.1007/s11104-024-07007-9. Currently, you can choose from:\n",
    "\n",
    "| pyrootmemo name | distribution | scaling intra-diameter variation | notes\n",
    "| --- | --- | --- | --- \n",
    "| `gamma` | gamma | scales with mean | |\n",
    "| `gumbel` | gumbel | scales with mean | |\n",
    "| `logistic` | logistic | scales with mean | |\n",
    "| `lognormal` | lognormal | scales with mean | |\n",
    "| `lognormal_uncorrected` | lognormal | scales with mean | not corrected for geometric mean |\n",
    "| `normal` | normal | constant with diameter (in terms of strength) | same as least-squared regression of diameter--strength data |\n",
    "| `normal_force` | normal | constant with diameter (in terms of force) | same as to least-squared regression of diameter--force at failure data |\n",
    "| `normal_scaled` | normal | scales with mean | |\n",
    "| `normal_freesd` | normal | varies with diameter according to seperate power law | |\n",
    "| `uniform` | uniform | scales with mean | |\n",
    "| `weibull` | weibull | scales with mean | |\n",
    "\n",
    "We suggest you start with `normal`. This is the (conventional) least-squared regression method. Then try some of the other fits to see how the fit changes. "
   ]
  },
  {
   "cell_type": "code",
   "execution_count": 77,
   "id": "9da35273",
   "metadata": {},
   "outputs": [
    {
     "name": "stdout",
     "output_type": "stream",
     "text": [
      "Multiplier: 11.687358951732259 megapascal\n",
      "Exponent: -0.5287449995053787\n",
      "Kolmogorov-Smirnov distance:  0.13494238221932653\n",
      "Loglikelihood:  -123.50724725435254\n"
     ]
    },
    {
     "data": {
      "text/plain": [
       "(<Figure size 432x288 with 1 Axes>,\n",
       " <Axes: xlabel='Diameter [mm]', ylabel='Tensile strength [MPa]'>)"
      ]
     },
     "execution_count": 77,
     "metadata": {},
     "output_type": "execute_result"
    },
    {
     "data": {
      "image/png": "[encoded data removed]",
      "text/plain": [
       "<Figure size 432x288 with 1 Axes>"
      ]
     },
     "metadata": {
      "needs_background": "light"
     },
     "output_type": "display_data"
    }
   ],
   "source": [
    "# define fit type\n",
    "fit_model = 'normal'\n",
    "\n",
    "# generate tensile strength fit object\n",
    "fit = Powerlaw(\n",
    "    data.diameter, \n",
    "    data.tensile_strength, \n",
    "    model = fit_model\n",
    "    )\n",
    "\n",
    "# show best-fitting power law parameters\n",
    "print('Multiplier:', fit.multiplier)\n",
    "print('Exponent:', fit.exponent)\n",
    "# show  Kolmogorov-Smirnov distance (smaller values are a measure for better fits)\n",
    "print('Kolmogorov-Smirnov distance: ', fit.ks_distance())\n",
    "# show loglikelihood score of fit (larger values are a measure for better fits)\n",
    "print('Loglikelihood: ', fit.loglikelihood())\n",
    "\n",
    "# plot results (plus confidence and/or prediction intervals)\n",
    "fit.plot(\n",
    "    confidence = True, \n",
    "    prediction = True, \n",
    "    confidence_level = 0.95,\n",
    "    prediction_level = 0.95\n",
    "    )"
   ]
  },
  {
   "cell_type": "markdown",
   "id": "fa7df7e2",
   "metadata": {},
   "source": [
    "The confidence interval shows you the band in which the **fit** will be, with 95% certainty. Thinner bands are better.\n",
    "\n",
    "The prediction interval shows the band in which any **new data** is predicted to be, based on the current fit, with 95% probability. This interval should match the measured data as closely as possible for any diameter."
   ]
  },
  {
   "cell_type": "markdown",
   "id": "f286b16d",
   "metadata": {},
   "source": [
    "## Explore!\n",
    "\n",
    "* What fitting model gives the most reliable results for your data?"
   ]
  }
 ],
 "metadata": {
  "kernelspec": {
   "display_name": "rrmm",
   "language": "python",
   "name": "python3"
  },
  "language_info": {
   "codemirror_mode": {
    "name": "ipython",
    "version": 3
   },
   "file_extension": ".py",
   "mimetype": "text/x-python",
   "name": "python",
   "nbconvert_exporter": "python",
   "pygments_lexer": "ipython3",
   "version": "3.13.0"
  }
 },
 "nbformat": 4,
 "nbformat_minor": 5
}
