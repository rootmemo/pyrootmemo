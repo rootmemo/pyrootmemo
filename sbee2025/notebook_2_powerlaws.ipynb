{
 "cells": [
  {
   "cell_type": "markdown",
   "id": "ea3bb968",
   "metadata": {},
   "source": [
    "# Power law fitting\n",
    "\n"
   ]
  },
  {
   "cell_type": "markdown",
   "id": "0c218150",
   "metadata": {},
   "source": [
    "## Initialise code\n",
    "\n",
    "First, we need to load some packages and functions. This will enable us to reading data from csv files, make power law fits and to plot any results."
   ]
  },
  {
   "cell_type": "code",
   "execution_count": null,
   "id": "eb0861c9",
   "metadata": {},
   "outputs": [],
   "source": [
    "from pyrootmemo.io import read_csv_roots\n",
    "from pyrootmemo.fit import Powerlaw\n",
    "import matplotlib.pyplot as plt"
   ]
  },
  {
   "cell_type": "markdown",
   "id": "d59b1b99",
   "metadata": {},
   "source": [
    "## Load data\n",
    "\n",
    "There are three sources of data available in the \"sbee2025/data\" folder:\n",
    "\n",
    "* tensile test data for Maize (Meijer et al (2024, see https://doi.org/10.1007/s11104-024-06507-y))\n",
    "* tensile test data for *Lolium perenne* (Talveg dataset)\n",
    "* tensile test data for *Onobrychis viciifolia* (Talveg dataset)\n",
    "\n",
    "By default, this notebook loads the Maize data but you can easily change this out by changing the path to the relevant data file.\n",
    "\n",
    "Alternatively, you can read in your own data by placing a comma seperated .csv file in the project folder and adjusting the path below. Your csv file must have (at least) two columns, one for diameter and one for tensile strength measurements. All column should be named in the .csv header row using the following convention:\n",
    "\n",
    "* 'diameter_unit'\n",
    "* 'tensile_strength_unit'\n",
    "\n",
    "where 'unit' is the measurement unit in your data. For example, the default data had headers 'diameter_mm' and 'tensile_strength_MPa' for the columns containing diameter (measured in millimetres) and tensile strength values (measured in megapascals)."
   ]
  },
  {
   "cell_type": "code",
   "execution_count": null,
   "id": "037046a2",
   "metadata": {},
   "outputs": [],
   "source": [
    "# load tensile strength data from csv\n",
    "data = read_csv_roots('data/tensile_maize_meijer2024.csv')\n",
    "# data = read_csv_roots('data/tensile_lolium_perenne_talveg.csv')\n",
    "# data = read_csv_roots('data/tensile_onobrychis_viciifolia_talveg.csv')\n"
   ]
  },
  {
   "cell_type": "markdown",
   "id": "f6e118fe",
   "metadata": {},
   "source": [
    "Your data is loaded into the object `data`. This object has attributes `diameter` and `tensile_strength` (and perhaps others too if you use your own data) that contain each lists of data. These data keeps its measurement units with it, so there is never any confusion as to what it units are! "
   ]
  },
  {
   "cell_type": "markdown",
   "id": "7ab9be89",
   "metadata": {},
   "source": [
    "Let's plot a histogram showing the distribution of tested diameters."
   ]
  },
  {
   "cell_type": "code",
   "execution_count": null,
   "id": "36e6b0a2",
   "metadata": {},
   "outputs": [],
   "source": [
    "plt.hist(data.diameter.magnitude)\n",
    "plt.xlabel('Diameter [' + str(data.diameter.units) + ']')\n",
    "plt.ylabel('Number of roots [-]')"
   ]
  },
  {
   "cell_type": "markdown",
   "id": "1ec456c5",
   "metadata": {},
   "source": [
    "Let's also have a look at all diameter and tensile strength measurements in a scatter plot, so we know what we are trying to fit."
   ]
  },
  {
   "cell_type": "code",
   "execution_count": null,
   "id": "b66012e6",
   "metadata": {},
   "outputs": [],
   "source": [
    "plt.scatter(data.diameter.magnitude, data.tensile_strength.magnitude)\n",
    "plt.xlabel('Diameter [' + str(data.diameter.units) + ']')\n",
    "plt.ylabel('Tensile strength [' + str(data.tensile_strength.units) + ']')"
   ]
  },
  {
   "cell_type": "markdown",
   "id": "919f5383",
   "metadata": {},
   "source": [
    "## Fit\n",
    "\n",
    "Let's now generate some power law fits for your data.\n",
    "\n",
    "There are different fitting models to choose from in `pyrootmemo`. These models are further described in Meijer (2025), see https://doi.org/10.1007/s11104-024-07007-9. Currently, you can choose from:\n",
    "\n",
    "| pyrootmemo name | distribution | scaling intra-diameter variation | notes\n",
    "| --- | --- | --- | --- \n",
    "| `gamma` | gamma | scales with mean | |\n",
    "| `gumbel` | gumbel | scales with mean | |\n",
    "| `logistic` | logistic | scales with mean | |\n",
    "| `lognormal` | lognormal | scales with mean | |\n",
    "| `lognormal_uncorrected` | lognormal | scales with mean | not corrected for geometric mean |\n",
    "| `normal` | normal | constant with diameter (in terms of strength) | same as least-squared regression of diameter--strength data |\n",
    "| `normal_force` | normal | constant with diameter (in terms of force) | same as to least-squared regression of diameter--force at failure data |\n",
    "| `normal_scaled` | normal | scales with mean | |\n",
    "| `normal_freesd` | normal | varies with diameter according to seperate power law | |\n",
    "| `uniform` | uniform | scales with mean | |\n",
    "| `weibull` | weibull | scales with mean | |\n",
    "\n",
    "We suggest you start with `normal`. This is the (conventional) least-squared regression method. Then try some of the other fits to see how the fit changes. "
   ]
  },
  {
   "cell_type": "code",
   "execution_count": null,
   "id": "9da35273",
   "metadata": {},
   "outputs": [],
   "source": [
    "# define fit type\n",
    "fit_model = 'normal'\n",
    "\n",
    "# generate tensile strength fit object\n",
    "fit = Powerlaw(\n",
    "    data.diameter, \n",
    "    data.tensile_strength, \n",
    "    model = fit_model\n",
    "    )\n",
    "\n",
    "# show best-fitting power law parameters\n",
    "print('Multiplier:', fit.multiplier)\n",
    "print('Exponent:', fit.exponent)\n",
    "# show Kolmogorov-Smirnov distance (smaller values indicate chosen distribution is more suitable)\n",
    "print('Kolmogorov-Smirnov distance:', fit.ks_distance())\n",
    "# show loglikelihood result (larger values are a measure for better fits)\n",
    "print('Loglikelihood:', fit.loglikelihood())\n",
    "\n",
    "# plot results (plus confidence and/or prediction intervals)\n",
    "fit.plot(\n",
    "    confidence = True, \n",
    "    prediction = True, \n",
    "    confidence_level = 0.95,\n",
    "    prediction_level = 0.95\n",
    "    )"
   ]
  },
  {
   "cell_type": "markdown",
   "id": "fa7df7e2",
   "metadata": {},
   "source": [
    "The confidence interval shows you the band in which the **fit** will be, with 95% certainty. Thinner bands are better.\n",
    "\n",
    "The prediction interval shows the band in which any **new data** is predicted to be, based on the current fit, with 95% probability. This interval should match the measured data as closely as possible for any diameter."
   ]
  },
  {
   "cell_type": "markdown",
   "id": "f286b16d",
   "metadata": {},
   "source": [
    "## Explore!\n",
    "\n",
    "* What fitting model gives the most reliable results for your data?\n",
    "* Try with a different set of data, e.g.:\n",
    "  * *Lolium perenne*\n",
    "  * *Onobrychis viciifolia*\n",
    "  \n",
    "  Is the 'best' model different?"
   ]
  }
 ],
 "metadata": {
  "kernelspec": {
   "display_name": "rrmm",
   "language": "python",
   "name": "python3"
  },
  "language_info": {
   "codemirror_mode": {
    "name": "ipython",
    "version": 3
   },
   "file_extension": ".py",
   "mimetype": "text/x-python",
   "name": "python",
   "nbconvert_exporter": "python",
   "pygments_lexer": "ipython3",
   "version": "3.13.0"
  }
 },
 "nbformat": 4,
 "nbformat_minor": 5
}
