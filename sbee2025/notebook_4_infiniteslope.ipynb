{
 "cells": [
  {
   "cell_type": "markdown",
   "id": "f3234a0e",
   "metadata": {},
   "source": [
    "# Infinite slope analysis"
   ]
  },
  {
   "cell_type": "markdown",
   "id": "1ed66009",
   "metadata": {},
   "source": [
    "## Initialise code\n",
    "\n",
    "First, we need to load some packages and functions."
   ]
  },
  {
   "cell_type": "code",
   "execution_count": 1,
   "id": "ae5b12da",
   "metadata": {},
   "outputs": [],
   "source": [
    "# load pyrootmemo objects\n",
    "from pyrootmemo.materials import Soil\n",
    "from pyrootmemo.geometry import SoilProfile, FailureSurface\n",
    "from pyrootmemo.stability import InfiniteSlope\n",
    "# define parameter object (value + unit), used later to define soil, root and geometry parameters\n",
    "from pyrootmemo.helpers import Parameter"
   ]
  },
  {
   "cell_type": "markdown",
   "id": "df8e4baf",
   "metadata": {},
   "source": [
    "## Define soil profile and failure surface"
   ]
  },
  {
   "cell_type": "markdown",
   "id": "eaaf1457",
   "metadata": {},
   "source": [
    "First, define a series of soils"
   ]
  },
  {
   "cell_type": "code",
   "execution_count": 2,
   "id": "19312ed1",
   "metadata": {},
   "outputs": [],
   "source": [
    "# 'typical' clayey material\n",
    "clay = Soil(\n",
    "    'Clay',\n",
    "    cohesion = Parameter(10, 'kPa'),\n",
    "    friction_angle = Parameter(17.5, 'degrees'),\n",
    "    unit_weight_bulk = Parameter(16, 'kN/m^3'),\n",
    "    unit_weight_saturated = Parameter(18, 'kN/m^3')\n",
    "    )\n",
    "\n",
    "# 'typical' sandy material\n",
    "sand = Soil(\n",
    "    'Sand',\n",
    "    cohesion = Parameter(0, 'kPa'),\n",
    "    friction_angle = Parameter(35, 'degrees'),\n",
    "    unit_weight_bulk = Parameter(18, 'kN/m^3'),\n",
    "    unit_weight_saturated = Parameter(20, 'kN/m^3')\n",
    "    )"
   ]
  },
  {
   "cell_type": "markdown",
   "id": "466444dd",
   "metadata": {},
   "source": [
    "Combine soils, and information about the water table, into a soil profile. In the code below, we define a soil profile consisting of 2 meters of clay on top of 8 meters of sand."
   ]
  },
  {
   "cell_type": "code",
   "execution_count": 3,
   "id": "ed51e172",
   "metadata": {},
   "outputs": [],
   "source": [
    "soil_profile = SoilProfile(\n",
    "    [clay, sand],                           # clay on top of sand\n",
    "    depth = Parameter([2.0, 10.0], 'm'),    # 2 m thick clay layer, 8 m thick sand layer\n",
    "    groundwater_table = Parameter(1.5, 'm') # groundwater table at 1.5 m below ground surface\n",
    "    )"
   ]
  },
  {
   "cell_type": "markdown",
   "id": "d3c3603f",
   "metadata": {},
   "source": [
    "Define the failure surface surface:"
   ]
  },
  {
   "cell_type": "code",
   "execution_count": 4,
   "id": "7b939e71",
   "metadata": {},
   "outputs": [],
   "source": [
    "failure_surface = FailureSurface(\n",
    "    depth = Parameter(3, 'm'),             # depth of failure surface below ground surface\n",
    "    orientation = Parameter(20, 'degrees') # slope angle of the failure surface \n",
    "    )    "
   ]
  },
  {
   "cell_type": "markdown",
   "id": "ebe1eef3",
   "metadata": {},
   "source": [
    "Set an amount of root cohesion at the failure surface. You could also use the peak root reinforcement output object from any of the reinforcement models we used at directly!"
   ]
  },
  {
   "cell_type": "code",
   "execution_count": 5,
   "id": "427df234",
   "metadata": {},
   "outputs": [],
   "source": [
    "root_reinforcement = Parameter(2.0, 'kPa')"
   ]
  },
  {
   "cell_type": "markdown",
   "id": "8af49e24",
   "metadata": {},
   "source": [
    "## Infinite slope calculation"
   ]
  },
  {
   "cell_type": "markdown",
   "id": "f5366598",
   "metadata": {},
   "source": [
    "Create an inifite slope model object instance, using the objects and parameters defined earlier:"
   ]
  },
  {
   "cell_type": "code",
   "execution_count": 6,
   "id": "998f051f",
   "metadata": {},
   "outputs": [],
   "source": [
    "infinite_slope = InfiniteSlope(\n",
    "    soil_profile, \n",
    "    failure_surface,\n",
    "    root_reinforcement = root_reinforcement\n",
    "    )"
   ]
  },
  {
   "cell_type": "markdown",
   "id": "26a260a3",
   "metadata": {},
   "source": [
    "Display some infinite slope model results"
   ]
  },
  {
   "cell_type": "code",
   "execution_count": 7,
   "id": "506af8fe",
   "metadata": {},
   "outputs": [
    {
     "name": "stdout",
     "output_type": "stream",
     "text": [
      "pore pressure: 12.993671990247881 kilopascal\n",
      "resisting stress: 25.67157016836392 kilopascal\n",
      "destabilising stress: 17.033871656693293 kilopascal\n",
      "Factor of safety: 1.5070895616544422\n"
     ]
    }
   ],
   "source": [
    "print('pore pressure:', infinite_slope.pore_pressure.to('kPa'))\n",
    "print('resisting stress:', infinite_slope.resisting_stress.to('kPa'))\n",
    "print('destabilising stress:', infinite_slope.destabilising_stress.to('kPa'))\n",
    "print('Factor of safety:', infinite_slope.fos)"
   ]
  },
  {
   "cell_type": "markdown",
   "id": "cae8bc6f",
   "metadata": {},
   "source": [
    "## Explore!\n",
    "\n",
    "How is the factor of safety affected by changes in:\n",
    "* Root 'cohesion' values, for example those predicted by different reinforcement models?\n",
    "* Soil properties and profile?\n",
    "* Groundwater conditions. Is the slope safer when the groundwater table is shallow or deep?\n"
   ]
  }
 ],
 "metadata": {
  "kernelspec": {
   "display_name": "rrmm",
   "language": "python",
   "name": "python3"
  },
  "language_info": {
   "codemirror_mode": {
    "name": "ipython",
    "version": 3
   },
   "file_extension": ".py",
   "mimetype": "text/x-python",
   "name": "python",
   "nbconvert_exporter": "python",
   "pygments_lexer": "ipython3",
   "version": "3.13.0"
  }
 },
 "nbformat": 4,
 "nbformat_minor": 5
}
