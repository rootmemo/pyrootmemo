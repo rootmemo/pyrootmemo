{
 "cells": [
  {
   "cell_type": "code",
   "execution_count": null,
   "metadata": {},
   "outputs": [],
   "source": [
    "import matplotlib.pyplot as plt\n",
    "import numpy as np\n",
    "from waldron_gjm import RootMultiple, Waldron1977"
   ]
  },
  {
   "cell_type": "code",
   "execution_count": null,
   "metadata": {},
   "outputs": [],
   "source": [
    "# define roots\n",
    "roots = RootMultiple(np.array([1,2,3]), np.array([30,20,10]), np.array([300,300,300]))\n",
    "# define soil and interface parameters\n",
    "shearzone_thickness = 10.\n",
    "soil_friction_angle = np.tan(30.)\n",
    "interface_resistance = 0.05"
   ]
  },
  {
   "cell_type": "code",
   "execution_count": null,
   "metadata": {},
   "outputs": [],
   "source": [
    "# generate class\n",
    "waldron = Waldron1977(roots, shearzone_thickness, soil_friction_angle, interface_resistance)\n",
    "# calculate reinforcements at defined shear displacements\n",
    "shear_displacement = np.linspace(0.01, 25, 101)\n",
    "reinforcement = waldron.reinforcement(shear_displacement)"
   ]
  },
  {
   "cell_type": "code",
   "execution_count": null,
   "metadata": {},
   "outputs": [],
   "source": [
    "# plot results\n",
    "plt.plot(shear_displacement, reinforcement)"
   ]
  }
 ],
 "metadata": {
  "language_info": {
   "name": "python"
  }
 },
 "nbformat": 4,
 "nbformat_minor": 2
}
