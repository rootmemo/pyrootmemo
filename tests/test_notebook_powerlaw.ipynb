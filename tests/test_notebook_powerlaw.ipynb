{
 "cells": [
  {
   "cell_type": "code",
   "execution_count": 1,
   "metadata": {},
   "outputs": [],
   "source": [
    "from pyrootmemo.fit.fit_xy_powerlaw import PowerlawFitWeibull\n",
    "import numpy as np"
   ]
  },
  {
   "cell_type": "code",
   "execution_count": 9,
   "metadata": {},
   "outputs": [],
   "source": [
    "# generate data\n",
    "rng = np.random.default_rng()\n",
    "x = np.linspace(1, 5, 50)\n",
    "y = 10 * x**(-0.5) * rng.uniform(0.5, 1.5, len(x))\n",
    "w = np.ones(len(x))"
   ]
  },
  {
   "cell_type": "code",
   "execution_count": 12,
   "metadata": {},
   "outputs": [
    {
     "name": "stdout",
     "output_type": "stream",
     "text": [
      "False\n",
      "9.18392396953024\n",
      "-0.405372418953982\n",
      "4.16621102383425\n",
      "[7.97820809 6.5150027  7.11867273]\n",
      "0.5590770050392733\n",
      "[[ 0.69640873 -0.06057086  0.10941827]\n",
      " [-0.06057086  0.00641171 -0.00350668]\n",
      " [ 0.10941827 -0.00350668  0.21736127]]\n",
      "[[ 0.81754909 -0.05991239  0.11204651]\n",
      " [-0.05991239  0.00537157 -0.00199658]\n",
      " [ 0.11204651 -0.00199658  0.17211449]]\n"
     ]
    }
   ],
   "source": [
    "# Weibull\n",
    "P = PowerlawFitWeibull(x, y)\n",
    "print(P.colinear)\n",
    "print(P.multiplier)\n",
    "print(P.exponent)\n",
    "print(P.shape)\n",
    "print(P.random(np.array([2, 3, 4])))\n",
    "print(P.ks_distance())\n",
    "print(P.covariance())\n",
    "print(P.covariance(method = 'bootstrap'))"
   ]
  }
 ],
 "metadata": {
  "kernelspec": {
   "display_name": "rrmm",
   "language": "python",
   "name": "python3"
  },
  "language_info": {
   "codemirror_mode": {
    "name": "ipython",
    "version": 3
   },
   "file_extension": ".py",
   "mimetype": "text/x-python",
   "name": "python",
   "nbconvert_exporter": "python",
   "pygments_lexer": "ipython3",
   "version": "3.13.0"
  }
 },
 "nbformat": 4,
 "nbformat_minor": 2
}
