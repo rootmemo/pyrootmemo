{
 "cells": [
  {
   "cell_type": "code",
   "execution_count": 1,
   "metadata": {},
   "outputs": [],
   "source": [
    "from pyrootmemo.fit.fit_x_binned import PowerFitBinned\n",
    "import numpy as np\n",
    "from pyrootmemo.tools.helpers import units\n",
    "import matplotlib.pyplot as plt"
   ]
  },
  {
   "cell_type": "code",
   "execution_count": 22,
   "metadata": {},
   "outputs": [
    {
     "data": {
      "text/plain": [
       "[<matplotlib.lines.Line2D at 0x1c9da30f890>]"
      ]
     },
     "execution_count": 22,
     "metadata": {},
     "output_type": "execute_result"
    },
    {
     "data": {
      "image/png": "[encoded data removed]",
      "text/plain": [
       "<Figure size 432x288 with 1 Axes>"
      ]
     },
     "metadata": {
      "needs_background": "light"
     },
     "output_type": "display_data"
    }
   ],
   "source": [
    "# generate data\n",
    "rng = np.random.default_rng()\n",
    "sd_multiplier = 2.0\n",
    "n_bin = 50\n",
    "x_all = np.linspace(1, 7, n_bin + 1)\n",
    "x = np.column_stack((x_all[:-1], x_all[1:]))\n",
    "y = 100 * x[:,0]**(-2) * rng.uniform(0.5, 1.5, n_bin)\n",
    "\n",
    "x = np.array([[1, 1.01], [5,5.01], [10,10.01]])\n",
    "y = np.array([100, 4, 1])\n",
    "\n",
    "# with units - generate\n",
    "xu = x * units(\"mm\")\n",
    "yu = y * units(\"mm^3\")\n",
    "# show\n",
    "plt.plot(x[:, 0], y, 'x')"
   ]
  },
  {
   "cell_type": "code",
   "execution_count": 30,
   "metadata": {},
   "outputs": [
    {
     "name": "stdout",
     "output_type": "stream",
     "text": [
      "10.981413191732369 millimeter ** 3\n",
      "-11.981413192235742\n",
      "0.9999999999958258 millimeter\n",
      "25.866535966752384 millimeter\n"
     ]
    }
   ],
   "source": [
    "P = PowerFitBinned(xu, yu, weights_exponent = 0.0)\n",
    "print(P.multiplier)\n",
    "print(P.exponent)\n",
    "print(P.lower)\n",
    "print(P.upper)"
   ]
  }
 ],
 "metadata": {
  "kernelspec": {
   "display_name": "rrmm",
   "language": "python",
   "name": "python3"
  },
  "language_info": {
   "codemirror_mode": {
    "name": "ipython",
    "version": 3
   },
   "file_extension": ".py",
   "mimetype": "text/x-python",
   "name": "python",
   "nbconvert_exporter": "python",
   "pygments_lexer": "ipython3",
   "version": "3.13.0"
  }
 },
 "nbformat": 4,
 "nbformat_minor": 2
}
