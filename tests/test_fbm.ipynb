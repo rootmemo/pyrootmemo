{
 "cells": [
  {
   "cell_type": "code",
   "execution_count": 1,
   "metadata": {},
   "outputs": [],
   "source": [
    "import numpy as np\n",
    "from pyrootmemo.materials import SingleRoot, MultipleRoots, Parameter\n",
    "from pyrootmemo.tools.helpers import units"
   ]
  },
  {
   "cell_type": "code",
   "execution_count": 3,
   "metadata": {},
   "outputs": [],
   "source": [
    "poa = SingleRoot(species=\"poa_pratensis\",\n",
    "                    diameter=Parameter(0.001,\"mm\"),\n",
    "                    tensile_strength=Parameter(1,\"MPa\"))"
   ]
  },
  {
   "cell_type": "code",
   "execution_count": null,
   "metadata": {},
   "outputs": [],
   "source": [
    "poa = MultipleRoots(species=\"poa_pratensis\",\n",
    "                    diameter=Parameter([1,2,3,True],\"mm\"),\n",
    "                    tensile_strength=Parameter(1,\"MPa\"))"
   ]
  },
  {
   "cell_type": "code",
   "execution_count": null,
   "metadata": {},
   "outputs": [
    {
     "data": {
      "text/html": [
       "0.5773502691896257 newton"
      ],
      "text/latex": [
       "$0.5773502691896257\\ \\mathrm{newton}$"
      ],
      "text/plain": [
       "<Quantity(0.577350269, 'newton')>"
      ]
     },
     "execution_count": 76,
     "metadata": {},
     "output_type": "execute_result"
    }
   ],
   "source": [
    "(10*ureg(\"kPa\")) * np.tan(30*ureg(\"degrees\")) * (10*ureg(\"mm\")*10*(ureg(\"mm\"))))"
   ]
  },
  {
   "cell_type": "code",
   "execution_count": null,
   "metadata": {},
   "outputs": [
    {
     "name": "stdout",
     "output_type": "stream",
     "text": [
      "1.2 meter\n",
      "1.44 meter ** 2\n",
      "10 second\n",
      "0.144 meter ** 2 / second\n"
     ]
    }
   ],
   "source": [
    "d = 1.2*ureg(\"m\")\n",
    "d2 = d**2\n",
    "t = 10*ureg(\"s\")\n",
    "print(f\"{d}\\n{d2}\\n{t}\\n{d2/t}\")"
   ]
  },
  {
   "cell_type": "code",
   "execution_count": 4,
   "metadata": {},
   "outputs": [
    {
     "data": {
      "text/plain": [
       "{'diameter': [1, 2, 3, 4, 5],\n",
       " 'tensile_strength': 100,\n",
       " 'elastic_modulus': [200, 200, 300, 300, 150]}"
      ]
     },
     "execution_count": 4,
     "metadata": {},
     "output_type": "execute_result"
    }
   ],
   "source": [
    "a = {\"species\":\"a_b\",\n",
    "     \"diameter\":[1,2,3,4,5],\n",
    "     \"tensile_strength\":100,\n",
    "     \"elastic_modulus\":[200, 200, 300, 300, 150]}\n",
    "\n",
    "{k:v for k, v in a.items() if k != \"species\"}"
   ]
  },
  {
   "cell_type": "code",
   "execution_count": null,
   "metadata": {},
   "outputs": [
    {
     "ename": "ValueError",
     "evalue": "Length of elastic_modulus has to be 1 (all equal) or 5 (one value for each)",
     "output_type": "error",
     "traceback": [
      "\u001b[1;31m---------------------------------------------------------------------------\u001b[0m",
      "\u001b[1;31mValueError\u001b[0m                                Traceback (most recent call last)",
      "Cell \u001b[1;32mIn[91], line 15\u001b[0m\n\u001b[0;32m     13\u001b[0m \u001b[38;5;28;01mif\u001b[39;00m \u001b[38;5;28misinstance\u001b[39m(v, \u001b[38;5;28mlist\u001b[39m):\n\u001b[0;32m     14\u001b[0m     \u001b[38;5;28;01mif\u001b[39;00m (\u001b[38;5;28mlen\u001b[39m(v) \u001b[38;5;241m>\u001b[39m \u001b[38;5;241m1\u001b[39m) \u001b[38;5;241m&\u001b[39m (\u001b[38;5;28mlen\u001b[39m(v) \u001b[38;5;241m<\u001b[39m \u001b[38;5;28mmax\u001b[39m(arg_length)):\n\u001b[1;32m---> 15\u001b[0m         \u001b[38;5;28;01mraise\u001b[39;00m \u001b[38;5;167;01mValueError\u001b[39;00m(\u001b[38;5;124mf\u001b[39m\u001b[38;5;124m\"\u001b[39m\u001b[38;5;124mLength of \u001b[39m\u001b[38;5;132;01m{\u001b[39;00mk\u001b[38;5;132;01m}\u001b[39;00m\u001b[38;5;124m has to be 1 (all equal) or \u001b[39m\u001b[38;5;132;01m{\u001b[39;00m\u001b[38;5;28mmax\u001b[39m(arg_length)\u001b[38;5;132;01m}\u001b[39;00m\u001b[38;5;124m (one value for each)\u001b[39m\u001b[38;5;124m\"\u001b[39m)\n",
      "\u001b[1;31mValueError\u001b[0m: Length of elastic_modulus has to be 1 (all equal) or 5 (one value for each)"
     ]
    }
   ],
   "source": [
    "arg_length = []\n",
    "\n",
    "\n",
    "for k,v in a.items():\n",
    "    if k != \"species\":\n",
    "        if isinstance(v, list):\n",
    "            arg_length.append(len(v))\n",
    "        else:\n",
    "            arg_length.append(1)\n",
    "\n",
    "for k,v in a.items():\n",
    "    if k != \"species\":\n",
    "        if isinstance(v, list):\n",
    "            if (len(v) > 1) & (len(v) < max(arg_length)):\n",
    "                raise ValueError(f\"Length of {k} has to be 1 (all equal) or {max(arg_length)} (one value for each)\")\n",
    "                "
   ]
  }
 ],
 "metadata": {
  "kernelspec": {
   "display_name": "rrmm",
   "language": "python",
   "name": "python3"
  },
  "language_info": {
   "codemirror_mode": {
    "name": "ipython",
    "version": 3
   },
   "file_extension": ".py",
   "mimetype": "text/x-python",
   "name": "python",
   "nbconvert_exporter": "python",
   "pygments_lexer": "ipython3",
   "version": "3.13.0"
  }
 },
 "nbformat": 4,
 "nbformat_minor": 2
}
