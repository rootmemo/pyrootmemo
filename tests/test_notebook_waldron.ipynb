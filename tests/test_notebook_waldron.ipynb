{
 "cells": [
  {
   "cell_type": "code",
   "execution_count": 1,
   "metadata": {},
   "outputs": [],
   "source": [
    "from pyrootmemo.models import Waldron\n",
    "from pyrootmemo.materials import MultipleRoots, Interface, Soil\n",
    "from pyrootmemo.geometry import SoilProfile, FailureSurface\n",
    "from pyrootmemo.helpers import units, Parameter"
   ]
  },
  {
   "cell_type": "code",
   "execution_count": 2,
   "metadata": {},
   "outputs": [],
   "source": [
    "# generate some root data\n",
    "roots = MultipleRoots(\n",
    "    species = \"test_species\",\n",
    "    diameter = Parameter([1, 2, 1, 3, 4, 5, 6, 3], 'mm'),\n",
    "    tensile_strength = Parameter([40, 30, 40, 20, 10, 5, 20, 10], 'MPa'),\n",
    "    elastic_modulus = Parameter([100, 100, 100, 100, 100, 100, 100, 100], 'MPa'),\n",
    "    length = Parameter([1, 1, 1, 1, 1, 1, 1, 1], 'm'),\n",
    "    #azimuth_angle = Parameter([0, 0, 0, 0, 0, 0, 0, 0], 'degrees'),\n",
    "    #elevation_angle = Parameter([-40, -30, -20, -10, 0, 10, 20, 30], 'degrees')\n",
    ")\n",
    "# soil--root interface\n",
    "interface = Interface(\n",
    "    shear_strength = Parameter(50, \"kPa\")\n",
    ")\n",
    "# generate some soil data\n",
    "soil = Soil(\n",
    "    \"Sand\",\n",
    "    cohesion = Parameter(2, \"kPa\"),\n",
    "    friction_angle = Parameter(30, \"degrees\")\n",
    ")\n",
    "# soil profile object\n",
    "soil_profile = SoilProfile([soil], depth = Parameter([100], 'm'))\n",
    "# failure surface object\n",
    "failure_surface = FailureSurface(\n",
    "    cross_sectional_area = Parameter(1.0, \"m^2\"),\n",
    "    shear_zone_thickness = Parameter(10, \"mm\"),\n",
    "    depth = Parameter(1.0, \"m\")\n",
    ")"
   ]
  },
  {
   "cell_type": "code",
   "execution_count": 3,
   "metadata": {},
   "outputs": [],
   "source": [
    "# Create Waldron object\n",
    "waldron = Waldron(roots, interface, soil_profile, failure_surface)"
   ]
  },
  {
   "cell_type": "code",
   "execution_count": 7,
   "metadata": {},
   "outputs": [
    {
     "name": "stdout",
     "output_type": "stream",
     "text": [
      "{'reinforcement': <Quantity([[0.00052869 0.00149536 0.00052869 0.00274716 0.00422953 0.00591094\n",
      "  0.00777013 0.00274716]\n",
      " [0.00119146 0.00336996 0.00119146 0.00619102 0.0095317  0.01332096\n",
      "  0.01751085 0.00619102]], 'kilopascal')>, 'behaviour_types': array(['Not in tension', 'Anchored, elastic', 'Slipping, elastic',\n",
      "       'Full pullout', 'Anchored, plastic', 'Slipping, plastic',\n",
      "       'Slipping, plastic', 'Full pullout'], dtype='<U17'), 'behaviour_fraction': array([[[0., 1., 0., 0., 0., 0., 0., 0.],\n",
      "        [0., 1., 0., 0., 0., 0., 0., 0.],\n",
      "        [0., 1., 0., 0., 0., 0., 0., 0.],\n",
      "        [0., 1., 0., 0., 0., 0., 0., 0.],\n",
      "        [0., 1., 0., 0., 0., 0., 0., 0.],\n",
      "        [0., 1., 0., 0., 0., 0., 0., 0.],\n",
      "        [0., 1., 0., 0., 0., 0., 0., 0.],\n",
      "        [0., 1., 0., 0., 0., 0., 0., 0.]],\n",
      "\n",
      "       [[0., 1., 0., 0., 0., 0., 0., 0.],\n",
      "        [0., 1., 0., 0., 0., 0., 0., 0.],\n",
      "        [0., 1., 0., 0., 0., 0., 0., 0.],\n",
      "        [0., 1., 0., 0., 0., 0., 0., 0.],\n",
      "        [0., 1., 0., 0., 0., 0., 0., 0.],\n",
      "        [0., 1., 0., 0., 0., 0., 0., 0.],\n",
      "        [0., 1., 0., 0., 0., 0., 0., 0.],\n",
      "        [0., 1., 0., 0., 0., 0., 0., 0.]]]), 'dreinforcement_ddisplacement': <Quantity([[0.0006002  0.00169761 0.0006002  0.00311872 0.00480158 0.00671041\n",
      "  0.00882106 0.00311872]\n",
      " [0.00072031 0.00203733 0.00072031 0.00374282 0.00576245 0.00805327\n",
      "  0.0105863  0.00374282]], 'kilopascal / millimeter')>}\n"
     ]
    }
   ],
   "source": [
    "import numpy as np\n",
    "u = np.array([1, 2]) * units('mm')\n",
    "# u = 2 * units('mm')\n",
    "c = waldron.calc_reinforcement(u, jacobian = True, total = False)\n",
    "print(c)\n",
    "# F = waldron.pullout.calc_force(0.1 * units('mm'), jacobian = True)\n",
    "# print(F)\n",
    "\n"
   ]
  },
  {
   "cell_type": "code",
   "execution_count": null,
   "metadata": {},
   "outputs": [],
   "source": []
  },
  {
   "cell_type": "code",
   "execution_count": 5,
   "metadata": {},
   "outputs": [],
   "source": [
    "# import matplotlib.pyplot as plt\n",
    "# cr = waldron.peak_reinforcement()\n",
    "# print(cr)\n",
    "# waldron.plot()"
   ]
  },
  {
   "cell_type": "markdown",
   "metadata": {},
   "source": []
  }
 ],
 "metadata": {
  "kernelspec": {
   "display_name": "rrmm",
   "language": "python",
   "name": "python3"
  },
  "language_info": {
   "codemirror_mode": {
    "name": "ipython",
    "version": 3
   },
   "file_extension": ".py",
   "mimetype": "text/x-python",
   "name": "python",
   "nbconvert_exporter": "python",
   "pygments_lexer": "ipython3",
   "version": "3.13.5"
  }
 },
 "nbformat": 4,
 "nbformat_minor": 2
}
