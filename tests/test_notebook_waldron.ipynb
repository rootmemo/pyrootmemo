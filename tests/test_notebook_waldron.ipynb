{
 "cells": [
  {
   "cell_type": "code",
   "execution_count": 1,
   "metadata": {},
   "outputs": [],
   "source": [
    "from pyrootmemo.development.waldron import Waldron\n",
    "from pyrootmemo.materials import MultipleRoots, Interface, Soil\n",
    "from pyrootmemo.geometry import SoilProfile, FailureSurface\n",
    "from pyrootmemo.tools.helpers import units\n",
    "import numpy as np"
   ]
  },
  {
   "cell_type": "code",
   "execution_count": 2,
   "metadata": {},
   "outputs": [],
   "source": [
    "# generate some root data\n",
    "from collections import namedtuple\n",
    "Parameter = namedtuple(\"parameter\", \"value unit\")\n",
    "roots = MultipleRoots(\n",
    "    species = \"test_species\",\n",
    "    diameter = Parameter([1, 2, 1, 3, 4, 5, 6, 3], 'mm'),\n",
    "    tensile_strength = Parameter([40, 30, 40, 20, 10, 5, 20, 10], 'MPa'),\n",
    "    elastic_modulus = Parameter([100, 100, 100, 100, 100, 100, 100, 100], 'MPa'),\n",
    "    length = Parameter([1, 1, 1, 1, 1, 1, 1, 1], 'm'),\n",
    "    #azimuth_angle = Parameter([0, 0, 0, 0, 0, 0, 0, 0], 'degrees'),\n",
    "    #elevation_angle = Parameter([-40, -30, -20, -10, 0, 10, 20, 30], 'degrees')\n",
    ")\n",
    "# soil--root interface\n",
    "interface = Interface(\n",
    "    shear_strength = Parameter(50, \"kPa\")\n",
    ")\n",
    "# generate some soil data\n",
    "soil = Soil(\n",
    "    \"Sand\",\n",
    "    cohesion = Parameter(2, \"kPa\"),\n",
    "    friction_angle = Parameter(30, \"degrees\")\n",
    ")\n",
    "# soil profile object\n",
    "soil_profile = SoilProfile([soil], depth = Parameter([100], 'm'))\n",
    "# failure surface object\n",
    "failure_surface = FailureSurface(\n",
    "    cross_sectional_area = Parameter(1.0, \"m^2\"),\n",
    "    shear_zone_thickness = Parameter(10, \"mm\"),\n",
    "    depth = Parameter(1.0, \"m\")\n",
    ")"
   ]
  },
  {
   "cell_type": "code",
   "execution_count": 3,
   "metadata": {},
   "outputs": [],
   "source": [
    "# Create Waldron object\n",
    "waldron = Waldron(roots, interface, soil_profile, failure_surface)"
   ]
  },
  {
   "cell_type": "code",
   "execution_count": 4,
   "metadata": {},
   "outputs": [
    {
     "data": {
      "text/plain": [
       "(<Quantity(2.26476844, 'newton / meter ** 2')>, None, array([0., 1., 0.]))"
      ]
     },
     "execution_count": 4,
     "metadata": {},
     "output_type": "execute_result"
    }
   ],
   "source": [
    "waldron.reinforcement(0.1 * units('mm'))"
   ]
  },
  {
   "cell_type": "code",
   "execution_count": 5,
   "metadata": {},
   "outputs": [
    {
     "name": "stdout",
     "output_type": "stream",
     "text": [
      "(<Quantity(69.2747672, 'millimeter')>, <Quantity(721.135496, 'newton / meter ** 2')>)\n"
     ]
    },
    {
     "data": {
      "text/plain": [
       "(<Figure size 432x288 with 1 Axes>,\n",
       " <Axes: xlabel='Shear displacement [mm]', ylabel='Reinforcement [kPa]'>)"
      ]
     },
     "execution_count": 5,
     "metadata": {},
     "output_type": "execute_result"
    },
    {
     "data": {
      "image/png": "[encoded data removed]",
      "text/plain": [
       "<Figure size 432x288 with 1 Axes>"
      ]
     },
     "metadata": {
      "needs_background": "light"
     },
     "output_type": "display_data"
    }
   ],
   "source": [
    "import matplotlib.pyplot as plt\n",
    "cr = waldron.peak_reinforcement()\n",
    "print(cr)\n",
    "waldron.plot()"
   ]
  },
  {
   "cell_type": "markdown",
   "metadata": {},
   "source": []
  },
  {
   "cell_type": "code",
   "execution_count": 6,
   "metadata": {},
   "outputs": [
    {
     "name": "stdout",
     "output_type": "stream",
     "text": [
      "[[0.72317802 0.83804625 0.53649027]\n",
      " [0.10429169 0.19116451 0.1984686 ]\n",
      " [0.79769061 1.03309829 0.83279773]\n",
      " [0.40369927 0.66792182 0.68232175]\n",
      " [0.86714193 1.11775616 0.89936559]]\n"
     ]
    }
   ],
   "source": [
    "import numpy as np\n",
    "a = np.random.rand(5, 3)\n",
    "b = np.random.rand(3, 3)\n",
    "print(np.tensordot(a, b, [-1, -1]))"
   ]
  }
 ],
 "metadata": {
  "kernelspec": {
   "display_name": "rrmm",
   "language": "python",
   "name": "python3"
  },
  "language_info": {
   "codemirror_mode": {
    "name": "ipython",
    "version": 3
   },
   "file_extension": ".py",
   "mimetype": "text/x-python",
   "name": "python",
   "nbconvert_exporter": "python",
   "pygments_lexer": "ipython3",
   "version": "3.13.0"
  }
 },
 "nbformat": 4,
 "nbformat_minor": 2
}
