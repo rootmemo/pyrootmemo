{
 "cells": [
  {
   "cell_type": "code",
   "execution_count": 1,
   "metadata": {},
   "outputs": [],
   "source": [
    "from pyrootmemo.waldron import Waldron\n",
    "from pyrootmemo.materials import MultipleRoots, Soil, Shearzone, Interface\n",
    "from pyrootmemo.tools.helpers import units\n",
    "import numpy as np"
   ]
  },
  {
   "cell_type": "code",
   "execution_count": 2,
   "metadata": {},
   "outputs": [],
   "source": [
    "# generate some root data\n",
    "from collections import namedtuple\n",
    "Parameter = namedtuple(\"parameter\", \"value unit\")\n",
    "roots = MultipleRoots(\n",
    "    species = \"test_species\",\n",
    "    diameter = Parameter([1, 2, 1, 3, 4, 5, 6, 3], 'mm'),\n",
    "    tensile_strength = Parameter([40, 30, 40, 20, 10, 5, 20, 10], 'MPa'),\n",
    "    elastic_modulus = Parameter([100, 100, 100, 100, 100, 100, 20, 100], 'MPa'),\n",
    "    length = Parameter([1, 1, 1, 1, 1, 1, 1, 1], 'm'),\n",
    "    #azimuth_angle = Parameter([0, 0, 0, 0, 0, 0, 0, 0], 'degrees'),\n",
    "    #elevation_angle = Parameter([-40, -30, -20, -10, 0, 10, 20, 30], 'degrees')\n",
    ")\n",
    "# generate some soil data\n",
    "soil = Soil(\n",
    "    \"Sand\",\n",
    "    cohesion = Parameter(2, \"kPa\"),\n",
    "    friction_angle = Parameter(30, \"degrees\")\n",
    ")\n",
    "# shearzone object\n",
    "shearzone = Shearzone(\n",
    "    area = Parameter(1, \"m^2\"),\n",
    "    thickness = Parameter(10, \"mm\"),\n",
    "    effective_stress = Parameter(20, \"kPa\")\n",
    ")\n",
    "# soil--root interface\n",
    "interface = Interface(\n",
    "    shear_strength = Parameter(10, \"kPa\")\n",
    ")"
   ]
  },
  {
   "cell_type": "code",
   "execution_count": 3,
   "metadata": {},
   "outputs": [],
   "source": [
    "# Create Waldron object\n",
    "waldron = Waldron(shearzone, roots, soil, interface)"
   ]
  },
  {
   "cell_type": "code",
   "execution_count": 7,
   "metadata": {},
   "outputs": [
    {
     "ename": "ValueError",
     "evalue": "operands could not be broadcast together with shapes (8,) (8,2) ",
     "output_type": "error",
     "traceback": [
      "\u001b[1;31m---------------------------------------------------------------------------\u001b[0m",
      "\u001b[1;31mValueError\u001b[0m                                Traceback (most recent call last)",
      "Cell \u001b[1;32mIn[7], line 1\u001b[0m\n\u001b[1;32m----> 1\u001b[0m waldron\u001b[38;5;241m.\u001b[39mreinforcement(\u001b[38;5;241m0.1\u001b[39m \u001b[38;5;241m*\u001b[39m units(\u001b[38;5;124m'\u001b[39m\u001b[38;5;124mmm\u001b[39m\u001b[38;5;124m'\u001b[39m))\n",
      "File \u001b[1;32m\\\\myfiles.campus.bath.ac.uk\\gjm36\\dos\\Projects\\2023_root_reinforcement_book_Anil_Yildiz\\pyrootmemo\\src\\pyrootmemo\\waldron.py:206\u001b[0m, in \u001b[0;36mWaldron.reinforcement\u001b[1;34m(self, shear_displacement, jac)\u001b[0m\n\u001b[0;32m    204\u001b[0m \u001b[38;5;28;01mif\u001b[39;00m jac \u001b[38;5;129;01mis\u001b[39;00m \u001b[38;5;28;01mFalse\u001b[39;00m:\n\u001b[0;32m    205\u001b[0m     pullout_displacement \u001b[38;5;241m=\u001b[39m \u001b[38;5;28mself\u001b[39m\u001b[38;5;241m.\u001b[39m_pullout_displacement(shear_displacement)\n\u001b[1;32m--> 206\u001b[0m     force, survival, behaviour_type \u001b[38;5;241m=\u001b[39m \u001b[38;5;28mself\u001b[39m\u001b[38;5;241m.\u001b[39mpullout\u001b[38;5;241m.\u001b[39mforce(pullout_displacement)\n\u001b[0;32m    207\u001b[0m     reinforcement \u001b[38;5;241m=\u001b[39m \u001b[38;5;28mself\u001b[39m\u001b[38;5;241m.\u001b[39m_shear_reinforcement(shear_displacement, force)\n\u001b[0;32m    208\u001b[0m     \u001b[38;5;28;01mreturn\u001b[39;00m(np\u001b[38;5;241m.\u001b[39msum(reinforcement))\n",
      "File \u001b[1;32m\\\\myfiles.campus.bath.ac.uk\\gjm36\\dos\\Projects\\2023_root_reinforcement_book_Anil_Yildiz\\pyrootmemo\\src\\pyrootmemo\\pullout.py:394\u001b[0m, in \u001b[0;36mPullout_embedded_elastic_breakage_slipping.force\u001b[1;34m(self, displacement, jac)\u001b[0m\n\u001b[0;32m    388\u001b[0m \u001b[38;5;28;01mdef\u001b[39;00m \u001b[38;5;21mforce\u001b[39m(\n\u001b[0;32m    389\u001b[0m         \u001b[38;5;28mself\u001b[39m, \n\u001b[0;32m    390\u001b[0m         displacement,\n\u001b[0;32m    391\u001b[0m         jac \u001b[38;5;241m=\u001b[39m \u001b[38;5;28;01mFalse\u001b[39;00m\n\u001b[0;32m    392\u001b[0m         ):\n\u001b[0;32m    393\u001b[0m     \u001b[38;5;28;01mif\u001b[39;00m jac \u001b[38;5;129;01mis\u001b[39;00m \u001b[38;5;28;01mFalse\u001b[39;00m:\n\u001b[1;32m--> 394\u001b[0m         force_unbroken, behaviour_type \u001b[38;5;241m=\u001b[39m \u001b[38;5;28mself\u001b[39m\u001b[38;5;241m.\u001b[39m_force_unbroken(displacement)\n\u001b[0;32m    395\u001b[0m         survival \u001b[38;5;241m=\u001b[39m \u001b[38;5;28mself\u001b[39m\u001b[38;5;241m.\u001b[39m_get_survival_weibull(force_unbroken, \u001b[38;5;28mself\u001b[39m\u001b[38;5;241m.\u001b[39mweibull_shape)\n\u001b[0;32m    396\u001b[0m         \u001b[38;5;28;01mreturn\u001b[39;00m(\n\u001b[0;32m    397\u001b[0m             force_unbroken \u001b[38;5;241m*\u001b[39m survival, \n\u001b[0;32m    398\u001b[0m             survival, \n\u001b[0;32m    399\u001b[0m             behaviour_type\n\u001b[0;32m    400\u001b[0m         )\n",
      "File \u001b[1;32m\\\\myfiles.campus.bath.ac.uk\\gjm36\\dos\\Projects\\2023_root_reinforcement_book_Anil_Yildiz\\pyrootmemo\\src\\pyrootmemo\\pullout.py:290\u001b[0m, in \u001b[0;36mPullout_embedded_elastic_slipping._force_unbroken\u001b[1;34m(self, displacement, jac)\u001b[0m\n\u001b[0;32m    283\u001b[0m \u001b[38;5;28;01mdef\u001b[39;00m \u001b[38;5;21m_force_unbroken\u001b[39m(\n\u001b[0;32m    284\u001b[0m         \u001b[38;5;28mself\u001b[39m, \n\u001b[0;32m    285\u001b[0m         displacement,\n\u001b[0;32m    286\u001b[0m         jac \u001b[38;5;241m=\u001b[39m \u001b[38;5;28;01mFalse\u001b[39;00m\n\u001b[0;32m    287\u001b[0m         ):\n\u001b[0;32m    288\u001b[0m     \u001b[38;5;66;03m# initialise force vector and find behaviour indices\u001b[39;00m\n\u001b[0;32m    289\u001b[0m     force \u001b[38;5;241m=\u001b[39m np\u001b[38;5;241m.\u001b[39mzeros(\u001b[38;5;28mself\u001b[39m\u001b[38;5;241m.\u001b[39mnroots) \u001b[38;5;241m*\u001b[39m units(\u001b[38;5;124m'\u001b[39m\u001b[38;5;124mN\u001b[39m\u001b[38;5;124m'\u001b[39m)\n\u001b[1;32m--> 290\u001b[0m     behaviour_type \u001b[38;5;241m=\u001b[39m \u001b[38;5;28mself\u001b[39m\u001b[38;5;241m.\u001b[39m_get_behaviour_type(displacement)\n\u001b[0;32m    291\u001b[0m     \u001b[38;5;66;03m# elastic behaviour\u001b[39;00m\n\u001b[0;32m    292\u001b[0m     index1 \u001b[38;5;241m=\u001b[39m (behaviour_type \u001b[38;5;241m==\u001b[39m \u001b[38;5;241m1\u001b[39m)\n",
      "File \u001b[1;32m\\\\myfiles.campus.bath.ac.uk\\gjm36\\dos\\Projects\\2023_root_reinforcement_book_Anil_Yildiz\\pyrootmemo\\src\\pyrootmemo\\pullout.py:140\u001b[0m, in \u001b[0;36mPullout_base._get_behaviour_type\u001b[1;34m(self, displacement)\u001b[0m\n\u001b[0;32m    139\u001b[0m \u001b[38;5;28;01mdef\u001b[39;00m \u001b[38;5;21m_get_behaviour_type\u001b[39m(\u001b[38;5;28mself\u001b[39m, displacement):\n\u001b[1;32m--> 140\u001b[0m     \u001b[38;5;28;01mreturn\u001b[39;00m((displacement \u001b[38;5;241m>\u001b[39m \u001b[38;5;28mself\u001b[39m\u001b[38;5;241m.\u001b[39mlimits[\u001b[38;5;241m0\u001b[39m])\u001b[38;5;241m.\u001b[39msum(axis \u001b[38;5;241m=\u001b[39m \u001b[38;5;241m1\u001b[39m))\n",
      "File \u001b[1;32mc:\\Users\\gjm36\\AppData\\Local\\miniforge3\\envs\\rrmm\\Lib\\site-packages\\pint\\facets\\plain\\quantity.py:1407\u001b[0m, in \u001b[0;36mPlainQuantity.<lambda>\u001b[1;34m(self, other)\u001b[0m\n\u001b[0;32m   1405\u001b[0m \u001b[38;5;21m__le__\u001b[39m \u001b[38;5;241m=\u001b[39m \u001b[38;5;28;01mlambda\u001b[39;00m \u001b[38;5;28mself\u001b[39m, other: \u001b[38;5;28mself\u001b[39m\u001b[38;5;241m.\u001b[39mcompare(other, op\u001b[38;5;241m=\u001b[39moperator\u001b[38;5;241m.\u001b[39mle)\n\u001b[0;32m   1406\u001b[0m \u001b[38;5;21m__ge__\u001b[39m \u001b[38;5;241m=\u001b[39m \u001b[38;5;28;01mlambda\u001b[39;00m \u001b[38;5;28mself\u001b[39m, other: \u001b[38;5;28mself\u001b[39m\u001b[38;5;241m.\u001b[39mcompare(other, op\u001b[38;5;241m=\u001b[39moperator\u001b[38;5;241m.\u001b[39mge)\n\u001b[1;32m-> 1407\u001b[0m \u001b[38;5;21m__gt__\u001b[39m \u001b[38;5;241m=\u001b[39m \u001b[38;5;28;01mlambda\u001b[39;00m \u001b[38;5;28mself\u001b[39m, other: \u001b[38;5;28mself\u001b[39m\u001b[38;5;241m.\u001b[39mcompare(other, op\u001b[38;5;241m=\u001b[39moperator\u001b[38;5;241m.\u001b[39mgt)\n\u001b[0;32m   1409\u001b[0m \u001b[38;5;28;01mdef\u001b[39;00m \u001b[38;5;21m__bool__\u001b[39m(\u001b[38;5;28mself\u001b[39m) \u001b[38;5;241m-\u001b[39m\u001b[38;5;241m>\u001b[39m \u001b[38;5;28mbool\u001b[39m:\n\u001b[0;32m   1410\u001b[0m     \u001b[38;5;66;03m# Only cast when non-ambiguous (when multiplicative unit)\u001b[39;00m\n\u001b[0;32m   1411\u001b[0m     \u001b[38;5;28;01mif\u001b[39;00m \u001b[38;5;28mself\u001b[39m\u001b[38;5;241m.\u001b[39m_is_multiplicative:\n",
      "File \u001b[1;32mc:\\Users\\gjm36\\AppData\\Local\\miniforge3\\envs\\rrmm\\Lib\\site-packages\\pint\\facets\\plain\\quantity.py:101\u001b[0m, in \u001b[0;36mcheck_implemented.<locals>.wrapped\u001b[1;34m(self, *args, **kwargs)\u001b[0m\n\u001b[0;32m     99\u001b[0m \u001b[38;5;28;01melif\u001b[39;00m \u001b[38;5;28misinstance\u001b[39m(other, \u001b[38;5;28mlist\u001b[39m) \u001b[38;5;129;01mand\u001b[39;00m other \u001b[38;5;129;01mand\u001b[39;00m \u001b[38;5;28misinstance\u001b[39m(other[\u001b[38;5;241m0\u001b[39m], \u001b[38;5;28mtype\u001b[39m(\u001b[38;5;28mself\u001b[39m)):\n\u001b[0;32m    100\u001b[0m     \u001b[38;5;28;01mreturn\u001b[39;00m \u001b[38;5;28mNotImplemented\u001b[39m\n\u001b[1;32m--> 101\u001b[0m \u001b[38;5;28;01mreturn\u001b[39;00m f(\u001b[38;5;28mself\u001b[39m, \u001b[38;5;241m*\u001b[39margs, \u001b[38;5;241m*\u001b[39m\u001b[38;5;241m*\u001b[39mkwargs)\n",
      "File \u001b[1;32mc:\\Users\\gjm36\\AppData\\Local\\miniforge3\\envs\\rrmm\\Lib\\site-packages\\pint\\facets\\plain\\quantity.py:1402\u001b[0m, in \u001b[0;36mPlainQuantity.compare\u001b[1;34m(self, other, op)\u001b[0m\n\u001b[0;32m   1398\u001b[0m \u001b[38;5;28;01mif\u001b[39;00m \u001b[38;5;28mself\u001b[39m\u001b[38;5;241m.\u001b[39mdimensionality \u001b[38;5;241m!=\u001b[39m other\u001b[38;5;241m.\u001b[39mdimensionality:\n\u001b[0;32m   1399\u001b[0m     \u001b[38;5;28;01mraise\u001b[39;00m DimensionalityError(\n\u001b[0;32m   1400\u001b[0m         \u001b[38;5;28mself\u001b[39m\u001b[38;5;241m.\u001b[39m_units, other\u001b[38;5;241m.\u001b[39m_units, \u001b[38;5;28mself\u001b[39m\u001b[38;5;241m.\u001b[39mdimensionality, other\u001b[38;5;241m.\u001b[39mdimensionality\n\u001b[0;32m   1401\u001b[0m     )\n\u001b[1;32m-> 1402\u001b[0m \u001b[38;5;28;01mreturn\u001b[39;00m op(\u001b[38;5;28mself\u001b[39m\u001b[38;5;241m.\u001b[39mto_root_units()\u001b[38;5;241m.\u001b[39mmagnitude, other\u001b[38;5;241m.\u001b[39mto_root_units()\u001b[38;5;241m.\u001b[39mmagnitude)\n",
      "\u001b[1;31mValueError\u001b[0m: operands could not be broadcast together with shapes (8,) (8,2) "
     ]
    }
   ],
   "source": [
    "waldron.reinforcement(0.1 * units('mm'))"
   ]
  },
  {
   "cell_type": "code",
   "execution_count": 5,
   "metadata": {},
   "outputs": [
    {
     "name": "stdout",
     "output_type": "stream",
     "text": [
      "[[0. 0. 1.]\n",
      " [0. 0. 1.]\n",
      " [0. 0. 1.]\n",
      " [0. 0. 1.]\n",
      " [0. 0. 1.]\n",
      " [0. 0. 1.]\n",
      " [0. 0. 1.]\n",
      " [0. 0. 1.]]\n",
      "[[ 0.10448826 -0.09451324  0.99002498]\n",
      " [ 0.10448826 -0.09451324  0.99002498]\n",
      " [ 0.10448826 -0.09451324  0.99002498]\n",
      " [ 0.10448826 -0.09451324  0.99002498]\n",
      " [ 0.10448826 -0.09451324  0.99002498]\n",
      " [ 0.10448826 -0.09451324  0.99002498]\n",
      " [ 0.10448826 -0.09451324  0.99002498]\n",
      " [ 0.10448826 -0.09451324  0.99002498]]\n"
     ]
    }
   ],
   "source": [
    "print(roots.initial_orientation_vector())\n",
    "print(roots.initial_orientation_vector(axis_angle = np.array([0.1, 0.1, 0.1])))"
   ]
  },
  {
   "cell_type": "markdown",
   "metadata": {},
   "source": []
  },
  {
   "cell_type": "code",
   "execution_count": 6,
   "metadata": {},
   "outputs": [
    {
     "name": "stdout",
     "output_type": "stream",
     "text": [
      "[[0.79248961 1.26777654 1.67290478]\n",
      " [0.55430229 1.17710956 1.6713217 ]\n",
      " [0.85346889 1.23233797 1.57315743]\n",
      " [0.66721294 1.24711776 1.7050247 ]\n",
      " [0.86166668 1.28238555 1.65555142]]\n"
     ]
    }
   ],
   "source": [
    "import numpy as np\n",
    "a = np.random.rand(5, 3)\n",
    "b = np.random.rand(3, 3)\n",
    "print(np.tensordot(a, b, [-1, -1]))"
   ]
  }
 ],
 "metadata": {
  "kernelspec": {
   "display_name": "rrmm",
   "language": "python",
   "name": "python3"
  },
  "language_info": {
   "codemirror_mode": {
    "name": "ipython",
    "version": 3
   },
   "file_extension": ".py",
   "mimetype": "text/x-python",
   "name": "python",
   "nbconvert_exporter": "python",
   "pygments_lexer": "ipython3",
   "version": "3.13.0"
  }
 },
 "nbformat": 4,
 "nbformat_minor": 2
}
