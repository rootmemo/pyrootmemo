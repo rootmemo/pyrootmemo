{
 "cells": [
  {
   "cell_type": "code",
   "execution_count": 1,
   "id": "de8f9905",
   "metadata": {},
   "outputs": [],
   "source": [
    "from pyrootmemo.geometry import SoilProfile\n",
    "from pyrootmemo.materials import Soil\n",
    "from pyrootmemo.materials import Parameter"
   ]
  },
  {
   "cell_type": "code",
   "execution_count": 2,
   "id": "f1698c26",
   "metadata": {},
   "outputs": [
    {
     "data": {
      "text/html": [
       "<table><tbody><tr><th>Magnitude</th><td style='text-align:left;'><pre>[1.0 1.3 3.0]</pre></td></tr><tr><th>Units</th><td style='text-align:left;'>meter</td></tr></tbody></table>"
      ],
      "text/latex": [
       "$\\begin{pmatrix} &  & \\end{pmatrix}\\ \\mathrm{meter}$"
      ],
      "text/plain": [
       "<Quantity([1.  1.3 3. ], 'meter')>"
      ]
     },
     "execution_count": 2,
     "metadata": {},
     "output_type": "execute_result"
    }
   ],
   "source": [
    "silty_clay = Soil(name=\"silty clay\")\n",
    "a = SoilProfile(soils=[silty_clay, silty_clay, silty_clay], depth=Parameter([1,1.3,3],\"m\"), groundwater_table=Parameter([1.5,2],\"m\"))\n",
    "a.depth"
   ]
  }
 ],
 "metadata": {
  "kernelspec": {
   "display_name": "rrmm",
   "language": "python",
   "name": "python3"
  },
  "language_info": {
   "codemirror_mode": {
    "name": "ipython",
    "version": 3
   },
   "file_extension": ".py",
   "mimetype": "text/x-python",
   "name": "python",
   "nbconvert_exporter": "python",
   "pygments_lexer": "ipython3",
   "version": "3.13.0"
  }
 },
 "nbformat": 4,
 "nbformat_minor": 5
}
