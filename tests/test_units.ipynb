{
 "cells": [
  {
   "cell_type": "markdown",
   "metadata": {},
   "source": [
    "# Testing units in Python"
   ]
  },
  {
   "cell_type": "code",
   "execution_count": 1,
   "metadata": {},
   "outputs": [],
   "source": [
    "from pyrootmemo.materials import SingleRoot, MultipleRoots, Parameter"
   ]
  },
  {
   "cell_type": "code",
   "execution_count": 2,
   "metadata": {},
   "outputs": [],
   "source": [
    "barley_single = SingleRoot(elastic_modulus=Parameter(value=2E6,unit=\"N/cm^2\"),\n",
    "                           diameter=Parameter(1E-2,\"cm\"))\n",
    "barley_multiple = MultipleRoots(elastic_modulus=Parameter(value=2E6, unit=\"N/cm^2\"),\n",
    "                                diameter=Parameter(value=[1E-2, 2E-2, 3E-2],unit=\"cm\"))"
   ]
  }
 ],
 "metadata": {
  "kernelspec": {
   "display_name": "rrmm",
   "language": "python",
   "name": "python3"
  },
  "language_info": {
   "codemirror_mode": {
    "name": "ipython",
    "version": 3
   },
   "file_extension": ".py",
   "mimetype": "text/x-python",
   "name": "python",
   "nbconvert_exporter": "python",
   "pygments_lexer": "ipython3",
   "version": "3.13.0"
  }
 },
 "nbformat": 4,
 "nbformat_minor": 2
}
