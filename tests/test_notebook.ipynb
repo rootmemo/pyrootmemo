{
 "cells": [
  {
   "cell_type": "code",
   "execution_count": 1,
   "metadata": {},
   "outputs": [],
   "source": [
    "from pyrootmemo.materials import SingleRoot\n",
    "from pyrootmemo.materials import Soil\n",
    "from pyrootmemo.models import Waldron1977"
   ]
  },
  {
   "cell_type": "code",
   "execution_count": 15,
   "metadata": {},
   "outputs": [],
   "source": [
    "barley = SingleRoot(species=\"hordeum vulgare\", elastic_modulus=2E6, diameter=1E-2)\n",
    "loam = Soil(type=\"clay_loam\", unit_weight={\"bulk\":1.20*9.81}, friction_angle=37,cohesion=2.3)"
   ]
  },
  {
   "cell_type": "code",
   "execution_count": 16,
   "metadata": {},
   "outputs": [
    {
     "data": {
      "text/plain": [
       "306496.6759125592"
      ]
     },
     "execution_count": 16,
     "metadata": {},
     "output_type": "execute_result"
    }
   ],
   "source": [
    "w77 = Waldron1977(soil=loam, roots=barley)\n",
    "w77.calc_strength_increase(root_area_ratio=0.3, shear_band_thickness=5, max_tangential_stress=50,shear_displacement=25)"
   ]
  }
 ],
 "metadata": {
  "kernelspec": {
   "display_name": "py12",
   "language": "python",
   "name": "python3"
  },
  "language_info": {
   "codemirror_mode": {
    "name": "ipython",
    "version": 3
   },
   "file_extension": ".py",
   "mimetype": "text/x-python",
   "name": "python",
   "nbconvert_exporter": "python",
   "pygments_lexer": "ipython3",
   "version": "3.12.6"
  }
 },
 "nbformat": 4,
 "nbformat_minor": 2
}
