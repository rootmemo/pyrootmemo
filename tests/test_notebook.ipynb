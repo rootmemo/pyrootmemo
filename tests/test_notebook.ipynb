{
 "cells": [
  {
   "cell_type": "markdown",
   "metadata": {},
   "source": [
    "# Creating materials"
   ]
  },
  {
   "cell_type": "code",
   "execution_count": 1,
   "metadata": {},
   "outputs": [],
   "source": [
    "from pyrootmemo.materials import SingleRoot, MultipleRoots\n",
    "from pyrootmemo.materials import Soil\n",
    "import numpy as np\n",
    "from pyrootmemo.helpers import Parameter"
   ]
  },
  {
   "cell_type": "markdown",
   "metadata": {},
   "source": [
    "## Creating a single root\n",
    "\n",
    "We are going to create a single Barley root with a given elastic modulus and diameter."
   ]
  },
  {
   "cell_type": "code",
   "execution_count": 12,
   "metadata": {},
   "outputs": [
    {
     "name": "stdout",
     "output_type": "stream",
     "text": [
      "Circumference of the root is 0.0314 meter\n",
      "Cross-sectional area is 0.0001 meter ** 2\n"
     ]
    }
   ],
   "source": [
    "barley_single = SingleRoot(species=\"hordeum_vulgare\",elastic_modulus=Parameter(1e9, \"MPa\"),  diameter=Parameter(0.01, \"m\"))\n",
    "print(f\"Circumference of the root is {round(barley_single.circumference,4)}\\nCross-sectional area is {round(barley_single.xsection,4)}\")"
   ]
  },
  {
   "cell_type": "code",
   "execution_count": null,
   "metadata": {},
   "outputs": [],
   "source": [
    "loam = Soil(name=\"clay_loam\", unit_weight_bulk=1.20*9.81, friction_angle=37,cohesion=2.3)"
   ]
  },
  {
   "cell_type": "code",
   "execution_count": null,
   "metadata": {},
   "outputs": [
    {
     "data": {
      "text/plain": [
       "{'species': 'hordeum vulgare',\n",
       " 'elastic_modulus': 2000000.0,\n",
       " 'diameter': 0.01,\n",
       " 'xsection': np.float64(7.853981633974483e-05),\n",
       " 'circumference': np.float64(0.031415926535897934)}"
      ]
     },
     "execution_count": 16,
     "metadata": {},
     "output_type": "execute_result"
    }
   ],
   "source": [
    "barley_single.__dict__"
   ]
  }
 ],
 "metadata": {
  "kernelspec": {
   "display_name": "rrmm",
   "language": "python",
   "name": "python3"
  },
  "language_info": {
   "codemirror_mode": {
    "name": "ipython",
    "version": 3
   },
   "file_extension": ".py",
   "mimetype": "text/x-python",
   "name": "python",
   "nbconvert_exporter": "python",
   "pygments_lexer": "ipython3",
   "version": "3.13.3"
  }
 },
 "nbformat": 4,
 "nbformat_minor": 2
}
