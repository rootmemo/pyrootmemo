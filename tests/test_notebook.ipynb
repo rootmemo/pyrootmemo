{
 "cells": [
  {
   "cell_type": "code",
   "execution_count": 1,
   "metadata": {},
   "outputs": [],
   "source": [
    "from pyrootmemo.materials import SingleRoot, MultipleRoots\n",
    "from pyrootmemo.materials import Soil\n",
    "from pyrootmemo.models import Waldron1977\n",
    "import numpy as np\n",
    "import matplotlib.pyplot as plt"
   ]
  },
  {
   "cell_type": "code",
   "execution_count": 3,
   "metadata": {},
   "outputs": [],
   "source": [
    "barley_single = SingleRoot(species=\"hordeum vulgare\", elastic_modulus=2E6, diameter=1E-2)\n",
    "barley_multiple = MultipleRoots(species=\"hordeum vulgare\", elastic_modulus=2E6, diameter=[0.01, 0.02, 0.03])"
   ]
  },
  {
   "cell_type": "code",
   "execution_count": 4,
   "metadata": {},
   "outputs": [],
   "source": [
    "loam = Soil(type=\"clay_loam\", unit_weight={\"bulk\":1.20*9.81, \"saturated\":20}, friction_angle=37,cohesion=2.3)"
   ]
  }
 ],
 "metadata": {
  "kernelspec": {
   "display_name": "py12",
   "language": "python",
   "name": "python3"
  },
  "language_info": {
   "codemirror_mode": {
    "name": "ipython",
    "version": 3
   },
   "file_extension": ".py",
   "mimetype": "text/x-python",
   "name": "python",
   "nbconvert_exporter": "python",
   "pygments_lexer": "ipython3",
   "version": "3.12.6"
  }
 },
 "nbformat": 4,
 "nbformat_minor": 2
}
