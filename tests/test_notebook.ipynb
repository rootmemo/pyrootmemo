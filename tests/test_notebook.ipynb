{
 "cells": [
  {
   "cell_type": "code",
   "execution_count": 28,
   "metadata": {},
   "outputs": [],
   "source": [
    "from pyrootmemo.materials import SingleRoot, MultipleRoots\n",
    "from pyrootmemo.materials import Soil\n",
    "from pyrootmemo.models import Waldron1977\n",
    "import numpy as np\n",
    "import matplotlib.pyplot as plt\n",
    "import string\n",
    "import yaml"
   ]
  },
  {
   "cell_type": "code",
   "execution_count": 6,
   "metadata": {},
   "outputs": [],
   "source": [
    "barley_single = SingleRoot(species=\"hordeum vulgare\", elastic_modulus=2E6, diameter=1E-2)\n",
    "barley_multiple = MultipleRoots(species=\"hordeum vulgare\", elastic_modulus=2E6, diameter=[0.01, 0.02, 0.03])"
   ]
  },
  {
   "cell_type": "code",
   "execution_count": 7,
   "metadata": {},
   "outputs": [],
   "source": [
    "loam = Soil(name=\"clay_loam\", unit_weight_bulk=1.20*9.81, friction_angle=37,cohesion=2.3)"
   ]
  },
  {
   "cell_type": "code",
   "execution_count": 16,
   "metadata": {},
   "outputs": [
    {
     "data": {
      "text/plain": [
       "{'species': 'hordeum vulgare',\n",
       " 'elastic_modulus': 2000000.0,\n",
       " 'diameter': 0.01,\n",
       " 'xsection': np.float64(7.853981633974483e-05),\n",
       " 'circumference': np.float64(0.031415926535897934)}"
      ]
     },
     "execution_count": 16,
     "metadata": {},
     "output_type": "execute_result"
    }
   ],
   "source": [
    "barley_single.__dict__"
   ]
  },
  {
   "cell_type": "code",
   "execution_count": 24,
   "metadata": {},
   "outputs": [],
   "source": [
    "root_class = str(type(barley_single)).split(\"materials\")[-1].replace(\".\",\"\").replace(\">\",\"\").replace(\"'\",\"\")\n",
    "soil_class = str(type(loam)).split(\"materials\")[-1].replace(\".\",\"\").replace(\">\",\"\").replace(\"'\",\"\")"
   ]
  },
  {
   "cell_type": "code",
   "execution_count": 27,
   "metadata": {},
   "outputs": [
    {
     "data": {
      "text/plain": [
       "{'SingleRoot': {'species': 'hordeum vulgare',\n",
       "  'elastic_modulus': 2000000.0,\n",
       "  'diameter': 0.01,\n",
       "  'xsection': np.float64(7.853981633974483e-05),\n",
       "  'circumference': np.float64(0.031415926535897934)},\n",
       " 'Soil': {'name': 'clay_loam',\n",
       "  'unit_weight_bulk': 11.772,\n",
       "  'friction_angle': 37,\n",
       "  'cohesion': 2.3}}"
      ]
     },
     "execution_count": 27,
     "metadata": {},
     "output_type": "execute_result"
    }
   ],
   "source": [
    "metadata = {root_class:barley_single.__dict__,\n",
    "            soil_class:loam.__dict__}\n",
    "metadata"
   ]
  },
  {
   "cell_type": "code",
   "execution_count": null,
   "metadata": {},
   "outputs": [],
   "source": [
    "class Waldron1977_gjm:\n",
    "    def __init__(\n",
    "        self,\n",
    "        soil: pyrootmemo.materials.Soil,\n",
    "        roots: pyrootmemo.materials.SingleRoot | pyrootmemo.materials.MultipleRoots,\n",
    "    ):\n",
    "        self.soil = soil\n",
    "        self.roots = roots\n",
    "    \n",
    "    # Pullout displacement for one half of the root\n",
    "    def pullout_displacement(self, shear_displacement, shear_band_thickness):\n",
    "        # initial length of root within shear band\n",
    "        L0 = shear_band_thickness\n",
    "        # displaced length of root within shear band\n",
    "        L1 = np.sqrt(shear_displacement**2 + shear_band_thickness**2)\n",
    "        # return displacement - for one side only\n",
    "        return(0.5 * (L1 - L0))\n",
    "    \n",
    "    # Root tensile force, as function of pullout displacement\n",
    "    def pullout_force(self, pullout_displacement, interface_resistance):\n",
    "        # calculate max root tensile force, assuming no failure\n",
    "        force = np.sqrt(\n",
    "            2.\n",
    "            * self.roots.elastic_modulus,\n",
    "            * self.roots.xsection\n",
    "            * self.roots.circumference\n",
    "            * interface_resistance\n",
    "            * pullout_displacement\n",
    "            )\n",
    "        # account for breakage\n",
    "        force_max = self.roots.tensile_strength * self.roots.xsection\n",
    "        force[force > force_max] = 0.\n",
    "        # return\n",
    "        return(force)\n",
    "    \n",
    "    # ratio between reinforcing force and root tensile force\n",
    "    def orientation_factor(self, shear_displacement, shear_band_thickness):\n",
    "        sin_beta = shear_displacement / np.sqrt(\n",
    "            shear_displacement**2 + shear_band_thickness**2)\n",
    "        cos_beta = shear_band_thickness / np.sqrt(\n",
    "            shear_displacement**2 + shear_band_thickness**2)\n",
    "        return(sin_beta \n",
    "               + cos_beta*np.tan(np.deg2rad(self.soil.friction_angle)))\n",
    "\n",
    "    # calculate reinforcement as function of known shear displacement\n",
    "    def reinforcement(\n",
    "            self, \n",
    "            shear_displacement, \n",
    "            root_area_ratio,\n",
    "            interface_resistance,\n",
    "            shear_band_thickness,\n",
    "            ):\n",
    "        pullout_displacement = self.pullout_displacement(shear_displacement)\n",
    "        orientation_factor = self.orientation_factor(shear_displacement, shear_band_thickness)\n",
    "        pullout_force = self.pullout_force(pullout_displacement, interface_resistance)\n",
    "        reinforcement_force = pullout_force * orientation_factor\n",
    "        total_root_area = np.sum(self.roots.xsection)\n",
    "        return(np.sum(reinforcement_force) / total_root_area * root_area_ratio)\n",
    "    \n",
    "    # calculate pull-out displacement at known root tensile force\n",
    "    def force2pullout_displacement(self, pullout_force, interface_resistance):\n",
    "        return(0.5\n",
    "               * pullout_force**2\n",
    "               / self.roots.elastic_modulus\n",
    "               / self.roots.xsection\n",
    "               / self.roots.circumference\n",
    "               / interface_resistance\n",
    "               )\n",
    "    \n",
    "    # calculate shear displacement based on known pullout displacement\n",
    "    def pullout2shear_displacement(self, pullout_displacement, shear_band_thickness):\n",
    "        return(2. * np.sqrt(pullout_displacement \n",
    "                            * (pullout_displacement + shear_band_thickness)))\n",
    "    \n",
    "    # calculate shear displacement at moment of root breakage\n",
    "    def sheardisplacement_breakage(self, shear_band_thickness, interface_resistance):\n",
    "        tensile_force = self.roots.tensile_strength * self.roots.xsection\n",
    "        pullout_displacement = self.force2pullout_displacement(tensile_force, interface_resistance)\n",
    "        return(self.pullout2shear_displacement(pullout_displacement, shear_band_thickness))\n",
    "    \n",
    "    # calculate peak reinforcement\n",
    "    def peak_reinforcement(\n",
    "            self, \n",
    "            shear_band_thickness, \n",
    "            interface_resistance,\n",
    "            root_area_ratio\n",
    "            ):\n",
    "        # get shear displacements at root tensile failures\n",
    "        shear_displacement = self.sheardisplacement_breakage(\n",
    "            shear_band_thickness, interface_resistance)\n",
    "        # at each shear displacement, get force in each root\n",
    "        pullout_displacement = self.pullout_displacement(shear_displacement, shear_band_thickness)\n",
    "        pullout_force = np.array([self.pullout_force(u_s, interface_resistance) for u_s in pullout_displacement])\n",
    "        # k factor\n",
    "        orientation_factor = self.orientation_factor(shear_displacement, shear_band_thickness)\n",
    "        # reinforcement per root, per step\n",
    "        reinforcement_root_step = pullout_force * orientation_factor\n",
    "        # reinforcement per displacement step\n",
    "        reinforcement_step = np.sum(reinforcement_root_step, axis = 0)\n",
    "        # return shear displacement and peak reinforcement\n",
    "        return(\n",
    "            shear_displacement[np.argmax(reinforcement_step)],\n",
    "            np.max(reinforcement_step)\n",
    "        )"
   ]
  }
 ],
 "metadata": {
  "kernelspec": {
   "display_name": "py12",
   "language": "python",
   "name": "python3"
  },
  "language_info": {
   "codemirror_mode": {
    "name": "ipython",
    "version": 3
   },
   "file_extension": ".py",
   "mimetype": "text/x-python",
   "name": "python",
   "nbconvert_exporter": "python",
   "pygments_lexer": "ipython3",
   "version": "3.12.6"
  }
 },
 "nbformat": 4,
 "nbformat_minor": 2
}
