{
 "cells": [
  {
   "cell_type": "code",
   "execution_count": 1,
   "metadata": {},
   "outputs": [],
   "source": [
    "from pyrootmemo.pullout import Pullout\n",
    "from pyrootmemo.materials import MultipleRoots, Interface\n",
    "from pyrootmemo.helpers import units, Parameter\n",
    "from pint import Quantity\n",
    "import numpy as np\n",
    "import matplotlib.pyplot as plt"
   ]
  },
  {
   "cell_type": "code",
   "execution_count": 2,
   "metadata": {},
   "outputs": [],
   "source": [
    "# generate some root data\n",
    "if False:\n",
    "    roots = MultipleRoots(\n",
    "        species = \"test_species\",\n",
    "        diameter = Parameter([1, 2, 1, 3, 4, 5, 6, 3], 'mm'),\n",
    "        yield_strength = Parameter([20, 15, 20, 10, 5, 2.5, 10, 5], 'MPa'),\n",
    "        tensile_strength = Parameter([40, 30, 40, 20, 10, 5, 20, 10], 'MPa'),\n",
    "        elastic_modulus = Parameter([100, 100, 100, 100, 100, 100, 20, 100], 'MPa'),\n",
    "        plastic_modulus = Parameter([50, 50, 50, 50, 50, 50, 10, 50], 'MPa'),\n",
    "        length = Parameter([1, 1, 1, 1, 1, 1, 1, 1], 'm'),\n",
    "        length_surface = Parameter([0, 0, 0.1, 0.1, 0, 0, 0.1, 0], 'm')\n",
    "    )\n",
    "else:\n",
    "    roots = MultipleRoots(\n",
    "        species = \"test_species\",\n",
    "        diameter = Parameter([1], 'mm'),\n",
    "        yield_strength = Parameter([20], 'MPa'),\n",
    "        tensile_strength = Parameter([40], 'MPa'),\n",
    "        elastic_modulus = Parameter([100], 'MPa'),\n",
    "        plastic_modulus = Parameter([50], 'MPa'),\n",
    "        length = Parameter([1], 'm'),\n",
    "        length_surface = Parameter([0.1], 'm')\n",
    "    )    \n",
    "# interface data\n",
    "interface = Interface(shear_strength = Parameter(10, \"kPa\"))"
   ]
  },
  {
   "cell_type": "code",
   "execution_count": null,
   "metadata": {},
   "outputs": [],
   "source": [
    "p = Pullout(\n",
    "    roots, \n",
    "    interface, \n",
    "    surface = True,\n",
    "    breakage = True,\n",
    "    slipping = True,\n",
    "    elastoplastic = True,\n",
    "    weibull_shape = None\n",
    "    )"
   ]
  },
  {
   "cell_type": "code",
   "execution_count": 4,
   "metadata": {},
   "outputs": [
    {
     "name": "stdout",
     "output_type": "stream",
     "text": [
      "['Not in tension' 'Anchored, elastic' 'Slipping, elastic' 'Full pullout'\n",
      " 'Anchored, plastic' 'Slipping, plastic' 'Slipping, plastic'\n",
      " 'Full pullout']\n",
      "[[0.0] [190.20696701140048] [900.0] [inf] [inf] [inf] [inf]] millimeter\n",
      "[[0.0] [24.464187131824474] [0.0] [0.0] [0.0] [0.0] [0.0]] newton\n",
      "{'force': <Quantity([24.21196029], 'newton')>, 'behaviour_index': array([2]), 'survival_fraction': array([1.])}\n"
     ]
    },
    {
     "data": {
      "text/plain": [
       "<matplotlib.collections.PathCollection at 0x297fa119010>"
      ]
     },
     "execution_count": 4,
     "metadata": {},
     "output_type": "execute_result"
    },
    {
     "data": {
      "image/png": "[encoded data removed]",
      "text/plain": [
       "<Figure size 432x288 with 1 Axes>"
      ]
     },
     "metadata": {
      "needs_background": "light"
     },
     "output_type": "display_data"
    }
   ],
   "source": [
    "# print(p.coefficients)\n",
    "# print(p.displacement_limits)\n",
    "# print(p.displacement_limits.shape)\n",
    "# print(p.behaviour_types)\n",
    "\n",
    "# print(p.coefficients[0].shape)\n",
    "# print(p.coefficients[0])\n",
    "# print(p.coefficients[1])\n",
    "# print(p.coefficients[2])\n",
    "# print(p.coefficients[3])\n",
    "\n",
    "print(p.behaviour_types)\n",
    "# print(p.displacement_limits.shape)\n",
    "print(p.displacement_limits)\n",
    "# print(p.force_limits.shape)\n",
    "print(p.force_limits)\n",
    "\n",
    "disp = 200 * units('mm')\n",
    "print(p.calc_force(disp))\n",
    "\n",
    "d = np.linspace(-100, 1000, 250) * units('mm')\n",
    "f = Quantity.from_list([np.sum(p.calc_force(i)['force']) for i in d])\n",
    "plt.plot(d.magnitude, f.magnitude)\n",
    "plt.scatter(\n",
    "    p.displacement_limits[:, 0].magnitude, \n",
    "    p.force_limits[:, 0].magnitude\n",
    ")\n"
   ]
  },
  {
   "cell_type": "code",
   "execution_count": 5,
   "metadata": {},
   "outputs": [
    {
     "name": "stdout",
     "output_type": "stream",
     "text": [
      "[190.20696701140048] millimeter\n",
      "[319.9999999999999] megapascal ** 3 * millimeter ** 7 / newton ** 3\n",
      "[190.20696701140048] millimeter\n"
     ]
    }
   ],
   "source": [
    "d = p.calc_displacement_to_peak()\n",
    "print(d)"
   ]
  }
 ],
 "metadata": {
  "kernelspec": {
   "display_name": "rrmm",
   "language": "python",
   "name": "python3"
  },
  "language_info": {
   "codemirror_mode": {
    "name": "ipython",
    "version": 3
   },
   "file_extension": ".py",
   "mimetype": "text/x-python",
   "name": "python",
   "nbconvert_exporter": "python",
   "pygments_lexer": "ipython3",
   "version": "3.13.0"
  }
 },
 "nbformat": 4,
 "nbformat_minor": 2
}
