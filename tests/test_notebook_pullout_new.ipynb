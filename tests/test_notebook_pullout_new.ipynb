{
 "cells": [
  {
   "cell_type": "code",
   "execution_count": 5,
   "metadata": {},
   "outputs": [],
   "source": [
    "from pyrootmemo.pullout import Pullout\n",
    "from pyrootmemo.materials import MultipleRoots, Interface\n",
    "from pyrootmemo.helpers import units, Parameter\n",
    "import numpy as np"
   ]
  },
  {
   "cell_type": "code",
   "execution_count": 6,
   "metadata": {},
   "outputs": [],
   "source": [
    "# generate some root data\n",
    "if False:\n",
    "    roots = MultipleRoots(\n",
    "        species = \"test_species\",\n",
    "        diameter = Parameter([1, 2, 1, 3, 4, 5, 6, 3], 'mm'),\n",
    "        yield_strength = Parameter([20, 15, 20, 10, 5, 2.5, 10, 5], 'MPa'),\n",
    "        tensile_strength = Parameter([40, 30, 40, 20, 10, 5, 20, 10], 'MPa'),\n",
    "        elastic_modulus = Parameter([100, 100, 100, 100, 100, 100, 20, 100], 'MPa'),\n",
    "        plastic_modulus = Parameter([50, 50, 50, 50, 50, 50, 10, 50], 'MPa'),\n",
    "        length = Parameter([1, 1, 1, 1, 1, 1, 1, 1], 'm'),\n",
    "        length_surface = Parameter([0, 0, 0.1, 0.1, 0, 0, 0.1, 0], 'm')\n",
    "    )\n",
    "else:\n",
    "    roots = MultipleRoots(\n",
    "        species = \"test_species\",\n",
    "        diameter = Parameter([1], 'mm'),\n",
    "        yield_strength = Parameter([20], 'MPa'),\n",
    "        tensile_strength = Parameter([40], 'MPa'),\n",
    "        elastic_modulus = Parameter([100], 'MPa'),\n",
    "        plastic_modulus = Parameter([50], 'MPa'),\n",
    "        length = Parameter([1], 'm'),\n",
    "        length_surface = Parameter([0.1], 'm')\n",
    "    )    \n",
    "# interface data\n",
    "interface = Interface(shear_strength = Parameter(10, \"kPa\"))"
   ]
  },
  {
   "cell_type": "code",
   "execution_count": 7,
   "metadata": {},
   "outputs": [],
   "source": [
    "p = Pullout(\n",
    "    roots, \n",
    "    interface, \n",
    "    surface = True,\n",
    "    breakage = True,\n",
    "    slipping = True,\n",
    "    elastoplastic = True,\n",
    "    weibull_shape = 4\n",
    "    )"
   ]
  },
  {
   "cell_type": "code",
   "execution_count": 9,
   "metadata": {},
   "outputs": [
    {
     "name": "stdout",
     "output_type": "stream",
     "text": [
      "[0.0] millimeter / newton ** 3\n",
      "[-0.405284734569351] millimeter / newton ** 2\n",
      "[-19.09859317102744] millimeter / newton\n",
      "[900.0] millimeter\n",
      "[[0.0] [79.99999999999999] [79.99999999999999] [79.99999999999999] [228.42712474619023] [539.2135623730951] [939.2135623730951]] millimeter\n",
      "[[0.0] [15.707963267948966] [15.707963267948966] [15.707963267948966] [24.12011019108165] [15.707963267948966] [0.0]] newton\n",
      "[31.41592653589793] newton\n"
     ]
    },
    {
     "ename": "ValueError",
     "evalue": "shape mismatch: value array of shape (1,0) could not be broadcast to indexing result of shape (1,1)",
     "output_type": "error",
     "traceback": [
      "\u001b[1;31m---------------------------------------------------------------------------\u001b[0m",
      "\u001b[1;31mValueError\u001b[0m                                Traceback (most recent call last)",
      "Cell \u001b[1;32mIn[9], line 17\u001b[0m\n\u001b[0;32m     15\u001b[0m disp \u001b[38;5;241m=\u001b[39m \u001b[38;5;241m200\u001b[39m \u001b[38;5;241m*\u001b[39m units(\u001b[38;5;124m'\u001b[39m\u001b[38;5;124mmm\u001b[39m\u001b[38;5;124m'\u001b[39m)\n\u001b[0;32m     16\u001b[0m \u001b[38;5;28mprint\u001b[39m((roots\u001b[38;5;241m.\u001b[39mxsection \u001b[38;5;241m*\u001b[39m roots\u001b[38;5;241m.\u001b[39mtensile_strength)\u001b[38;5;241m.\u001b[39mto(\u001b[38;5;124m'\u001b[39m\u001b[38;5;124mN\u001b[39m\u001b[38;5;124m'\u001b[39m))\n\u001b[1;32m---> 17\u001b[0m \u001b[38;5;28mprint\u001b[39m(p\u001b[38;5;241m.\u001b[39mcalc_force(disp))\n",
      "File \u001b[1;32m~\\Documents\\github\\pyrootmemo\\src\\pyrootmemo\\pullout.py:431\u001b[0m, in \u001b[0;36mPullout.calc_force\u001b[1;34m(self, displacement)\u001b[0m\n\u001b[0;32m    429\u001b[0m \u001b[38;5;28;01mif\u001b[39;00m \u001b[38;5;28mself\u001b[39m\u001b[38;5;241m.\u001b[39melastoplastic \u001b[38;5;129;01mis\u001b[39;00m \u001b[38;5;28;01mTrue\u001b[39;00m:\n\u001b[0;32m    430\u001b[0m     mask_pl_anch \u001b[38;5;241m=\u001b[39m (behaviour_index \u001b[38;5;241m==\u001b[39m \u001b[38;5;241m4\u001b[39m)\n\u001b[1;32m--> 431\u001b[0m     force_unbroken[mask_pl_anch] \u001b[38;5;241m=\u001b[39m solve_cubic(\n\u001b[0;32m    432\u001b[0m         \u001b[38;5;28mself\u001b[39m\u001b[38;5;241m.\u001b[39mcoefficients[\u001b[38;5;241m0\u001b[39m][\u001b[38;5;241m4\u001b[39m, mask_pl_anch],\n\u001b[0;32m    433\u001b[0m         \u001b[38;5;28mself\u001b[39m\u001b[38;5;241m.\u001b[39mcoefficients[\u001b[38;5;241m1\u001b[39m][\u001b[38;5;241m4\u001b[39m, mask_pl_anch],\n\u001b[0;32m    434\u001b[0m         \u001b[38;5;28mself\u001b[39m\u001b[38;5;241m.\u001b[39mcoefficients[\u001b[38;5;241m2\u001b[39m][\u001b[38;5;241m4\u001b[39m, mask_pl_anch],\n\u001b[0;32m    435\u001b[0m         (\u001b[38;5;28mself\u001b[39m\u001b[38;5;241m.\u001b[39mcoefficients[\u001b[38;5;241m3\u001b[39m][\u001b[38;5;241m4\u001b[39m, \u001b[38;5;241m.\u001b[39m\u001b[38;5;241m.\u001b[39m\u001b[38;5;241m.\u001b[39m] \u001b[38;5;241m-\u001b[39m displacement)[mask_pl_anch]\n\u001b[0;32m    436\u001b[0m         )\n\u001b[0;32m    437\u001b[0m     \u001b[38;5;28;01mif\u001b[39;00m \u001b[38;5;28mself\u001b[39m\u001b[38;5;241m.\u001b[39mslipping \u001b[38;5;129;01mis\u001b[39;00m \u001b[38;5;28;01mTrue\u001b[39;00m:\n\u001b[0;32m    438\u001b[0m         mask_pl_slip_aboveyield \u001b[38;5;241m=\u001b[39m (behaviour_index \u001b[38;5;241m==\u001b[39m \u001b[38;5;241m5\u001b[39m)\n",
      "File \u001b[1;32m~\\Documents\\github\\pyrootmemo\\src\\pyrootmemo\\pullout.py:97\u001b[0m, in \u001b[0;36msolve_cubic\u001b[1;34m(a, b, c, d)\u001b[0m\n\u001b[0;32m     89\u001b[0m A \u001b[38;5;241m=\u001b[39m (\n\u001b[0;32m     90\u001b[0m     \u001b[38;5;241m-\u001b[39mnp\u001b[38;5;241m.\u001b[39msign(R[flag_1root]) \n\u001b[0;32m     91\u001b[0m     \u001b[38;5;241m*\u001b[39m (\n\u001b[1;32m   (...)\u001b[0m\n\u001b[0;32m     94\u001b[0m         ) \u001b[38;5;241m*\u001b[39m\u001b[38;5;241m*\u001b[39m (\u001b[38;5;241m1.0\u001b[39m \u001b[38;5;241m/\u001b[39m \u001b[38;5;241m3.0\u001b[39m)\n\u001b[0;32m     95\u001b[0m     )\n\u001b[0;32m     96\u001b[0m B \u001b[38;5;241m=\u001b[39m Q[flag_1root] \u001b[38;5;241m/\u001b[39m A\n\u001b[1;32m---> 97\u001b[0m x[flag_1root] \u001b[38;5;241m=\u001b[39m (A \u001b[38;5;241m+\u001b[39m B) \u001b[38;5;241m-\u001b[39m e[flag_1root] \u001b[38;5;241m/\u001b[39m \u001b[38;5;241m3.0\u001b[39m\n\u001b[0;32m     98\u001b[0m flag_zero \u001b[38;5;241m=\u001b[39m np\u001b[38;5;241m.\u001b[39misclose(d\u001b[38;5;241m.\u001b[39mmagnitude, \u001b[38;5;241m0.0\u001b[39m)\n\u001b[0;32m     99\u001b[0m x[flag_zero] \u001b[38;5;241m=\u001b[39m \u001b[38;5;241m0.0\u001b[39m \u001b[38;5;241m*\u001b[39md\u001b[38;5;241m.\u001b[39munits \u001b[38;5;241m/\u001b[39m c\u001b[38;5;241m.\u001b[39munits\n",
      "File \u001b[1;32mc:\\Users\\gjm36\\AppData\\Local\\miniforge3\\envs\\rrmm\\Lib\\site-packages\\pint\\facets\\numpy\\quantity.py:296\u001b[0m, in \u001b[0;36mNumpyQuantity.__setitem__\u001b[1;34m(self, key, value)\u001b[0m\n\u001b[0;32m    288\u001b[0m     \u001b[38;5;28;01mif\u001b[39;00m \u001b[38;5;129;01mnot\u001b[39;00m factor\u001b[38;5;241m.\u001b[39mdimensionless:\n\u001b[0;32m    289\u001b[0m         \u001b[38;5;28;01mraise\u001b[39;00m DimensionalityError(\n\u001b[0;32m    290\u001b[0m             value,\n\u001b[0;32m    291\u001b[0m             \u001b[38;5;28mself\u001b[39m\u001b[38;5;241m.\u001b[39munits,\n\u001b[1;32m   (...)\u001b[0m\n\u001b[0;32m    294\u001b[0m             \u001b[38;5;124mf\u001b[39m\u001b[38;5;124m\"\u001b[39m\u001b[38;5;124m`obj.magnitude[\u001b[39m\u001b[38;5;132;01m{\u001b[39;00mkey\u001b[38;5;132;01m}\u001b[39;00m\u001b[38;5;124m] = \u001b[39m\u001b[38;5;132;01m{\u001b[39;00mvalue\u001b[38;5;132;01m}\u001b[39;00m\u001b[38;5;124m`.\u001b[39m\u001b[38;5;124m\"\u001b[39m,\n\u001b[0;32m    295\u001b[0m         )\n\u001b[1;32m--> 296\u001b[0m     \u001b[38;5;28mself\u001b[39m\u001b[38;5;241m.\u001b[39m_magnitude[key] \u001b[38;5;241m=\u001b[39m factor\u001b[38;5;241m.\u001b[39mmagnitude\n\u001b[0;32m    297\u001b[0m \u001b[38;5;28;01melse\u001b[39;00m:\n\u001b[0;32m    298\u001b[0m     \u001b[38;5;28mself\u001b[39m\u001b[38;5;241m.\u001b[39m_magnitude[key] \u001b[38;5;241m=\u001b[39m factor\n",
      "\u001b[1;31mValueError\u001b[0m: shape mismatch: value array of shape (1,0) could not be broadcast to indexing result of shape (1,1)"
     ]
    }
   ],
   "source": [
    "# print(p.coefficients)\n",
    "# print(p.displacement_limits)\n",
    "# print(p.displacement_limits.shape)\n",
    "# print(p.behaviour_types)\n",
    "i = 2\n",
    "print(p.coefficients[0][i])\n",
    "print(p.coefficients[1][i])\n",
    "print(p.coefficients[2][i])\n",
    "print(p.coefficients[3][i])\n",
    "# print(p.coefficients[0].shape)\n",
    "# print(p.displacement_limits.shape)\n",
    "print(p.displacement_limits)\n",
    "print(p.force_limits)\n",
    "# print([i.shape for i in p.coefficients])\n",
    "disp = 200 * units('mm')\n",
    "print((roots.xsection * roots.tensile_strength).to('N'))\n",
    "print(p.calc_force(disp))\n"
   ]
  }
 ],
 "metadata": {
  "kernelspec": {
   "display_name": "rrmm",
   "language": "python",
   "name": "python3"
  },
  "language_info": {
   "codemirror_mode": {
    "name": "ipython",
    "version": 3
   },
   "file_extension": ".py",
   "mimetype": "text/x-python",
   "name": "python",
   "nbconvert_exporter": "python",
   "pygments_lexer": "ipython3",
   "version": "3.13.0"
  }
 },
 "nbformat": 4,
 "nbformat_minor": 2
}
