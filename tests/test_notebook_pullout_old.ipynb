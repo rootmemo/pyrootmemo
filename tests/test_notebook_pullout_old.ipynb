{
 "cells": [
  {
   "cell_type": "code",
   "execution_count": 1,
   "metadata": {},
   "outputs": [],
   "source": [
    "from pyrootmemo.pullout import Pullout_embedded_elastic, Pullout_embedded_elastic_slipping, Pullout_embedded_elastic_breakage, Pullout_embedded_elastic_breakage_slipping\n",
    "from pyrootmemo.pullout import Pullout_embedded_elastoplastic, Pullout_embedded_elastoplastic_slipping, Pullout_embedded_elastoplastic_breakage, Pullout_embedded_elastoplastic_breakage_slipping\n",
    "from pyrootmemo.materials import MultipleRoots, Interface\n",
    "from pyrootmemo.tools.helpers import units\n",
    "import numpy as np"
   ]
  },
  {
   "cell_type": "code",
   "execution_count": 13,
   "metadata": {},
   "outputs": [],
   "source": [
    "# generate some root data\n",
    "from collections import namedtuple\n",
    "Parameter = namedtuple(\"parameter\", \"value unit\")\n",
    "roots = MultipleRoots(\n",
    "    species = \"test_species\",\n",
    "    diameter = Parameter([1, 2, 1, 3, 4, 5, 6, 3], 'mm'),\n",
    "    yield_strength = Parameter([20, 15, 20, 10, 5, 2.5, 10, 5], 'MPa'),\n",
    "    tensile_strength = Parameter([40, 30, 40, 20, 10, 5, 20, 10], 'MPa'),\n",
    "    elastic_modulus = Parameter([100, 100, 100, 100, 100, 100, 20, 100], 'MPa'),\n",
    "    plastic_modulus = Parameter([50, 50, 50, 50, 50, 50, 10, 50], 'MPa'),\n",
    "    length = Parameter([1, 1, 1, 1, 1, 1, 1, 1], 'm')\n",
    ")\n",
    "# interface data\n",
    "interface = Interface(shear_strength = Parameter(10, \"kPa\"))\n",
    "# Weibull shape parameter\n",
    "weibull_shape = 10 "
   ]
  },
  {
   "cell_type": "code",
   "execution_count": 21,
   "metadata": {},
   "outputs": [
    {
     "name": "stdout",
     "output_type": "stream",
     "text": [
      "(<Quantity([1.71159391e+01 6.21736057e+01 1.71159391e+01 9.32604086e+01\n",
      " 6.84637565e+01 1.57251696e-27 1.88493621e+02 1.95292702e-03], 'newton')>, <Quantity([0. 0. 0. 0. 0. 0. 0. 0.], 'newton / meter')>, <Quantity([5.44817264e-01 9.89523668e-01 5.44817264e-01 9.89523668e-01\n",
      " 5.44817264e-01 1.00109539e-29 9.99989715e-01 2.07211992e-05], 'dimensionless')>, array([2, 2, 2, 2, 2, 2, 2, 2]))\n",
      "[0.0 0.0 0.0 0.0 0.0 0.0 0.0 0.0] newton / meter\n"
     ]
    }
   ],
   "source": [
    "#p = Pullout_base(roots, soil_resistance)\n",
    "#print(p.roots.xsection)\n",
    "\n",
    "p0 = Pullout_embedded_elastic(roots, interface)\n",
    "p1 = Pullout_embedded_elastic_slipping(roots, interface)\n",
    "p2 = Pullout_embedded_elastic_breakage(roots, interface, weibull_shape = weibull_shape)\n",
    "p3 = Pullout_embedded_elastic_breakage_slipping(roots, interface, weibull_shape = weibull_shape)\n",
    "#p4 = Pullout_embedded_elastoplastic(roots, interface)\n",
    "#p5 = Pullout_embedded_elastoplastic_slipping(roots, interface)\n",
    "#p6 = Pullout_embedded_elastoplastic_breakage(roots, interface, weibull_shape = weibull_shape)\n",
    "#p7 = Pullout_embedded_elastoplastic_breakage_slipping(roots, interface, weibull_shape = weibull_shape)\n",
    "\n",
    "p = p3\n",
    "# print(p.behaviour_types)\n",
    "# print(p.limits)\n",
    "# print(p.coefficients)\n",
    "# print(p.force(50 * units('mm')))\n",
    "\n",
    "disp = np.linspace(0, 300, 20) * units['mm']\n",
    "out = p.force(disp[15], jac = True)\n",
    "print(out)\n",
    "print(out[1])\n",
    "#f,df,S,b = p.calculate(disp)\n",
    "#print(f)\n",
    "#print(S)\n",
    "#print(b)\n",
    "\n",
    "#p.plot(displacement_max = 300 * units['mm'])"
   ]
  },
  {
   "cell_type": "code",
   "execution_count": 31,
   "metadata": {},
   "outputs": [
    {
     "data": {
      "text/plain": [
       "['Not in tension', 'Anchored, elastic']"
      ]
     },
     "execution_count": 31,
     "metadata": {},
     "output_type": "execute_result"
    }
   ],
   "source": [
    "BEHAVIOUR_NAMES = [\n",
    "    'Not in tension',\n",
    "    'Anchored, elastic',\n",
    "    'Slipping, elastic',\n",
    "    'Anchored, plastic',   \n",
    "    'Slipping, plastic'\n",
    "]\n",
    "[BEHAVIOUR_NAMES[i] for i in [0, 1]]\n"
   ]
  }
 ],
 "metadata": {
  "kernelspec": {
   "display_name": "rrmm",
   "language": "python",
   "name": "python3"
  },
  "language_info": {
   "codemirror_mode": {
    "name": "ipython",
    "version": 3
   },
   "file_extension": ".py",
   "mimetype": "text/x-python",
   "name": "python",
   "nbconvert_exporter": "python",
   "pygments_lexer": "ipython3",
   "version": "3.13.0"
  }
 },
 "nbformat": 4,
 "nbformat_minor": 2
}
