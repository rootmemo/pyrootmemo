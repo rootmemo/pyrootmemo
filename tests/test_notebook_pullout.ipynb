{
 "cells": [
  {
   "cell_type": "code",
   "execution_count": 1,
   "metadata": {},
   "outputs": [],
   "source": [
    "from pyrootmemo.pullout import PulloutEmbeddedElastic, PulloutEmbeddedElasticSlipping\n",
    "from pyrootmemo.pullout import PulloutEmbeddedElasticBreakage, PulloutEmbeddedElasticBreakageSlipping\n",
    "from pyrootmemo.pullout import PulloutEmbeddedElastoplastic, PulloutEmbeddedElastoplasticSlipping\n",
    "from pyrootmemo.pullout import PulloutEmbeddedElastoplasticBreakage, PulloutEmbeddedElastoplasticBreakageSlipping\n",
    "from pyrootmemo.pullout import PulloutSurfaceElastic, PulloutSurfaceElasticSlipping\n",
    "from pyrootmemo.pullout import PulloutSurfaceElasticBreakage, PulloutSurfaceElasticBreakageSlipping\n",
    "from pyrootmemo.pullout import PulloutSurfaceElastoplastic, PulloutSurfaceElastoplasticSlipping\n",
    "from pyrootmemo.pullout import PulloutSurfaceElastoplasticBreakage, PulloutSurfaceElastoplasticBreakageSlipping\n",
    "from pyrootmemo.materials import MultipleRoots, Interface\n",
    "from pyrootmemo.tools.helpers import units\n",
    "import numpy as np\n",
    "import matplotlib.pyplot as plt"
   ]
  },
  {
   "cell_type": "code",
   "execution_count": 2,
   "metadata": {},
   "outputs": [],
   "source": [
    "# generate some root data\n",
    "from collections import namedtuple\n",
    "Parameter = namedtuple(\"parameter\", \"value unit\")\n",
    "roots = MultipleRoots(\n",
    "    species = \"test_species\",\n",
    "    diameter = Parameter([1], 'mm'),\n",
    "    yield_strength = Parameter([10.0], 'MPa'),\n",
    "    tensile_strength = Parameter([25.0], 'MPa'),\n",
    "    elastic_modulus = Parameter([200.0], 'MPa'),\n",
    "    plastic_modulus = Parameter([50.0], 'MPa'),\n",
    "    unload_modulus = Parameter([200.0], 'MPa'),\n",
    "    length = Parameter([1000.0], 'mm'),\n",
    "    length_surface = Parameter([400], 'mm')\n",
    ")\n",
    "# interface data\n",
    "interface = Interface(shear_strength = Parameter(20, \"kPa\"))\n",
    "# Weibull shape parameter\n",
    "weibull_shape = 10"
   ]
  },
  {
   "cell_type": "code",
   "execution_count": 3,
   "metadata": {},
   "outputs": [
    {
     "name": "stdout",
     "output_type": "stream",
     "text": [
      "[[0.0 5.0660591821168874e-05 0.0002026423672846755]] meter / newton ** 2\n",
      "[[0.0 0.0 -0.00238732414637843]] meter / newton\n",
      "[[0.0 0.0 0.009375]] meter\n"
     ]
    }
   ],
   "source": [
    "#p = Pullout_base(roots, soil_resistance)\n",
    "#print(p.roots.xsection)\n",
    "\n",
    "p0 = PulloutEmbeddedElastic(roots, interface)\n",
    "p1 = PulloutEmbeddedElasticSlipping(roots, interface)\n",
    "p2 = PulloutEmbeddedElasticBreakage(roots, interface)\n",
    "p3 = PulloutEmbeddedElasticBreakageSlipping(roots, interface)\n",
    "p4 = PulloutEmbeddedElastoplastic(roots, interface)\n",
    "p5 = PulloutEmbeddedElastoplasticSlipping(roots, interface)\n",
    "p6 = PulloutEmbeddedElastoplasticBreakage(roots, interface, weibull_shape = weibull_shape)\n",
    "p7 = PulloutEmbeddedElastoplasticBreakageSlipping(roots, interface, weibull_shape = weibull_shape)\n",
    "\n",
    "p = p4\n",
    "#print(p.behaviour_types)\n",
    "#print(p.limits[0])\n",
    "#print(p.limits[1])\n",
    "print(p.coefficients[0])\n",
    "print(p.coefficients[1])\n",
    "print(p.coefficients[2])\n",
    "if False:\n",
    "    disp = np.linspace(0, 250, 10) * units('mm')\n",
    "    res = [p.force(d, jac = True) for d in disp]\n",
    "    reinf_all = np.array([i[0] for i in res])\n",
    "    reinf = reinf_all.sum(axis = 1)\n",
    "    reinf = reinf_all[:, 0]\n",
    "    plt.plot(disp, reinf)\n",
    "    print(reinf)\n",
    "\n",
    "\n",
    "\n",
    "#disp = 20.0 * units['mm']\n",
    "#out = p.force(disp, jac = True)\n",
    "#print(out)\n",
    "#print(out[1])\n",
    "#f,df,S,b = p.calculate(disp)\n",
    "#print(f)\n",
    "#print(S)\n",
    "#print(b)\n",
    "\n",
    "#p.plot(displacement_max = 300 * units['mm'])"
   ]
  },
  {
   "cell_type": "code",
   "execution_count": 7,
   "metadata": {},
   "outputs": [
    {
     "name": "stdout",
     "output_type": "stream",
     "text": [
      "[0.0 0.023281250000000003] meter\n",
      "[0.0 7.853981633974483] newton\n",
      "(<Quantity([7.85398163], 'newton')>, None, array([1.]), array([2]))\n"
     ]
    }
   ],
   "source": [
    "# SURFACE ROOTS\n",
    "p0 = PulloutSurfaceElastic(roots, interface)\n",
    "p1 = PulloutSurfaceElasticSlipping(roots, interface)\n",
    "p2 = PulloutSurfaceElasticBreakage(roots, interface)\n",
    "p3 = PulloutSurfaceElasticBreakageSlipping(roots, interface, weibull_shape = 4.0)\n",
    "p4 = PulloutSurfaceElastoplastic(roots, interface)\n",
    "p5 = PulloutSurfaceElastoplasticSlipping(roots, interface)\n",
    "p6 = PulloutSurfaceElastoplasticBreakage(roots, interface)\n",
    "p7 = PulloutSurfaceElastoplasticBreakageSlipping(roots, interface, weibull_shape = 5.0)\n",
    "\n",
    "p = p6\n",
    "#print(p.coefficients)\n",
    "print(p.limits[0][0])\n",
    "print(p.limits[1][0])\n",
    "#print(p.behaviour_types)\n",
    "print(p.force(150 * units['mm'], jac = False))\n"
   ]
  },
  {
   "cell_type": "code",
   "execution_count": 8,
   "metadata": {},
   "outputs": [
    {
     "name": "stdout",
     "output_type": "stream",
     "text": [
      "[0 1 1 1 1 2 2 2 2 2 2 2 2 2 2 2 2 2 2 2 2 2 2 2 2 2 2 2 2 2 2 2 2 2 2 2 2\n",
      " 2 2 2 2 2 2 2 2 2 2 2 2 2 2 2 2 2 2 2 2 2 2 2 2 2 2 2 2 2 2 2 2 2 2 2 2 2\n",
      " 2 2 2 2 2 2 2 2 2 2 2 2 2 2 2 2 2 2 2 2 2 2 2 2 2 2 2 2 2 2 2 2 2 2 2 2 2\n",
      " 2 2 2 2 2 2 2 2 2 2 2 2 2 2 2 2 2 2 2 2 2 2 2 2 2 2 2 2 2 2 2 2 2 2 2 2 2\n",
      " 2 2 2 2 2 2 2 2 2 2 2 2 2 2 2 2 2 2 2 2 2 2 2 2 2 2 2 2 2 2 2 2 2 2 2 2 2\n",
      " 2 2 2 2 2 2 2 2 2 2 2 2 2 2 2]\n",
      "[1. 1. 1. 1. 1. 1. 1. 1. 1. 1. 1. 1. 1. 1. 1. 1. 1. 1. 1. 1. 1. 1. 1. 1.\n",
      " 1. 1. 1. 1. 1. 1. 1. 1. 1. 1. 1. 1. 1. 1. 1. 1. 1. 1. 1. 1. 1. 1. 1. 1.\n",
      " 1. 1. 1. 1. 1. 1. 1. 1. 1. 1. 1. 1. 1. 1. 1. 1. 1. 1. 1. 1. 1. 1. 1. 1.\n",
      " 1. 1. 1. 1. 1. 1. 1. 1. 1. 1. 1. 1. 1. 1. 1. 1. 1. 1. 1. 1. 1. 1. 1. 1.\n",
      " 1. 1. 1. 1. 1. 1. 1. 1. 1. 1. 1. 1. 1. 1. 1. 1. 1. 1. 1. 1. 1. 1. 1. 1.\n",
      " 1. 1. 1. 1. 1. 1. 1. 1. 1. 1. 1. 1. 1. 1. 1. 1. 1. 1. 1. 1. 1. 1. 1. 1.\n",
      " 1. 1. 1. 1. 1. 1. 1. 1. 1. 1. 1. 1. 1. 1. 1. 1. 1. 1. 1. 1. 1. 1. 1. 1.\n",
      " 1. 1. 1. 1. 1. 1. 1. 1. 1. 1. 1. 1. 1. 1. 1. 1. 1. 1. 1. 1. 1. 1. 1. 1.\n",
      " 1. 1. 1. 1. 1. 1. 1. 1.]\n"
     ]
    },
    {
     "data": {
      "image/png": "[encoded data removed]",
      "text/plain": [
       "<Figure size 432x288 with 1 Axes>"
      ]
     },
     "metadata": {
      "needs_background": "light"
     },
     "output_type": "display_data"
    }
   ],
   "source": [
    "disp = np.linspace(0, 1000, 200) * units('mm')\n",
    "an = [p.force(d) for d in disp]\n",
    "forc = np.array([a[0].magnitude for a in an]).ravel()\n",
    "#print(forc)\n",
    "plt.plot(disp.magnitude, forc)\n",
    "print(np.array([a[3] for a in an]).ravel())\n",
    "print(np.array([a[2] for a in an]).ravel())"
   ]
  },
  {
   "cell_type": "code",
   "execution_count": 6,
   "metadata": {},
   "outputs": [
    {
     "name": "stdout",
     "output_type": "stream",
     "text": [
      "[0.7853981633974483] millimeter ** 2\n",
      "[3.141592653589793] millimeter\n",
      "[19.634954084936208] megapascal * millimeter ** 2\n"
     ]
    }
   ],
   "source": [
    "print(roots.xsection)\n",
    "print(roots.circumference)\n",
    "print(roots.xsection * roots.tensile_strength)"
   ]
  }
 ],
 "metadata": {
  "kernelspec": {
   "display_name": "rrmm",
   "language": "python",
   "name": "python3"
  },
  "language_info": {
   "codemirror_mode": {
    "name": "ipython",
    "version": 3
   },
   "file_extension": ".py",
   "mimetype": "text/x-python",
   "name": "python",
   "nbconvert_exporter": "python",
   "pygments_lexer": "ipython3",
   "version": "3.13.0"
  }
 },
 "nbformat": 4,
 "nbformat_minor": 2
}
