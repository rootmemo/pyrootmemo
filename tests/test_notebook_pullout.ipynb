{
 "cells": [
  {
   "cell_type": "code",
   "execution_count": 1,
   "metadata": {},
   "outputs": [],
   "source": [
    "from pyrootmemo.pullout import Pullout_embedded_elastic, Pullout_embedded_elastic_slipping\n",
    "from pyrootmemo.pullout import Pullout_embedded_elastic_breakage, Pullout_embedded_elastic_breakage_slipping\n",
    "from pyrootmemo.pullout import Pullout_embedded_elastoplastic, Pullout_embedded_elastoplastic_slipping\n",
    "from pyrootmemo.pullout import Pullout_embedded_elastoplastic_breakage, Pullout_embedded_elastoplastic_breakage_slipping\n",
    "from pyrootmemo.materials import MultipleRoots, Interface\n",
    "from pyrootmemo.tools.helpers import units\n",
    "import numpy as np"
   ]
  },
  {
   "cell_type": "code",
   "execution_count": 2,
   "metadata": {},
   "outputs": [],
   "source": [
    "# generate some root data\n",
    "from collections import namedtuple\n",
    "Parameter = namedtuple(\"parameter\", \"value unit\")\n",
    "roots = MultipleRoots(\n",
    "    species = \"test_species\",\n",
    "    diameter = Parameter([1, 6, 3], 'mm'),\n",
    "    yield_strength = Parameter([15, 10, 5], 'MPa'),\n",
    "    tensile_strength = Parameter([30, 20, 10], 'MPa'),\n",
    "    elastic_modulus = Parameter([100, 20, 100], 'MPa'),\n",
    "    plastic_modulus = Parameter([50, 10, 50], 'MPa'),\n",
    "    length = Parameter([1, 1, 0.01], 'm')\n",
    ")\n",
    "# interface data\n",
    "interface = Interface(shear_strength = Parameter(10, \"kPa\"))\n",
    "# Weibull shape parameter\n",
    "weibull_shape = 10 "
   ]
  },
  {
   "cell_type": "code",
   "execution_count": 6,
   "metadata": {},
   "outputs": [
    {
     "name": "stdout",
     "output_type": "stream",
     "text": [
      "[[0.0 0.028124999999999994 0.028124999999999994 0.278125] [0.0 0.16666666666666666 inf inf] [0.0 6.66666666666667e-06 inf inf]] meter\n",
      "[[0.0 31.41592653589793 11.780972450961723 31.41592653589793] [0.0 188.49555921538757 282.7433388230814 188.49555921538757] [0.0 0.942477796076938 35.34291735288517 0.942477796076938]] newton\n",
      "[9.934588265796103 65.29677711243184 0.942477796076938] newton\n",
      "[248.36470664490255 1632.4194278107962 0.0] newton / meter\n",
      "[1. 1. 1.]\n",
      "[1 1 2]\n"
     ]
    }
   ],
   "source": [
    "#p = Pullout_base(roots, soil_resistance)\n",
    "#print(p.roots.xsection)\n",
    "\n",
    "p0 = Pullout_embedded_elastic(roots, interface)\n",
    "p1 = Pullout_embedded_elastic_slipping(roots, interface)\n",
    "p2 = Pullout_embedded_elastic_breakage(roots, interface)\n",
    "p3 = Pullout_embedded_elastic_breakage_slipping(roots, interface)\n",
    "p4 = Pullout_embedded_elastoplastic(roots, interface)\n",
    "p5 = Pullout_embedded_elastoplastic_slipping(roots, interface)\n",
    "p6 = Pullout_embedded_elastoplastic_breakage(roots, interface, weibull_shape = weibull_shape)\n",
    "p7 = Pullout_embedded_elastoplastic_breakage_slipping(roots, interface, weibull_shape = weibull_shape)\n",
    "\n",
    "p = p5\n",
    "#print(p.behaviour_types)\n",
    "print(p.limits[0])\n",
    "print(p.limits[1])\n",
    "# print(p.coefficients[0])\n",
    "# print(p.coefficients[1])\n",
    "# print(p.coefficients[2])\n",
    "a, b, c, d = p.force(20 * units('mm'), jac = True)\n",
    "print(a)\n",
    "print(b)\n",
    "print(c)\n",
    "print(d)\n",
    "\n",
    "\n",
    "#disp = 20.0 * units['mm']\n",
    "#out = p.force(disp, jac = True)\n",
    "#print(out)\n",
    "#print(out[1])\n",
    "#f,df,S,b = p.calculate(disp)\n",
    "#print(f)\n",
    "#print(S)\n",
    "#print(b)\n",
    "\n",
    "#p.plot(displacement_max = 300 * units['mm'])"
   ]
  }
 ],
 "metadata": {
  "kernelspec": {
   "display_name": "rrmm",
   "language": "python",
   "name": "python3"
  },
  "language_info": {
   "codemirror_mode": {
    "name": "ipython",
    "version": 3
   },
   "file_extension": ".py",
   "mimetype": "text/x-python",
   "name": "python",
   "nbconvert_exporter": "python",
   "pygments_lexer": "ipython3",
   "version": "3.13.0"
  }
 },
 "nbformat": 4,
 "nbformat_minor": 2
}
