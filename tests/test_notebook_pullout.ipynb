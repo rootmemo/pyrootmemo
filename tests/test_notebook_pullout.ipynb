{
 "cells": [
  {
   "cell_type": "code",
   "execution_count": 1,
   "metadata": {},
   "outputs": [],
   "source": [
    "from pyrootmemo.pullout import PulloutEmbeddedElastic, PulloutEmbeddedElasticSlipping\n",
    "from pyrootmemo.pullout import PulloutEmbeddedElasticBreakage, PulloutEmbeddedElasticBreakageSlipping\n",
    "from pyrootmemo.pullout import PulloutEmbeddedElastoplastic, PulloutEmbeddedElastoplasticSlipping\n",
    "from pyrootmemo.pullout import PulloutEmbeddedElastoplasticBreakage, PulloutEmbeddedElastoplasticBreakageSlipping\n",
    "from pyrootmemo.pullout import PulloutSurfaceElastic, PulloutSurfaceElasticSlipping\n",
    "from pyrootmemo.pullout import PulloutSurfaceElasticBreakage, PulloutSurfaceElasticBreakageSlipping\n",
    "from pyrootmemo.pullout import PulloutSurfaceElastoplastic, PulloutSurfaceElastoplasticSlipping\n",
    "from pyrootmemo.materials import MultipleRoots, Interface\n",
    "from pyrootmemo.tools.helpers import units\n",
    "import numpy as np\n",
    "import matplotlib.pyplot as plt"
   ]
  },
  {
   "cell_type": "code",
   "execution_count": 2,
   "metadata": {},
   "outputs": [],
   "source": [
    "# generate some root data\n",
    "from collections import namedtuple\n",
    "Parameter = namedtuple(\"parameter\", \"value unit\")\n",
    "roots = MultipleRoots(\n",
    "    species = \"test_species\",\n",
    "    diameter = Parameter([1, 6, 3], 'mm'),\n",
    "    yield_strength = Parameter([25, 10, 5], 'MPa'),\n",
    "    tensile_strength = Parameter([30, 20, 10], 'MPa'),\n",
    "    elastic_modulus = Parameter([100, 20, 100], 'MPa'),\n",
    "    plastic_modulus = Parameter([100, 10, 50], 'MPa'),\n",
    "    unload_modulus = Parameter([100, 20, 100], 'MPa'),\n",
    "    length = Parameter([1, 1, 0.01], 'm'),\n",
    "    length_surface = Parameter([0.1, 0.1, 0.001], 'm')\n",
    ")\n",
    "# interface data\n",
    "interface = Interface(shear_strength = Parameter(10, \"kPa\"))\n",
    "# Weibull shape parameter\n",
    "weibull_shape = 20 "
   ]
  },
  {
   "cell_type": "code",
   "execution_count": 3,
   "metadata": {},
   "outputs": [
    {
     "name": "stdout",
     "output_type": "stream",
     "text": [
      "[[0.0 0.0002026423672846755 0.0002026423672846755] [0.0 4.6907955389971185e-06 9.381591077994237e-06] [0.0 7.505272862395389e-06 1.5010545724790778e-05]] meter / newton ** 2\n",
      "[[0.0 0.0 0.0] [0.0 0.0 -0.0026525823848649226] [0.0 0.0 -0.0005305164769729845]] meter / newton\n",
      "[[0.0 0.0 0.0] [0.0 0.0 0.375] [0.0 0.0 0.009375]] meter\n"
     ]
    }
   ],
   "source": [
    "#p = Pullout_base(roots, soil_resistance)\n",
    "#print(p.roots.xsection)\n",
    "\n",
    "p0 = PulloutEmbeddedElastic(roots, interface)\n",
    "p1 = PulloutEmbeddedElasticSlipping(roots, interface)\n",
    "p2 = PulloutEmbeddedElasticBreakage(roots, interface)\n",
    "p3 = PulloutEmbeddedElasticBreakageSlipping(roots, interface)\n",
    "p4 = PulloutEmbeddedElastoplastic(roots, interface)\n",
    "p5 = PulloutEmbeddedElastoplasticSlipping(roots, interface)\n",
    "p6 = PulloutEmbeddedElastoplasticBreakage(roots, interface, weibull_shape = weibull_shape)\n",
    "p7 = PulloutEmbeddedElastoplasticBreakageSlipping(roots, interface, weibull_shape = weibull_shape)\n",
    "\n",
    "p = p4\n",
    "#print(p.behaviour_types)\n",
    "#print(p.limits[0])\n",
    "#print(p.limits[1])\n",
    "print(p.coefficients[0])\n",
    "print(p.coefficients[1])\n",
    "print(p.coefficients[2])\n",
    "if False:\n",
    "    disp = np.linspace(0, 250, 10) * units('mm')\n",
    "    res = [p.force(d, jac = True) for d in disp]\n",
    "    reinf_all = np.array([i[0] for i in res])\n",
    "    reinf = reinf_all.sum(axis = 1)\n",
    "    reinf = reinf_all[:, 0]\n",
    "    plt.plot(disp, reinf)\n",
    "    print(reinf)\n",
    "\n",
    "\n",
    "\n",
    "#disp = 20.0 * units['mm']\n",
    "#out = p.force(disp, jac = True)\n",
    "#print(out)\n",
    "#print(out[1])\n",
    "#f,df,S,b = p.calculate(disp)\n",
    "#print(f)\n",
    "#print(S)\n",
    "#print(b)\n",
    "\n",
    "#p.plot(displacement_max = 300 * units['mm'])"
   ]
  },
  {
   "cell_type": "code",
   "execution_count": 4,
   "metadata": {},
   "outputs": [
    {
     "ename": "DimensionalityError",
     "evalue": "Cannot convert from 'megapascal * millimeter ** 2' ([mass] * [length] / [time] ** 2) to 'millimeter * kilopascal * meter ** 2' ([length] ** 2 * [mass] / [time] ** 2)",
     "output_type": "error",
     "traceback": [
      "\u001b[1;31m---------------------------------------------------------------------------\u001b[0m",
      "\u001b[1;31mDimensionalityError\u001b[0m                       Traceback (most recent call last)",
      "Cell \u001b[1;32mIn[4], line 8\u001b[0m\n\u001b[0;32m      6\u001b[0m p3 \u001b[38;5;241m=\u001b[39m PulloutSurfaceElasticBreakageSlipping(roots, interface, weibull_shape \u001b[38;5;241m=\u001b[39m \u001b[38;5;241m4.0\u001b[39m)\n\u001b[0;32m      7\u001b[0m p4 \u001b[38;5;241m=\u001b[39m PulloutSurfaceElastoplastic(roots, interface)\n\u001b[1;32m----> 8\u001b[0m p5 \u001b[38;5;241m=\u001b[39m PulloutSurfaceElastoplasticSlipping(roots, interface)\n\u001b[0;32m     10\u001b[0m p \u001b[38;5;241m=\u001b[39m p5\n\u001b[0;32m     11\u001b[0m \u001b[38;5;28mprint\u001b[39m(p\u001b[38;5;241m.\u001b[39mcoefficients)\n",
      "File \u001b[1;32m\\\\myfiles.campus.bath.ac.uk\\gjm36\\dos\\Projects\\2023_root_reinforcement_book_Anil_Yildiz\\pyrootmemo\\src\\pyrootmemo\\pullout.py:41\u001b[0m, in \u001b[0;36mPulloutEmbeddedElastic.__init__\u001b[1;34m(self, roots, interface, **kwargs)\u001b[0m\n\u001b[0;32m     39\u001b[0m \u001b[38;5;66;03m# set behaviour types, coefficients and limits\u001b[39;00m\n\u001b[0;32m     40\u001b[0m \u001b[38;5;28mself\u001b[39m\u001b[38;5;241m.\u001b[39m_set_behaviour_types()\n\u001b[1;32m---> 41\u001b[0m \u001b[38;5;28mself\u001b[39m\u001b[38;5;241m.\u001b[39m_set_coefficients()\n\u001b[0;32m     42\u001b[0m \u001b[38;5;28mself\u001b[39m\u001b[38;5;241m.\u001b[39m_set_limits()\n\u001b[0;32m     43\u001b[0m \u001b[38;5;66;03m# set keyword arguments\u001b[39;00m\n",
      "File \u001b[1;32m\\\\myfiles.campus.bath.ac.uk\\gjm36\\dos\\Projects\\2023_root_reinforcement_book_Anil_Yildiz\\pyrootmemo\\src\\pyrootmemo\\pullout.py:1095\u001b[0m, in \u001b[0;36mPulloutSurfaceElastoplasticSlipping._set_coefficients\u001b[1;34m(self)\u001b[0m\n\u001b[0;32m   1088\u001b[0m \u001b[38;5;28;01mdef\u001b[39;00m \u001b[38;5;21m_set_coefficients\u001b[39m(\u001b[38;5;28mself\u001b[39m):\n\u001b[0;32m   1089\u001b[0m     \u001b[38;5;28mself\u001b[39m\u001b[38;5;241m.\u001b[39mcoefficients \u001b[38;5;241m=\u001b[39m \u001b[38;5;28mself\u001b[39m\u001b[38;5;241m.\u001b[39m_combine_coefficients([\n\u001b[0;32m   1090\u001b[0m         \u001b[38;5;28mself\u001b[39m\u001b[38;5;241m.\u001b[39m_get_coefficients_notintension(),\n\u001b[0;32m   1091\u001b[0m         \u001b[38;5;28mself\u001b[39m\u001b[38;5;241m.\u001b[39m_get_coefficients_anchored_elastic(),\n\u001b[0;32m   1092\u001b[0m         \u001b[38;5;28mself\u001b[39m\u001b[38;5;241m.\u001b[39m_get_coefficients_slipping_elastic(),\n\u001b[0;32m   1093\u001b[0m         \u001b[38;5;28mself\u001b[39m\u001b[38;5;241m.\u001b[39m_get_coefficients_anchored_plastic(),\n\u001b[0;32m   1094\u001b[0m         \u001b[38;5;28mself\u001b[39m\u001b[38;5;241m.\u001b[39m_get_coefficients_slipping_plastic_aboveyield(),\n\u001b[1;32m-> 1095\u001b[0m         \u001b[38;5;28mself\u001b[39m\u001b[38;5;241m.\u001b[39m_get_coefficients_slipping_plastic_belowyield(),\n\u001b[0;32m   1096\u001b[0m         \u001b[38;5;28mself\u001b[39m\u001b[38;5;241m.\u001b[39m_get_coefficients_notintension()\n\u001b[0;32m   1097\u001b[0m         ])\n",
      "File \u001b[1;32m\\\\myfiles.campus.bath.ac.uk\\gjm36\\dos\\Projects\\2023_root_reinforcement_book_Anil_Yildiz\\pyrootmemo\\src\\pyrootmemo\\pullout.py:1082\u001b[0m, in \u001b[0;36mPulloutSurfaceElastoplasticSlipping._get_coefficients_slipping_plastic_belowyield\u001b[1;34m(self)\u001b[0m\n\u001b[0;32m   1061\u001b[0m c2 \u001b[38;5;241m=\u001b[39m (\n\u001b[0;32m   1062\u001b[0m     \u001b[38;5;241m-\u001b[39m\u001b[38;5;241m1.0\u001b[39m\n\u001b[0;32m   1063\u001b[0m     \u001b[38;5;241m/\u001b[39m (\u001b[38;5;28mself\u001b[39m\u001b[38;5;241m.\u001b[39mroots\u001b[38;5;241m.\u001b[39melastic_modulus \u001b[38;5;241m*\u001b[39m \u001b[38;5;28mself\u001b[39m\u001b[38;5;241m.\u001b[39mroots\u001b[38;5;241m.\u001b[39mxsection\n\u001b[0;32m   1064\u001b[0m        \u001b[38;5;241m*\u001b[39m \u001b[38;5;28mself\u001b[39m\u001b[38;5;241m.\u001b[39mroots\u001b[38;5;241m.\u001b[39mcircumference \u001b[38;5;241m*\u001b[39m \u001b[38;5;28mself\u001b[39m\u001b[38;5;241m.\u001b[39minterface\u001b[38;5;241m.\u001b[39mshear_strength)\n\u001b[0;32m   1065\u001b[0m     )\n\u001b[0;32m   1066\u001b[0m c1 \u001b[38;5;241m=\u001b[39m (\n\u001b[0;32m   1067\u001b[0m     \u001b[38;5;28mself\u001b[39m\u001b[38;5;241m.\u001b[39mroots\u001b[38;5;241m.\u001b[39myield_strength\n\u001b[0;32m   1068\u001b[0m     \u001b[38;5;241m/\u001b[39m (\u001b[38;5;28mself\u001b[39m\u001b[38;5;241m.\u001b[39mroots\u001b[38;5;241m.\u001b[39mcircumference \u001b[38;5;241m*\u001b[39m \u001b[38;5;28mself\u001b[39m\u001b[38;5;241m.\u001b[39minterface\u001b[38;5;241m.\u001b[39mshear_strength)\n\u001b[1;32m   (...)\u001b[0m\n\u001b[0;32m   1071\u001b[0m     \u001b[38;5;241m-\u001b[39m \u001b[38;5;241m1.0\u001b[39m \u001b[38;5;241m/\u001b[39m (\u001b[38;5;28mself\u001b[39m\u001b[38;5;241m.\u001b[39mroots\u001b[38;5;241m.\u001b[39mcircumference \u001b[38;5;241m*\u001b[39m \u001b[38;5;28mself\u001b[39m\u001b[38;5;241m.\u001b[39minterface\u001b[38;5;241m.\u001b[39mshear_strength)\n\u001b[0;32m   1072\u001b[0m     )\n\u001b[0;32m   1073\u001b[0m c0 \u001b[38;5;241m=\u001b[39m (\n\u001b[0;32m   1074\u001b[0m     (\u001b[38;5;28mself\u001b[39m\u001b[38;5;241m.\u001b[39mroots\u001b[38;5;241m.\u001b[39mlength \u001b[38;5;241m-\u001b[39m \u001b[38;5;28mself\u001b[39m\u001b[38;5;241m.\u001b[39mroots\u001b[38;5;241m.\u001b[39mlength_surface)\n\u001b[0;32m   1075\u001b[0m     \u001b[38;5;241m+\u001b[39m (\u001b[38;5;28mself\u001b[39m\u001b[38;5;241m.\u001b[39mroots\u001b[38;5;241m.\u001b[39mlength \n\u001b[0;32m   1076\u001b[0m        \u001b[38;5;241m-\u001b[39m (\u001b[38;5;28mself\u001b[39m\u001b[38;5;241m.\u001b[39mroots\u001b[38;5;241m.\u001b[39myield_strength \u001b[38;5;241m*\u001b[39m \u001b[38;5;28mself\u001b[39m\u001b[38;5;241m.\u001b[39mroots\u001b[38;5;241m.\u001b[39mxsection)\n\u001b[0;32m   1077\u001b[0m        \u001b[38;5;241m/\u001b[39m (\u001b[38;5;28mself\u001b[39m\u001b[38;5;241m.\u001b[39mroots\u001b[38;5;241m.\u001b[39mcircumference \u001b[38;5;241m*\u001b[39m \u001b[38;5;28mself\u001b[39m\u001b[38;5;241m.\u001b[39minterface\u001b[38;5;241m.\u001b[39mshear_strength)\n\u001b[0;32m   1078\u001b[0m     ) \u001b[38;5;241m*\u001b[39m epsrps\n\u001b[0;32m   1079\u001b[0m     \u001b[38;5;241m+\u001b[39m \u001b[38;5;241m1.0\u001b[39m \n\u001b[0;32m   1080\u001b[0m     \u001b[38;5;241m/\u001b[39m (\u001b[38;5;241m2.0\u001b[39m \u001b[38;5;241m*\u001b[39m \u001b[38;5;28mself\u001b[39m\u001b[38;5;241m.\u001b[39mroots\u001b[38;5;241m.\u001b[39mxsection \u001b[38;5;241m*\u001b[39m \u001b[38;5;28mself\u001b[39m\u001b[38;5;241m.\u001b[39mroots\u001b[38;5;241m.\u001b[39mcircumference \u001b[38;5;241m*\u001b[39m \u001b[38;5;28mself\u001b[39m\u001b[38;5;241m.\u001b[39minterface\u001b[38;5;241m.\u001b[39mshear_strength)\n\u001b[0;32m   1081\u001b[0m     \u001b[38;5;241m*\u001b[39m (\u001b[38;5;241m1.0\u001b[39m \u001b[38;5;241m/\u001b[39m \u001b[38;5;28mself\u001b[39m\u001b[38;5;241m.\u001b[39mroots\u001b[38;5;241m.\u001b[39munload_modulus \u001b[38;5;241m-\u001b[39m \u001b[38;5;241m1.0\u001b[39m \u001b[38;5;241m/\u001b[39m \u001b[38;5;28mself\u001b[39m\u001b[38;5;241m.\u001b[39mroots\u001b[38;5;241m.\u001b[39mplastic_modulus)\n\u001b[1;32m-> 1082\u001b[0m     \u001b[38;5;241m*\u001b[39m (\u001b[38;5;28mself\u001b[39m\u001b[38;5;241m.\u001b[39mroots\u001b[38;5;241m.\u001b[39myield_strength \u001b[38;5;241m*\u001b[39m \u001b[38;5;28mself\u001b[39m\u001b[38;5;241m.\u001b[39mroots\u001b[38;5;241m.\u001b[39mxsection\n\u001b[0;32m   1083\u001b[0m        \u001b[38;5;241m-\u001b[39m (\u001b[38;5;28mself\u001b[39m\u001b[38;5;241m.\u001b[39mroots\u001b[38;5;241m.\u001b[39mcircumference \u001b[38;5;241m*\u001b[39m \u001b[38;5;28mself\u001b[39m\u001b[38;5;241m.\u001b[39minterface\u001b[38;5;241m.\u001b[39mshear_strength)\n\u001b[0;32m   1084\u001b[0m        \u001b[38;5;241m*\u001b[39m (\u001b[38;5;28mself\u001b[39m\u001b[38;5;241m.\u001b[39mroots\u001b[38;5;241m.\u001b[39mlength \u001b[38;5;241m-\u001b[39m \u001b[38;5;28mself\u001b[39m\u001b[38;5;241m.\u001b[39mroots\u001b[38;5;241m.\u001b[39mlength_surface \u001b[38;5;241m-\u001b[39m Lbs)\u001b[38;5;241m*\u001b[39m\u001b[38;5;241m*\u001b[39m\u001b[38;5;241m2\u001b[39m)\n\u001b[0;32m   1085\u001b[0m     )\n\u001b[0;32m   1086\u001b[0m \u001b[38;5;28;01mreturn\u001b[39;00m(c3, c2, c1, c0)\n",
      "File \u001b[1;32mc:\\Users\\gjm36\\AppData\\Local\\miniforge3\\envs\\rrmm\\Lib\\site-packages\\pint\\facets\\plain\\quantity.py:860\u001b[0m, in \u001b[0;36mPlainQuantity.__sub__\u001b[1;34m(self, other)\u001b[0m\n\u001b[0;32m    859\u001b[0m \u001b[38;5;28;01mdef\u001b[39;00m \u001b[38;5;21m__sub__\u001b[39m(\u001b[38;5;28mself\u001b[39m, other):\n\u001b[1;32m--> 860\u001b[0m     \u001b[38;5;28;01mreturn\u001b[39;00m \u001b[38;5;28mself\u001b[39m\u001b[38;5;241m.\u001b[39m_add_sub(other, operator\u001b[38;5;241m.\u001b[39msub)\n",
      "File \u001b[1;32mc:\\Users\\gjm36\\AppData\\Local\\miniforge3\\envs\\rrmm\\Lib\\site-packages\\pint\\facets\\plain\\quantity.py:101\u001b[0m, in \u001b[0;36mcheck_implemented.<locals>.wrapped\u001b[1;34m(self, *args, **kwargs)\u001b[0m\n\u001b[0;32m     99\u001b[0m \u001b[38;5;28;01melif\u001b[39;00m \u001b[38;5;28misinstance\u001b[39m(other, \u001b[38;5;28mlist\u001b[39m) \u001b[38;5;129;01mand\u001b[39;00m other \u001b[38;5;129;01mand\u001b[39;00m \u001b[38;5;28misinstance\u001b[39m(other[\u001b[38;5;241m0\u001b[39m], \u001b[38;5;28mtype\u001b[39m(\u001b[38;5;28mself\u001b[39m)):\n\u001b[0;32m    100\u001b[0m     \u001b[38;5;28;01mreturn\u001b[39;00m \u001b[38;5;28mNotImplemented\u001b[39m\n\u001b[1;32m--> 101\u001b[0m \u001b[38;5;28;01mreturn\u001b[39;00m f(\u001b[38;5;28mself\u001b[39m, \u001b[38;5;241m*\u001b[39margs, \u001b[38;5;241m*\u001b[39m\u001b[38;5;241m*\u001b[39mkwargs)\n",
      "File \u001b[1;32mc:\\Users\\gjm36\\AppData\\Local\\miniforge3\\envs\\rrmm\\Lib\\site-packages\\pint\\facets\\plain\\quantity.py:751\u001b[0m, in \u001b[0;36mPlainQuantity._add_sub\u001b[1;34m(self, other, op)\u001b[0m\n\u001b[0;32m    748\u001b[0m     \u001b[38;5;28;01mreturn\u001b[39;00m \u001b[38;5;28mself\u001b[39m\u001b[38;5;241m.\u001b[39m\u001b[38;5;18m__class__\u001b[39m(magnitude, units)\n\u001b[0;32m    750\u001b[0m \u001b[38;5;28;01mif\u001b[39;00m \u001b[38;5;129;01mnot\u001b[39;00m \u001b[38;5;28mself\u001b[39m\u001b[38;5;241m.\u001b[39mdimensionality \u001b[38;5;241m==\u001b[39m other\u001b[38;5;241m.\u001b[39mdimensionality:\n\u001b[1;32m--> 751\u001b[0m     \u001b[38;5;28;01mraise\u001b[39;00m DimensionalityError(\n\u001b[0;32m    752\u001b[0m         \u001b[38;5;28mself\u001b[39m\u001b[38;5;241m.\u001b[39m_units, other\u001b[38;5;241m.\u001b[39m_units, \u001b[38;5;28mself\u001b[39m\u001b[38;5;241m.\u001b[39mdimensionality, other\u001b[38;5;241m.\u001b[39mdimensionality\n\u001b[0;32m    753\u001b[0m     )\n\u001b[0;32m    755\u001b[0m \u001b[38;5;66;03m# Next we define some variables to make if-clauses more readable.\u001b[39;00m\n\u001b[0;32m    756\u001b[0m self_non_mul_units \u001b[38;5;241m=\u001b[39m \u001b[38;5;28mself\u001b[39m\u001b[38;5;241m.\u001b[39m_get_non_multiplicative_units()\n",
      "\u001b[1;31mDimensionalityError\u001b[0m: Cannot convert from 'megapascal * millimeter ** 2' ([mass] * [length] / [time] ** 2) to 'millimeter * kilopascal * meter ** 2' ([length] ** 2 * [mass] / [time] ** 2)"
     ]
    }
   ],
   "source": [
    "# SURFACE ROOTS\n",
    "roots.length_surface = 0.01 * roots.length\n",
    "p0 = PulloutSurfaceElastic(roots, interface)\n",
    "p1 = PulloutSurfaceElasticSlipping(roots, interface)\n",
    "p2 = PulloutSurfaceElasticBreakage(roots, interface)\n",
    "p3 = PulloutSurfaceElasticBreakageSlipping(roots, interface, weibull_shape = 4.0)\n",
    "p4 = PulloutSurfaceElastoplastic(roots, interface)\n",
    "p5 = PulloutSurfaceElastoplasticSlipping(roots, interface)\n",
    "\n",
    "p = p5\n",
    "print(p.coefficients)\n",
    "#print(p.behaviour_types)\n",
    "#print(p.force(150 * units['mm'], jac = True))\n"
   ]
  },
  {
   "cell_type": "code",
   "execution_count": null,
   "metadata": {},
   "outputs": [
    {
     "name": "stdout",
     "output_type": "stream",
     "text": [
      "[-2.0 -1.96 -1.92 -1.88 -1.84 -1.8 -1.76 -1.72 -1.68 -1.6400000000000001 -1.6 -1.56 -1.52 -1.48 -1.44 -1.4 -1.3599999999999999 -1.3199999999999998 -1.28 -1.24 -1.2 -1.1600000000000001 -1.12 -1.08 -1.04 -1.0 -0.96 -0.9199999999999999 -0.8799999999999999 -0.8400000000000001 -0.8 -0.76 -0.72 -0.6799999999999999 -0.6399999999999999 -0.5999999999999999 -0.56 -0.52 -0.48 -0.43999999999999995 -0.3999999999999999 -0.3599999999999999 -0.32000000000000006 -0.28 -0.24 -0.19999999999999996 -0.15999999999999992 -0.11999999999999988 -0.08000000000000007 -0.040000000000000036 0.0 0.040000000000000036 0.08000000000000007 0.1200000000000001 0.16000000000000014 0.20000000000000018 0.2400000000000002 0.28000000000000025 0.31999999999999984 0.3599999999999999 0.3999999999999999 0.43999999999999995 0.48 0.52 0.56 0.6000000000000001 0.6400000000000001 0.6800000000000002 0.7200000000000002 0.7600000000000002 0.8000000000000003 0.8399999999999999 0.8799999999999999 0.9199999999999999 0.96 1.0 1.04 1.08 1.12 1.1600000000000001 1.2000000000000002 1.2400000000000002 1.2800000000000002 1.3200000000000003 1.3599999999999999 1.4 1.44 1.48 1.52 1.56 1.6 1.6400000000000001 1.6800000000000002 1.7200000000000002 1.7600000000000002 1.8000000000000003 1.8399999999999999 1.88 1.92 1.96 2.0] newton\n",
      "[4.0 3.7836607999999994 3.5745663999999993 3.372601599999999 3.1776511999999997 2.9896 2.8083327999999996 2.6337343999999994 2.4656895999999993 2.3040832 2.1488000000000005 1.9997247999999999 1.8567424000000001 1.7197376000000002 1.5885951999999999 1.4631999999999998 1.3434367999999997 1.2291903999999998 1.1203456 1.0167871999999998 0.9183999999999999 0.8250688000000002 0.7366784000000002 0.6531136 0.5742592 0.5 0.4302207999999999 0.3648063999999998 0.3036415999999999 0.24661120000000003 0.1936000000000001 0.14449279999999998 0.09917439999999994 0.0575295999999999 0.019443199999999883 -0.015200000000000158 -0.04651519999999998 -0.0746176 -0.09962240000000001 -0.12164480000000004 -0.14080000000000004 -0.15720320000000004 -0.1709696 -0.1822144 -0.19105280000000002 -0.19760000000000003 -0.20197120000000002 -0.2042816 -0.2046464 -0.20318080000000002 -0.2 -0.1952192 -0.1889536 -0.1813184 -0.1724288 -0.16239999999999996 -0.15134719999999996 -0.13938559999999994 -0.12663040000000006 -0.11319680000000006 -0.09920000000000004 -0.08475520000000002 -0.06997760000000003 -0.05498239999999999 -0.0398848 -0.02479999999999999 -0.009843199999999941 0.0048704000000000525 0.019225600000000065 0.03310720000000006 0.04640000000000011 0.05898880000000001 0.0707584 0.08159359999999999 0.09137920000000005 0.10000000000000003 0.10734080000000007 0.11328640000000006 0.11772160000000004 0.1205312 0.12159999999999999 0.1208128 0.11805440000000006 0.11320959999999997 0.10616320000000007 0.09680000000000005 0.08500480000000005 0.07066240000000007 0.05365760000000003 0.03387520000000005 0.011199999999999932 -0.014483199999999863 -0.043289599999999984 -0.07533439999999997 -0.11073280000000024 -0.14960000000000012 -0.19205119999999987 -0.2382015999999998 -0.2881663999999997 -0.34206080000000005 -0.3999999999999999] meter\n"
     ]
    },
    {
     "data": {
      "image/png": "[encoded data removed]",
      "text/plain": [
       "<Figure size 432x288 with 1 Axes>"
      ]
     },
     "metadata": {
      "needs_background": "light"
     },
     "output_type": "display_data"
    }
   ],
   "source": [
    "a = np.array([-0.3]) * units('m/N^3')\n",
    "b = np.array([0.5]) * units('m/N^2')\n",
    "c = np.array([0.1]) * units('m/N')\n",
    "d = np.array([-0.2]) * units('m')\n",
    "x = np.linspace(-2, 2, 101) * units('N')\n",
    "y = a*x**3 + b*x**2 + c*x + d\n",
    "import matplotlib.pyplot as plt\n",
    "plt.plot(x.magnitude, y.magnitude)\n",
    "print(x)\n",
    "print(y)\n",
    "#print(P._solve_cubic(a, b, c, d))\n"
   ]
  },
  {
   "cell_type": "code",
   "execution_count": null,
   "metadata": {},
   "outputs": [
    {
     "name": "stdout",
     "output_type": "stream",
     "text": [
      "[[0.5488135  0.71518937 0.60276338 0.54488318]\n",
      " [0.4236548  0.64589411 0.43758721 0.891773  ]\n",
      " [0.96366276 0.38344152 0.79172504 0.52889492]\n",
      " [0.56804456 0.92559664 0.07103606 0.0871293 ]\n",
      " [0.0202184  0.83261985 0.77815675 0.87001215]]\n",
      "[[0.5488135  0.71518937 0.71518937 0.71518937]\n",
      " [0.4236548  0.64589411 0.64589411 0.891773  ]\n",
      " [0.96366276 0.96366276 0.96366276 0.96366276]\n",
      " [0.56804456 0.92559664 0.92559664 0.92559664]\n",
      " [0.0202184  0.83261985 0.83261985 0.87001215]]\n",
      "[False False False False False False False]\n"
     ]
    }
   ],
   "source": [
    "np.random.seed(0)\n",
    "a = np.random.rand(5, 4)\n",
    "print(a)\n",
    "print(np.maximum.accumulate(a, axis = 1))\n",
    "\n",
    "print(np.array([True, False, False])[[1,2,2,2,2,2,1]])"
   ]
  }
 ],
 "metadata": {
  "kernelspec": {
   "display_name": "rrmm",
   "language": "python",
   "name": "python3"
  },
  "language_info": {
   "codemirror_mode": {
    "name": "ipython",
    "version": 3
   },
   "file_extension": ".py",
   "mimetype": "text/x-python",
   "name": "python",
   "nbconvert_exporter": "python",
   "pygments_lexer": "ipython3",
   "version": "3.13.0"
  }
 },
 "nbformat": 4,
 "nbformat_minor": 2
}
