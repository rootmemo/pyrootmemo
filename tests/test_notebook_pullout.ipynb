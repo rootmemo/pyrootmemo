{
 "cells": [
  {
   "cell_type": "code",
   "execution_count": 63,
   "metadata": {},
   "outputs": [],
   "source": [
    "from pyrootmemo.pullout import Pullout_embedded_elastic, Pullout_embedded_elastic_slipping, Pullout_embedded_elastic_breakage, Pullout_embedded_elastic_breakage_slipping\n",
    "from pyrootmemo.pullout import Pullout_embedded_elastoplastic, Pullout_embedded_elastoplastic_slipping, Pullout_embedded_elastoplastic_breakage, Pullout_embedded_elastoplastic_breakage_slipping\n",
    "from pyrootmemo.materials import MultipleRoots\n",
    "from pyrootmemo.tools.helpers import units\n",
    "import numpy as np"
   ]
  },
  {
   "cell_type": "code",
   "execution_count": 64,
   "metadata": {},
   "outputs": [],
   "source": [
    "# generate some root data\n",
    "from collections import namedtuple\n",
    "Parameter = namedtuple(\"parameter\", \"value unit\")\n",
    "roots = MultipleRoots(\n",
    "    species = \"test_species\",\n",
    "    diameter = Parameter([1, 2, 1, 3, 4, 5, 6, 3], 'mm'),\n",
    "    yield_strength = Parameter([20, 15, 20, 10, 5, 2.5, 10, 5], 'MPa'),\n",
    "    tensile_strength = Parameter([40, 30, 40, 20, 10, 5, 20, 10], 'MPa'),\n",
    "    elastic_modulus = Parameter([100, 100, 100, 100, 100, 100, 20, 100], 'MPa'),\n",
    "    plastic_modulus = Parameter([50, 50, 50, 50, 50, 50, 10, 50], 'MPa'),\n",
    "    length = Parameter([1, 1, 1, 1, 1, 1, 1, 1], 'm')\n",
    ")\n",
    "# soil data\n",
    "soil_resistance = 10.0 * units('kPa')\n",
    "# Weibull shape parameter\n",
    "weibull_shape = None #25"
   ]
  },
  {
   "cell_type": "code",
   "execution_count": 65,
   "metadata": {},
   "outputs": [
    {
     "data": {
      "text/plain": [
       "[<Quantity(1, 'meter')>, <Quantity(2, 'meter')>, <Quantity(3, 'meter')>]"
      ]
     },
     "execution_count": 65,
     "metadata": {},
     "output_type": "execute_result"
    }
   ],
   "source": [
    "a = np.array([1,2,3]) * units['m']\n",
    "[i for i in a]"
   ]
  },
  {
   "cell_type": "code",
   "execution_count": 66,
   "metadata": {},
   "outputs": [
    {
     "name": "stdout",
     "output_type": "stream",
     "text": [
      "[[0 0 0 0 0 0 0 0]\n",
      " [1 1 1 1 2 2 1 2]\n",
      " [1 1 1 1 2 2 1 2]\n",
      " [1 1 1 2 2 2 1 2]\n",
      " [2 2 2 2 2 2 1 2]\n",
      " [2 2 2 2 2 2 1 2]\n",
      " [2 2 2 2 2 2 1 2]\n",
      " [2 2 2 2 2 2 1 2]\n",
      " [2 2 2 2 2 2 1 2]\n",
      " [2 2 2 2 2 2 1 2]\n",
      " [2 2 2 2 2 2 1 2]\n",
      " [2 2 2 2 2 2 1 2]\n",
      " [2 2 2 2 2 2 1 2]\n",
      " [2 2 2 2 2 2 1 2]\n",
      " [2 2 2 2 2 2 1 2]\n",
      " [2 2 2 2 2 2 1 2]\n",
      " [2 2 2 2 2 2 1 2]\n",
      " [2 2 2 2 2 2 1 2]\n",
      " [2 2 2 2 2 2 1 2]\n",
      " [2 2 2 2 2 2 1 2]]\n"
     ]
    },
    {
     "data": {
      "text/plain": [
       "(<Figure size 432x288 with 1 Axes>, <Axes: >)"
      ]
     },
     "execution_count": 66,
     "metadata": {},
     "output_type": "execute_result"
    },
    {
     "data": {
      "image/png": "[encoded data removed]",
      "text/plain": [
       "<Figure size 432x288 with 1 Axes>"
      ]
     },
     "metadata": {
      "needs_background": "light"
     },
     "output_type": "display_data"
    }
   ],
   "source": [
    "#p = Pullout_base(roots, soil_resistance)\n",
    "#print(p.roots.xsection)\n",
    "\n",
    "p0 = Pullout_embedded_elastic(roots, soil_resistance)\n",
    "p1 = Pullout_embedded_elastic_slipping(roots, soil_resistance)\n",
    "p2 = Pullout_embedded_elastic_breakage(roots, soil_resistance, weibull_shape = weibull_shape)\n",
    "p3 = Pullout_embedded_elastic_breakage_slipping(roots, soil_resistance, weibull_shape = weibull_shape)\n",
    "p4 = Pullout_embedded_elastoplastic(roots, soil_resistance)\n",
    "p5 = Pullout_embedded_elastoplastic_slipping(roots, soil_resistance)\n",
    "p6 = Pullout_embedded_elastoplastic_breakage(roots, soil_resistance, weibull_shape = weibull_shape)\n",
    "p7 = Pullout_embedded_elastoplastic_breakage_slipping(roots, soil_resistance, weibull_shape = weibull_shape)\n",
    "\n",
    "p = p6\n",
    "# print(p.behaviour_types)\n",
    "# print(p.limits)\n",
    "# print(p.coefficients)\n",
    "# print(p.force(50 * units('mm')))\n",
    "\n",
    "disp = np.linspace(0, 300, 20) * units['mm']\n",
    "f,S,b = p.calculate(disp)\n",
    "#print(f)\n",
    "#print(S)\n",
    "print(b)\n",
    "\n",
    "p.plot(displacement_max = 300 * units['mm'])"
   ]
  }
 ],
 "metadata": {
  "kernelspec": {
   "display_name": "rrmm",
   "language": "python",
   "name": "python3"
  },
  "language_info": {
   "codemirror_mode": {
    "name": "ipython",
    "version": 3
   },
   "file_extension": ".py",
   "mimetype": "text/x-python",
   "name": "python",
   "nbconvert_exporter": "python",
   "pygments_lexer": "ipython3",
   "version": "3.13.0"
  }
 },
 "nbformat": 4,
 "nbformat_minor": 2
}
