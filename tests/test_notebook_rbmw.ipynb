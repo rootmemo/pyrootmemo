{
 "cells": [
  {
   "cell_type": "code",
   "execution_count": 1,
   "metadata": {},
   "outputs": [],
   "source": [
    "from pyrootmemo.rbmw import Rbmw\n",
    "from pyrootmemo.materials import MultipleRoots\n",
    "from pyrootmemo.tools.helpers import units\n"
   ]
  },
  {
   "cell_type": "code",
   "execution_count": 2,
   "metadata": {},
   "outputs": [],
   "source": [
    "# generate some root data\n",
    "from collections import namedtuple\n",
    "Parameter = namedtuple(\"parameter\", \"value unit\")\n",
    "Roots = MultipleRoots(\n",
    "    species = \"test_species\",\n",
    "    diameter = Parameter([1, 2, 1, 3, 4], 'mm'),\n",
    "    tensile_strength = Parameter([40, 30, 40, 20, 10], 'MPa'),\n",
    "    elastic_modulus = Parameter([100, 100, 100, 100, 100], 'MPa'),\n",
    "    length = Parameter([1, 1, 1, 1, 1], 'm')\n",
    ")"
   ]
  },
  {
   "cell_type": "code",
   "execution_count": 3,
   "metadata": {},
   "outputs": [],
   "source": [
    "# create FBM object\n",
    "rbmw = Rbmw(Roots, weibull_shape = 4.)"
   ]
  },
  {
   "cell_type": "code",
   "execution_count": null,
   "metadata": {},
   "outputs": [
    {
     "name": "stdout",
     "output_type": "stream",
     "text": [
      "26.782077371852985 megapascal * millimeter ** 3 / meter\n",
      "1\n"
     ]
    }
   ],
   "source": [
    "# Test object\n",
    "displacement = 0.011 * units('mm')\n",
    "print(rbmw.force(displacement))\n",
    "\n",
    "a = rbmw.peak_force()\n",
    "print(a)"
   ]
  }
 ],
 "metadata": {
  "kernelspec": {
   "display_name": "rrmm",
   "language": "python",
   "name": "python3"
  },
  "language_info": {
   "codemirror_mode": {
    "name": "ipython",
    "version": 3
   },
   "file_extension": ".py",
   "mimetype": "text/x-python",
   "name": "python",
   "nbconvert_exporter": "python",
   "pygments_lexer": "ipython3",
   "version": "3.13.0"
  }
 },
 "nbformat": 4,
 "nbformat_minor": 2
}
