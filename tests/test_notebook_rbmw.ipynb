{
 "cells": [
  {
   "cell_type": "code",
   "execution_count": 1,
   "metadata": {},
   "outputs": [],
   "source": [
    "from pyrootmemo.rbmw import Rbmw\n",
    "from pyrootmemo.materials import MultipleRoots\n",
    "from pyrootmemo.tools.helpers import units\n",
    "import numpy as np"
   ]
  },
  {
   "cell_type": "code",
   "execution_count": 2,
   "metadata": {},
   "outputs": [],
   "source": [
    "# generate some root data\n",
    "from collections import namedtuple\n",
    "Parameter = namedtuple(\"parameter\", \"value unit\")\n",
    "Roots = MultipleRoots(\n",
    "    species = \"test_species\",\n",
    "    diameter = Parameter([1, 2, 1, 3, 4, 5, 6, 3], 'mm'),\n",
    "    tensile_strength = Parameter([40, 30, 40, 20, 10, 5, 20, 10], 'MPa'),\n",
    "    elastic_modulus = Parameter([100, 100, 100, 100, 100, 100, 20, 100], 'MPa'),\n",
    "    length = Parameter([1, 1, 1, 1, 1, 1, 1, 1], 'm')\n",
    ")"
   ]
  },
  {
   "cell_type": "code",
   "execution_count": 3,
   "metadata": {},
   "outputs": [
    {
     "name": "stdout",
     "output_type": "stream",
     "text": [
      "True\n",
      "[0.011] millimeter\n",
      "12 millimeter\n"
     ]
    }
   ],
   "source": [
    "a = np.array([1,2,3]) * units('mm')\n",
    "b = np.array([1,2,3]) * units('mm')\n",
    "c = np.array([[1,2,3],[1,2,3]]) * units('mm')\n",
    "a[np.newaxis,:] * b[:,np.newaxis]\n",
    "(a * b)[:, np.newaxis]\n",
    "displacement = 0.011 * units('mm')\n",
    "print(np.isscalar(displacement.magnitude))\n",
    "print(np.array([displacement.magnitude]) * displacement.units)\n",
    "print(np.sum(c))"
   ]
  },
  {
   "cell_type": "code",
   "execution_count": 4,
   "metadata": {},
   "outputs": [],
   "source": [
    "# create FBM object\n",
    "rbmw = Rbmw(Roots, weibull_shape = 4.)"
   ]
  },
  {
   "cell_type": "code",
   "execution_count": null,
   "metadata": {},
   "outputs": [
    {
     "name": "stdout",
     "output_type": "stream",
     "text": [
      "62.3763221370253 megapascal * millimeter ** 3 / meter\n",
      "[0.8639379797371931 3.4557519189487724 0.8639379797371931 7.7754418176347375 13.823007675795088 21.598449493429793 6.22035345410779 7.775441817634737] megapascal * millimeter ** 3 / meter\n",
      "[56.70574739729574 113.41149479459082] megapascal * millimeter ** 3 / meter\n",
      "[[0.7853981633974483 3.141592653589793 0.7853981633974483  7.0685834705770345 12.56637061435917 19.634954084936187  5.654866776461628 7.068583470577034] [1.5707963267948966 6.283185307179586 1.5707963267948966  14.137166941154067 25.132741228718317 39.269908169871734  11.309733552923255 14.137166941154053]] megapascal * millimeter ** 3 / meter\n",
      "(<Quantity(343.575035, 'megapascal * millimeter ** 2')>, <Quantity(0.779971487, 'meter')>)\n",
      "[[0.0 0.0 0.0 0.0 0.0 0.0 0.0 0.0] [14.56172139792007 53.890844952512005 14.56172139792007  76.39768997797901 0.02415225583330892 3.7737899739481345e-62  108.58509461112146 0.013585643906236266] [16.97726443955089 19.579619507219764 16.97726443955089  0.027171287812472533 4.830451166653612e-62 0.0 214.19050252054635  2.7171287812426567e-62] [2.4565973123876232 0.0181141918749815 2.4565973123876232  2.291930699338071e-18 0.0 0.0 302.6157089971528 0.0] [0.00603806395832723 5.507853645390061e-11 0.00603806395832723  5.434257562485313e-62 0.0 0.0 343.4236545134099 0.0] [1.2947404668318635e-08 4.1273393918391326e-29 1.2947404668318635e-08  3.8198844988819885e-154 0.0 0.0 305.59075991191605 0.0] [5.09317933186238e-19 3.6228383749895917e-62 5.09317933186238e-19 0.0  0.0 0.0 197.66121676534638 0.0] [3.223374438913254e-36 1.1431270836318262e-116 3.223374438913254e-36 0.0  0.0 0.0 83.34283206706542 0.0] [1.207612791663403e-62 2.5845370228178022e-200 1.207612791663403e-62 0.0  0.0 0.0 19.99218219882261 0.0] [4.1443385643094247e-101 0.0 4.1443385643094247e-101 0.0 0.0 0.0  2.322804846588013 0.0] [8.488632219737752e-155 0.0 8.488632219737752e-155 0.0 0.0 0.0  0.10868515124989013 0.0]] megapascal * millimeter ** 2\n"
     ]
    },
    {
     "data": {
      "text/plain": [
       "(<Figure size 432x288 with 1 Axes>,\n",
       " <Axes: xlabel='Displacement [mm]', ylabel='Total force in root bundle [kN]'>)"
      ]
     },
     "execution_count": 5,
     "metadata": {},
     "output_type": "execute_result"
    },
    {
     "data": {
      "image/png": "[encoded data removed]",
      "text/plain": [
       "<Figure size 432x288 with 1 Axes>"
      ]
     },
     "metadata": {
      "needs_background": "light"
     },
     "output_type": "display_data"
    }
   ],
   "source": [
    "# Test object\n",
    "displacement1 = 0.011 * units('mm')\n",
    "displacement2 = np.array([0.01, 0.02]) * units('mm')\n",
    "f11 = rbmw.force(displacement1, total = True)\n",
    "f12 = rbmw.force(displacement1, total = False)\n",
    "f21 = rbmw.force(displacement2, total = True)\n",
    "f22 = rbmw.force(displacement2, total = False)\n",
    "print(f11)\n",
    "print(f12)\n",
    "print(f21)\n",
    "print(f22)\n",
    "print(rbmw.peak_force())\n",
    "rbmw.plot(xunit = 'mm', yunit = 'kN', n = 251, fraction = 0.8)\n"
   ]
  },
  {
   "cell_type": "markdown",
   "metadata": {},
   "source": []
  }
 ],
 "metadata": {
  "kernelspec": {
   "display_name": "rrmm",
   "language": "python",
   "name": "python3"
  },
  "language_info": {
   "codemirror_mode": {
    "name": "ipython",
    "version": 3
   },
   "file_extension": ".py",
   "mimetype": "text/x-python",
   "name": "python",
   "nbconvert_exporter": "python",
   "pygments_lexer": "ipython3",
   "version": "3.13.0"
  }
 },
 "nbformat": 4,
 "nbformat_minor": 2
}
