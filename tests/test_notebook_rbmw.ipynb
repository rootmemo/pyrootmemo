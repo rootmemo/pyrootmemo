{
 "cells": [
  {
   "cell_type": "code",
   "execution_count": 1,
   "metadata": {},
   "outputs": [],
   "source": [
    "from pyrootmemo.models import Rbmw\n",
    "from pyrootmemo.materials import MultipleRoots\n",
    "from pyrootmemo.helpers import units\n",
    "import numpy as np"
   ]
  },
  {
   "cell_type": "code",
   "execution_count": 5,
   "metadata": {},
   "outputs": [],
   "source": [
    "# generate some root data\n",
    "from collections import namedtuple\n",
    "Parameter = namedtuple(\"parameter\", \"value unit\")\n",
    "roots = MultipleRoots(\n",
    "    species = \"test_species\",\n",
    "    diameter = Parameter([1, 2, 1, 3, 4, 5, 6, 3], 'mm'),\n",
    "    tensile_strength = Parameter([40, 30, 40, 20, 10, 5, 20, 10], 'MPa'),\n",
    "    elastic_modulus = Parameter([100, 100, 100, 100, 100, 100, 20, 100], 'MPa'),\n",
    "    length = Parameter([1, 1, 1, 1, 1, 1, 1, 1], 'm')\n",
    ")"
   ]
  },
  {
   "cell_type": "code",
   "execution_count": 6,
   "metadata": {},
   "outputs": [],
   "source": [
    "# create FBM object\n",
    "rbmw = Rbmw(roots, weibull_shape = 4.)"
   ]
  },
  {
   "cell_type": "code",
   "execution_count": null,
   "metadata": {},
   "outputs": [
    {
     "name": "stdout",
     "output_type": "stream",
     "text": [
      "62.3763221370253 megapascal * millimeter ** 3 / meter\n",
      "[0.8639379797371931 3.4557519189487724 0.8639379797371931 7.7754418176347375 13.823007675795088 21.598449493429793 6.22035345410779 7.775441817634737] megapascal * millimeter ** 3 / meter\n",
      "[56.705747397295745 113.4114947945908] megapascal * millimeter ** 3 / meter\n",
      "[[0.7853981633974483 1.5707963267948966] [3.141592653589793 6.283185307179586] [0.7853981633974483 1.5707963267948966] [7.0685834705770345 14.137166941154067] [12.56637061435917 25.132741228718317] [19.634954084936187 39.269908169871734] [5.654866776461628 11.309733552923255] [7.068583470577034 14.137166941154053]] megapascal * millimeter ** 3 / meter\n"
     ]
    }
   ],
   "source": [
    "# Test object\n",
    "displacement1 = 0.011 * units('mm')\n",
    "displacement2 = np.array([0.01, 0.02]) * units('mm')\n",
    "print(rbmw.calc_force(displacement1, total = True))\n",
    "print(rbmw.calc_force(displacement1, total = False))\n",
    "print(rbmw.calc_force(displacement2, total = True))\n",
    "print(rbmw.calc_force(displacement2, total = False))\n",
    "print(rbmw.peak_force())\n",
    "# print(rbmw.peak_reinforcement(soil_area = 2.0, k = 1.0).to('kPa'))\n",
    "# rbmw.plot(xunit = 'mm', yunit = 'kN', n = 251, fraction = 0.8)\n"
   ]
  },
  {
   "cell_type": "markdown",
   "metadata": {},
   "source": []
  }
 ],
 "metadata": {
  "kernelspec": {
   "display_name": "rrmm",
   "language": "python",
   "name": "python3"
  },
  "language_info": {
   "codemirror_mode": {
    "name": "ipython",
    "version": 3
   },
   "file_extension": ".py",
   "mimetype": "text/x-python",
   "name": "python",
   "nbconvert_exporter": "python",
   "pygments_lexer": "ipython3",
   "version": "3.13.0"
  }
 },
 "nbformat": 4,
 "nbformat_minor": 2
}
