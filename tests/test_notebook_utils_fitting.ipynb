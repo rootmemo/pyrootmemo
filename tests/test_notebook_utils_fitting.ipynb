{
 "cells": [
  {
   "cell_type": "code",
   "execution_count": 1,
   "metadata": {},
   "outputs": [],
   "source": [
    "import numpy as np\n",
    "from pyrootmemo.fit.fit_x import GumbelFit, WeibullFit, PowerFit\n",
    "from pyrootmemo.fit.fit_x_binned import PowerFitBinned\n",
    "from pyrootmemo.tools.helpers import units"
   ]
  },
  {
   "cell_type": "code",
   "execution_count": 2,
   "metadata": {},
   "outputs": [],
   "source": [
    "# generate some data\n",
    "rng = np.random.default_rng()\n",
    "x = rng.normal(10, 1, 50)\n",
    "xu = x * units('mm')"
   ]
  },
  {
   "cell_type": "code",
   "execution_count": 3,
   "metadata": {},
   "outputs": [
    {
     "name": "stdout",
     "output_type": "stream",
     "text": [
      "9.295743776653502 millimeter\n",
      "0.7721201677349611 millimeter\n",
      "[8.327771167307477 9.819887201531587 8.926039716282117 8.53125166526076 8.248693921067867 9.44251087594319 9.140141933486245 9.897259226189227 8.300362991168194 10.078734052715289] millimeter\n",
      "[0.4250333370252923 0.21619890639310207 0.3943615384225893 0.3177089548087682 0.47141978352511205 0.08152168030572174 0.41533548505646095 0.4639862483490985 0.4047981039473163 0.41575808813876963 0.1945195540261711 0.31772658860658926 0.4619737902819272 0.30524104971697885 0.23574009956961686 0.4682043751616576 0.3867513532698825 0.058145553856707784 0.035766002305807135 0.10953608570852547 0.45603930593441755 0.07765463875925047 0.4651783329496258 0.38921495520467203 0.32584731254244603 0.3948742686494769 0.4408318846266727 0.18957629459166114 0.46607294861167975 0.43229179055082606 0.06606335131281846 0.09566454650893665 0.4296997025464343 0.2975215059624803 0.35996418491833904 0.45269154628183794 0.24574413308510593 0.456663710303308 0.4454539659230866 0.3374631016233824 0.18012982979066033 0.18454747627516785 0.3833386238048642 0.4629350783247323 0.44808922919345695 0.28025000056280697 0.14413096219219138 0.15670481971434336 0.20983875784709294 0.2313449257773186] / millimeter\n",
      "[0.5515697638122077 0.8147368246867132 0.174295112652564 0.7067317503063768 0.3157153004740616 0.014984050338222997 0.5693571687089445 0.45518889058512874 0.18555968433499254 0.19857688125599712 0.8354606329569938 0.7067108959577436 0.2809914968978366 0.1042320262021975 0.7954719005999213 0.30158038112551305 0.16665648916229442 0.9540315227254323 0.9719883053430571 0.9113764730497199 0.2655823933598318 0.938083636250444 0.45076548889879153 0.6119712298704784 0.6970042510064959 0.6032629092713258 0.5190339522435824 0.048305440063524524 0.44730027118957283 0.2213168752476706 0.9475932842452001 0.9230998049365886 0.5424881471779861 0.7300240602750564 0.6536246298724446 0.25798586219337016 0.7853721803478689 0.2670748920720679 0.5083439419243658 0.6827393897151776 0.8488757619039746 0.046411436954816025 0.16336986758199187 0.2837981555293136 0.24847219728509196 0.7491216877065073 0.03246896531381438 0.8701894029248732 0.05632249342282317 0.7998567886463025] dimensionless\n"
     ]
    },
    {
     "ename": "ValueError",
     "evalue": "setting an array element with a sequence.",
     "output_type": "error",
     "traceback": [
      "\u001b[1;31m---------------------------------------------------------------------------\u001b[0m",
      "\u001b[1;31mDimensionalityError\u001b[0m                       Traceback (most recent call last)",
      "File \u001b[1;32mc:\\Users\\gjm36\\AppData\\Local\\miniforge3\\envs\\rrmm\\Lib\\site-packages\\pint\\facets\\plain\\quantity.py:596\u001b[0m, in \u001b[0;36mPlainQuantity.__float__\u001b[1;34m(self)\u001b[0m\n\u001b[0;32m    595\u001b[0m     \u001b[38;5;28;01mreturn\u001b[39;00m \u001b[38;5;28mfloat\u001b[39m(\u001b[38;5;28mself\u001b[39m\u001b[38;5;241m.\u001b[39m_convert_magnitude_not_inplace(UnitsContainer()))\n\u001b[1;32m--> 596\u001b[0m \u001b[38;5;28;01mraise\u001b[39;00m DimensionalityError(\u001b[38;5;28mself\u001b[39m\u001b[38;5;241m.\u001b[39m_units, \u001b[38;5;124m\"\u001b[39m\u001b[38;5;124mdimensionless\u001b[39m\u001b[38;5;124m\"\u001b[39m)\n",
      "\u001b[1;31mDimensionalityError\u001b[0m: Cannot convert from '1 / millimeter ** 2' to 'dimensionless'",
      "\nThe above exception was the direct cause of the following exception:\n",
      "\u001b[1;31mValueError\u001b[0m                                Traceback (most recent call last)",
      "Cell \u001b[1;32mIn[3], line 8\u001b[0m\n\u001b[0;32m      6\u001b[0m \u001b[38;5;28mprint\u001b[39m(Gu\u001b[38;5;241m.\u001b[39mdensity())\n\u001b[0;32m      7\u001b[0m \u001b[38;5;28mprint\u001b[39m(Gu\u001b[38;5;241m.\u001b[39mdensity(cumulative \u001b[38;5;241m=\u001b[39m \u001b[38;5;28;01mTrue\u001b[39;00m))\n\u001b[1;32m----> 8\u001b[0m \u001b[38;5;28mprint\u001b[39m(Gu\u001b[38;5;241m.\u001b[39mcovariance())\n\u001b[0;32m      9\u001b[0m \u001b[38;5;28mprint\u001b[39m(Gu\u001b[38;5;241m.\u001b[39mks_distance())\n\u001b[0;32m     10\u001b[0m \u001b[38;5;28mprint\u001b[39m(Gu\u001b[38;5;241m.\u001b[39mloglikelihood(deriv \u001b[38;5;241m=\u001b[39m \u001b[38;5;241m0\u001b[39m))\n",
      "File \u001b[1;32m\\\\myfiles.campus.bath.ac.uk\\gjm36\\dos\\Projects\\2023_root_reinforcement_book_Anil_Yildiz\\pyrootmemo\\src\\pyrootmemo\\fit\\fit_x.py:65\u001b[0m, in \u001b[0;36mFitLikelihoodBase.covariance\u001b[1;34m(self, method, n)\u001b[0m\n\u001b[0;32m     59\u001b[0m \u001b[38;5;28;01mdef\u001b[39;00m \u001b[38;5;21mcovariance\u001b[39m(\n\u001b[0;32m     60\u001b[0m         \u001b[38;5;28mself\u001b[39m, \n\u001b[0;32m     61\u001b[0m         method: \u001b[38;5;28mstr\u001b[39m \u001b[38;5;241m=\u001b[39m \u001b[38;5;124m'\u001b[39m\u001b[38;5;124mfisher\u001b[39m\u001b[38;5;124m'\u001b[39m, \n\u001b[0;32m     62\u001b[0m         n: \u001b[38;5;28mint\u001b[39m \u001b[38;5;241m=\u001b[39m \u001b[38;5;241m100\u001b[39m\n\u001b[0;32m     63\u001b[0m         ):\n\u001b[0;32m     64\u001b[0m     \u001b[38;5;66;03m# hessian of loglikelihood\u001b[39;00m\n\u001b[1;32m---> 65\u001b[0m     J \u001b[38;5;241m=\u001b[39m \u001b[38;5;28mself\u001b[39m\u001b[38;5;241m.\u001b[39mloglikelihood(deriv \u001b[38;5;241m=\u001b[39m \u001b[38;5;241m2\u001b[39m)\n\u001b[0;32m     66\u001b[0m     \u001b[38;5;66;03m# method\u001b[39;00m\n\u001b[0;32m     67\u001b[0m     \u001b[38;5;28;01mif\u001b[39;00m J \u001b[38;5;129;01mis\u001b[39;00m \u001b[38;5;28;01mNone\u001b[39;00m \u001b[38;5;129;01mor\u001b[39;00m method \u001b[38;5;241m==\u001b[39m \u001b[38;5;124m'\u001b[39m\u001b[38;5;124mbootstrap\u001b[39m\u001b[38;5;124m'\u001b[39m:\n\u001b[0;32m     68\u001b[0m         \u001b[38;5;66;03m# bootstrapping\u001b[39;00m\n",
      "File \u001b[1;32m\\\\myfiles.campus.bath.ac.uk\\gjm36\\dos\\Projects\\2023_root_reinforcement_book_Anil_Yildiz\\pyrootmemo\\src\\pyrootmemo\\fit\\fit_x.py:247\u001b[0m, in \u001b[0;36mGumbelFit.loglikelihood\u001b[1;34m(self, x, location, scale, deriv, weights)\u001b[0m\n\u001b[0;32m    235\u001b[0m d2logL_dmudtheta \u001b[38;5;241m=\u001b[39m (\n\u001b[0;32m    236\u001b[0m     \u001b[38;5;241m1.\u001b[39m \u001b[38;5;241m/\u001b[39m scale\u001b[38;5;241m*\u001b[39m\u001b[38;5;241m*\u001b[39m\u001b[38;5;241m2\u001b[39m \u001b[38;5;241m*\u001b[39m (c3 \u001b[38;5;241m*\u001b[39m (\u001b[38;5;241m1.\u001b[39m \u001b[38;5;241m+\u001b[39m location \u001b[38;5;241m/\u001b[39m scale) \u001b[38;5;241m-\u001b[39m c4 \u001b[38;5;241m/\u001b[39m scale)\n\u001b[0;32m    237\u001b[0m     \u001b[38;5;241m*\u001b[39m np\u001b[38;5;241m.\u001b[39mexp(location \u001b[38;5;241m/\u001b[39m scale) \n\u001b[0;32m    238\u001b[0m     \u001b[38;5;241m-\u001b[39m c1 \u001b[38;5;241m/\u001b[39m scale\u001b[38;5;241m*\u001b[39m\u001b[38;5;241m*\u001b[39m\u001b[38;5;241m2\u001b[39m\n\u001b[0;32m    239\u001b[0m     )\n\u001b[0;32m    240\u001b[0m d2logL_dtheta2 \u001b[38;5;241m=\u001b[39m (\n\u001b[0;32m    241\u001b[0m     c1 \u001b[38;5;241m/\u001b[39m scale\u001b[38;5;241m*\u001b[39m\u001b[38;5;241m*\u001b[39m\u001b[38;5;241m2\u001b[39m \n\u001b[0;32m    242\u001b[0m     \u001b[38;5;241m+\u001b[39m \u001b[38;5;241m2.\u001b[39m \u001b[38;5;241m/\u001b[39m scale\u001b[38;5;241m*\u001b[39m\u001b[38;5;241m*\u001b[39m\u001b[38;5;241m3\u001b[39m \u001b[38;5;241m*\u001b[39m (c1 \u001b[38;5;241m*\u001b[39m location \u001b[38;5;241m-\u001b[39m c2) \n\u001b[1;32m   (...)\u001b[0m\n\u001b[0;32m    245\u001b[0m     \u001b[38;5;241m+\u001b[39m \u001b[38;5;241m1.\u001b[39m \u001b[38;5;241m/\u001b[39m scale\u001b[38;5;241m*\u001b[39m\u001b[38;5;241m*\u001b[39m\u001b[38;5;241m4\u001b[39m \u001b[38;5;241m*\u001b[39m (c4 \u001b[38;5;241m*\u001b[39m location \u001b[38;5;241m-\u001b[39m c5) \u001b[38;5;241m*\u001b[39m np\u001b[38;5;241m.\u001b[39mexp(location \u001b[38;5;241m/\u001b[39m scale)\n\u001b[0;32m    246\u001b[0m     )\n\u001b[1;32m--> 247\u001b[0m \u001b[38;5;28;01mreturn\u001b[39;00m(np\u001b[38;5;241m.\u001b[39marray([\n\u001b[0;32m    248\u001b[0m     [d2logL_dmu2, d2logL_dmudtheta], \n\u001b[0;32m    249\u001b[0m     [d2logL_dmudtheta, d2logL_dtheta2]\n\u001b[0;32m    250\u001b[0m     ]))\n",
      "\u001b[1;31mValueError\u001b[0m: setting an array element with a sequence."
     ]
    }
   ],
   "source": [
    "# Gumbel fit with units\n",
    "Gu = GumbelFit(xu)\n",
    "print(Gu.location)\n",
    "print(Gu.scale)\n",
    "print(Gu.random(10))\n",
    "print(Gu.density())\n",
    "print(Gu.density(cumulative = True))\n",
    "print(Gu.covariance())\n",
    "print(Gu.ks_distance())\n",
    "print(Gu.loglikelihood(deriv = 0))\n",
    "print(Gu.loglikelihood(deriv = 1))\n",
    "print(Gu.loglikelihood(deriv = 2))"
   ]
  },
  {
   "cell_type": "code",
   "execution_count": null,
   "metadata": {},
   "outputs": [
    {
     "name": "stdout",
     "output_type": "stream",
     "text": [
      "9.46127464742141\n",
      "1.0869399748960076\n",
      "[12.13590265  9.11106392 12.6062325  10.60432633  9.47855073 12.81769555\n",
      "  8.88569559  9.33223341  9.76856949  9.7864744 ]\n",
      "[[0.02671776 0.00588801]\n",
      " [0.00588801 0.01122329]]\n",
      "0.1552145798879569\n"
     ]
    }
   ],
   "source": [
    "# Test Gumbel fit\n",
    "G = GumbelFit(x)\n",
    "print(G.location)\n",
    "print(G.scale)\n",
    "print(G.random(10))\n",
    "print(G.covariance())\n",
    "print(G.ks_distance())\n"
   ]
  },
  {
   "cell_type": "code",
   "execution_count": null,
   "metadata": {},
   "outputs": [
    {
     "name": "stdout",
     "output_type": "stream",
     "text": [
      "10.651462561782719\n",
      "10.421986161304925\n",
      "[10.88353194  9.16896463 11.60789274 11.20994515  9.13788033 10.38853728\n",
      "  9.07793529  9.10762558  9.4745378   9.6717535 ]\n",
      "[[0.51224687 0.02609597]\n",
      " [0.02609597 0.00931475]]\n",
      "0.10980021253155514\n",
      "[0.37741646 0.34215499 0.37525042 0.36587609 0.01955111 0.3356485\n",
      " 0.36442576 0.32557757 0.36035011 0.03066807 0.30242841 0.18905478\n",
      " 0.26512999 0.31481331 0.36117066 0.21344203 0.34332217 0.08988169\n",
      " 0.35682947 0.33874595 0.35859636 0.2006177  0.16635426 0.30236177\n",
      " 0.1531847  0.35557712 0.3741302  0.37766423 0.16543209 0.33309184\n",
      " 0.21338317 0.37764371 0.3720466  0.00571752 0.37761476 0.22130319\n",
      " 0.22376195 0.37265189 0.04711414 0.09043668 0.28110545 0.37089871\n",
      " 0.3614116  0.3771592  0.27807435 0.34729323 0.37720103 0.36679695\n",
      " 0.31908522 0.34690426]\n"
     ]
    }
   ],
   "source": [
    "# test Weibull fit\n",
    "W = WeibullFit(x)\n",
    "print(W.shape)\n",
    "print(W.scale)\n",
    "print(W.random(10))\n",
    "print(W.covariance())\n",
    "print(W.ks_distance())\n",
    "print(W.density())"
   ]
  },
  {
   "cell_type": "code",
   "execution_count": 7,
   "metadata": {},
   "outputs": [
    {
     "name": "stdout",
     "output_type": "stream",
     "text": [
      "10.45115117719743\n",
      "10.175541460695296 millimeter\n",
      "[10.964150133882388 8.77399222145154 10.48407897941366 11.094995200986247 9.249595134749995 9.454281315375107 9.889635428891498 10.327262582564654 8.655504423009525 8.53262471419734] millimeter\n",
      "0.1094762952223789 dimensionless\n",
      "[0.35589954650737043 0.34141590461672666 0.22023045757747534 0.37941187688249706 0.2770539670725522 0.11873923560265112 0.3605656915672758 0.3265193591798104 0.22513342537706912 0.230688672350852 0.3220586137340866 0.3794127263505873 0.2638449476598629 0.18678157339592524 0.35482930308596344 0.2717215594651049 0.21684915853130196 0.0593707093412413 0.014868935786623247 0.18631439226948435 0.2578585378726249 0.10853921206919133 0.3250505264401387 0.37026324087002216 0.3796318523065344 0.36847926665677894 0.34664875269624706 0.15219831902364292 0.32389424709761033 0.24014947227885122 0.07890507284612794 0.15382656773738893 0.35340338833906787 0.3773306494343653 0.3769749519490162 0.2548761654138162 0.36038603921306395 0.2584420044390673 0.3434396357419706 0.3793633767340248 0.3062486762846642 0.15074722973921348 0.21537904580893774 0.2649266573786377 0.25111011272805966 0.37367323602850494 0.13891767202314828 0.274742054472787 0.15803873861007375 0.35211751162369315] / millimeter\n",
      "[0.4534974074120639 0.7572721796710766 0.2107663656702321 0.6083371514631188 0.29052370477762113 0.09798732833085322 0.46866219624603467 0.3796480692859533 0.21704308423598484 0.22427284081561882 0.7908017651110968 0.6083122476109535 0.27041883039115444 0.1702709239722262 0.7275613118907927 0.2822695236245928 0.20649239441947287 0.9839839265213405 0.9970602954386335 0.9223487964486237 0.26166354692419946 0.9644631992969854 0.37654621108556996 0.5073794185109555 0.5968630782458189 0.4991746128952581 0.4271011270367071 0.1320342531092351 0.3741314753254591 0.2368914253731189 0.9768363804751172 0.9417953648267458 0.4459610352000861 0.6370037136847694 0.5489486139111618 0.25737754954350145 0.7125550617958724 0.26250782647362003 0.41877772552140236 0.5805379434436977 0.8133175833737758 0.13050057212964605 0.20464773744030362 0.27202339109347795 0.2520339533995072 0.6618397648220622 0.11819537060797103 0.8501704691033953 0.13826207473272645 0.7341983059606509] dimensionless\n"
     ]
    },
    {
     "ename": "DimensionalityError",
     "evalue": "Cannot convert from 'millimeter' ([length]) to 'dimensionless' (dimensionless)",
     "output_type": "error",
     "traceback": [
      "\u001b[1;31m---------------------------------------------------------------------------\u001b[0m",
      "\u001b[1;31mDimensionalityError\u001b[0m                       Traceback (most recent call last)",
      "Cell \u001b[1;32mIn[7], line 9\u001b[0m\n\u001b[0;32m      7\u001b[0m \u001b[38;5;28mprint\u001b[39m(Wu\u001b[38;5;241m.\u001b[39mdensity())\n\u001b[0;32m      8\u001b[0m \u001b[38;5;28mprint\u001b[39m(Wu\u001b[38;5;241m.\u001b[39mdensity(cumulative \u001b[38;5;241m=\u001b[39m \u001b[38;5;28;01mTrue\u001b[39;00m))\n\u001b[1;32m----> 9\u001b[0m \u001b[38;5;28mprint\u001b[39m(Wu\u001b[38;5;241m.\u001b[39mloglikelihood(deriv \u001b[38;5;241m=\u001b[39m \u001b[38;5;241m0\u001b[39m))\n\u001b[0;32m     10\u001b[0m \u001b[38;5;28mprint\u001b[39m(Wu\u001b[38;5;241m.\u001b[39mloglikelihood(deriv \u001b[38;5;241m=\u001b[39m \u001b[38;5;241m1\u001b[39m))\n\u001b[0;32m     11\u001b[0m \u001b[38;5;28mprint\u001b[39m(Wu\u001b[38;5;241m.\u001b[39mloglikelihood(deriv \u001b[38;5;241m=\u001b[39m \u001b[38;5;241m2\u001b[39m))\n",
      "File \u001b[1;32m\\\\myfiles.campus.bath.ac.uk\\gjm36\\dos\\Projects\\2023_root_reinforcement_book_Anil_Yildiz\\pyrootmemo\\src\\pyrootmemo\\fit\\fit_x.py:411\u001b[0m, in \u001b[0;36mWeibullFit.loglikelihood\u001b[1;34m(self, x, weights, shape, scale, deriv)\u001b[0m\n\u001b[0;32m    409\u001b[0m scale \u001b[38;5;241m=\u001b[39m \u001b[38;5;28mself\u001b[39m\u001b[38;5;241m.\u001b[39mscale \u001b[38;5;28;01mif\u001b[39;00m scale \u001b[38;5;129;01mis\u001b[39;00m \u001b[38;5;28;01mNone\u001b[39;00m \u001b[38;5;28;01melse\u001b[39;00m scale \n\u001b[0;32m    410\u001b[0m \u001b[38;5;66;03m# coefficients\u001b[39;00m\n\u001b[1;32m--> 411\u001b[0m c1 \u001b[38;5;241m=\u001b[39m np\u001b[38;5;241m.\u001b[39msum(weights \u001b[38;5;241m*\u001b[39m np\u001b[38;5;241m.\u001b[39mlog(x))\n\u001b[0;32m    412\u001b[0m c2 \u001b[38;5;241m=\u001b[39m np\u001b[38;5;241m.\u001b[39msum(weights \u001b[38;5;241m*\u001b[39m x\u001b[38;5;241m*\u001b[39m\u001b[38;5;241m*\u001b[39mshape)\n\u001b[0;32m    413\u001b[0m c3 \u001b[38;5;241m=\u001b[39m np\u001b[38;5;241m.\u001b[39msum(weights \u001b[38;5;241m*\u001b[39m x\u001b[38;5;241m*\u001b[39m\u001b[38;5;241m*\u001b[39mshape \u001b[38;5;241m*\u001b[39m np\u001b[38;5;241m.\u001b[39mlog(x))\n",
      "File \u001b[1;32mc:\\Users\\gjm36\\AppData\\Local\\miniforge3\\envs\\rrmm\\Lib\\site-packages\\pint\\facets\\numpy\\quantity.py:72\u001b[0m, in \u001b[0;36mNumpyQuantity.__array_ufunc__\u001b[1;34m(self, ufunc, method, *inputs, **kwargs)\u001b[0m\n\u001b[0;32m     65\u001b[0m \u001b[38;5;66;03m# Replicate types from __array_function__\u001b[39;00m\n\u001b[0;32m     66\u001b[0m types \u001b[38;5;241m=\u001b[39m {\n\u001b[0;32m     67\u001b[0m     \u001b[38;5;28mtype\u001b[39m(arg)\n\u001b[0;32m     68\u001b[0m     \u001b[38;5;28;01mfor\u001b[39;00m arg \u001b[38;5;129;01min\u001b[39;00m \u001b[38;5;28mlist\u001b[39m(inputs) \u001b[38;5;241m+\u001b[39m \u001b[38;5;28mlist\u001b[39m(kwargs\u001b[38;5;241m.\u001b[39mvalues())\n\u001b[0;32m     69\u001b[0m     \u001b[38;5;28;01mif\u001b[39;00m \u001b[38;5;28mhasattr\u001b[39m(arg, \u001b[38;5;124m\"\u001b[39m\u001b[38;5;124m__array_ufunc__\u001b[39m\u001b[38;5;124m\"\u001b[39m)\n\u001b[0;32m     70\u001b[0m }\n\u001b[1;32m---> 72\u001b[0m \u001b[38;5;28;01mreturn\u001b[39;00m numpy_wrap(\u001b[38;5;124m\"\u001b[39m\u001b[38;5;124mufunc\u001b[39m\u001b[38;5;124m\"\u001b[39m, ufunc, inputs, kwargs, types)\n",
      "File \u001b[1;32mc:\\Users\\gjm36\\AppData\\Local\\miniforge3\\envs\\rrmm\\Lib\\site-packages\\pint\\facets\\numpy\\numpy_func.py:1071\u001b[0m, in \u001b[0;36mnumpy_wrap\u001b[1;34m(func_type, func, args, kwargs, types)\u001b[0m\n\u001b[0;32m   1069\u001b[0m \u001b[38;5;28;01mif\u001b[39;00m name \u001b[38;5;129;01mnot\u001b[39;00m \u001b[38;5;129;01min\u001b[39;00m handled \u001b[38;5;129;01mor\u001b[39;00m \u001b[38;5;28many\u001b[39m(is_upcast_type(t) \u001b[38;5;28;01mfor\u001b[39;00m t \u001b[38;5;129;01min\u001b[39;00m types):\n\u001b[0;32m   1070\u001b[0m     \u001b[38;5;28;01mreturn\u001b[39;00m \u001b[38;5;28mNotImplemented\u001b[39m\n\u001b[1;32m-> 1071\u001b[0m \u001b[38;5;28;01mreturn\u001b[39;00m handled[name](\u001b[38;5;241m*\u001b[39margs, \u001b[38;5;241m*\u001b[39m\u001b[38;5;241m*\u001b[39mkwargs)\n",
      "File \u001b[1;32mc:\\Users\\gjm36\\AppData\\Local\\miniforge3\\envs\\rrmm\\Lib\\site-packages\\pint\\facets\\numpy\\numpy_func.py:317\u001b[0m, in \u001b[0;36mimplement_func.<locals>.implementation\u001b[1;34m(*args, **kwargs)\u001b[0m\n\u001b[0;32m    313\u001b[0m         pre_calc_units \u001b[38;5;241m=\u001b[39m input_units\n\u001b[0;32m    315\u001b[0m     \u001b[38;5;66;03m# Match all input args/kwargs to input_units, or if input_units is None,\u001b[39;00m\n\u001b[0;32m    316\u001b[0m     \u001b[38;5;66;03m# simply strip units\u001b[39;00m\n\u001b[1;32m--> 317\u001b[0m     stripped_args, stripped_kwargs \u001b[38;5;241m=\u001b[39m convert_to_consistent_units(\n\u001b[0;32m    318\u001b[0m         \u001b[38;5;241m*\u001b[39margs, pre_calc_units\u001b[38;5;241m=\u001b[39mpre_calc_units, \u001b[38;5;241m*\u001b[39m\u001b[38;5;241m*\u001b[39mkwargs\n\u001b[0;32m    319\u001b[0m     )\n\u001b[0;32m    321\u001b[0m \u001b[38;5;66;03m# Determine result through plain numpy function on stripped arguments\u001b[39;00m\n\u001b[0;32m    322\u001b[0m result_magnitude \u001b[38;5;241m=\u001b[39m func(\u001b[38;5;241m*\u001b[39mstripped_args, \u001b[38;5;241m*\u001b[39m\u001b[38;5;241m*\u001b[39mstripped_kwargs)\n",
      "File \u001b[1;32mc:\\Users\\gjm36\\AppData\\Local\\miniforge3\\envs\\rrmm\\Lib\\site-packages\\pint\\facets\\numpy\\numpy_func.py:115\u001b[0m, in \u001b[0;36mconvert_to_consistent_units\u001b[1;34m(pre_calc_units, *args, **kwargs)\u001b[0m\n\u001b[0;32m    105\u001b[0m \u001b[38;5;28;01mdef\u001b[39;00m \u001b[38;5;21mconvert_to_consistent_units\u001b[39m(\u001b[38;5;241m*\u001b[39margs, pre_calc_units\u001b[38;5;241m=\u001b[39m\u001b[38;5;28;01mNone\u001b[39;00m, \u001b[38;5;241m*\u001b[39m\u001b[38;5;241m*\u001b[39mkwargs):\n\u001b[0;32m    106\u001b[0m \u001b[38;5;250m    \u001b[39m\u001b[38;5;124;03m\"\"\"Prepare args and kwargs for wrapping by unit conversion and stripping.\u001b[39;00m\n\u001b[0;32m    107\u001b[0m \n\u001b[0;32m    108\u001b[0m \u001b[38;5;124;03m    If pre_calc_units is not None, takes the args and kwargs for a NumPy function and\u001b[39;00m\n\u001b[1;32m   (...)\u001b[0m\n\u001b[0;32m    112\u001b[0m \u001b[38;5;124;03m    stripped.\u001b[39;00m\n\u001b[0;32m    113\u001b[0m \u001b[38;5;124;03m    \"\"\"\u001b[39;00m\n\u001b[0;32m    114\u001b[0m     \u001b[38;5;28;01mreturn\u001b[39;00m (\n\u001b[1;32m--> 115\u001b[0m         \u001b[38;5;28mtuple\u001b[39m(convert_arg(arg, pre_calc_units\u001b[38;5;241m=\u001b[39mpre_calc_units) \u001b[38;5;28;01mfor\u001b[39;00m arg \u001b[38;5;129;01min\u001b[39;00m args),\n\u001b[0;32m    116\u001b[0m         {\n\u001b[0;32m    117\u001b[0m             key: convert_arg(arg, pre_calc_units\u001b[38;5;241m=\u001b[39mpre_calc_units)\n\u001b[0;32m    118\u001b[0m             \u001b[38;5;28;01mfor\u001b[39;00m key, arg \u001b[38;5;129;01min\u001b[39;00m kwargs\u001b[38;5;241m.\u001b[39mitems()\n\u001b[0;32m    119\u001b[0m         },\n\u001b[0;32m    120\u001b[0m     )\n",
      "File \u001b[1;32mc:\\Users\\gjm36\\AppData\\Local\\miniforge3\\envs\\rrmm\\Lib\\site-packages\\pint\\facets\\numpy\\numpy_func.py:115\u001b[0m, in \u001b[0;36m<genexpr>\u001b[1;34m(.0)\u001b[0m\n\u001b[0;32m    105\u001b[0m \u001b[38;5;28;01mdef\u001b[39;00m \u001b[38;5;21mconvert_to_consistent_units\u001b[39m(\u001b[38;5;241m*\u001b[39margs, pre_calc_units\u001b[38;5;241m=\u001b[39m\u001b[38;5;28;01mNone\u001b[39;00m, \u001b[38;5;241m*\u001b[39m\u001b[38;5;241m*\u001b[39mkwargs):\n\u001b[0;32m    106\u001b[0m \u001b[38;5;250m    \u001b[39m\u001b[38;5;124;03m\"\"\"Prepare args and kwargs for wrapping by unit conversion and stripping.\u001b[39;00m\n\u001b[0;32m    107\u001b[0m \n\u001b[0;32m    108\u001b[0m \u001b[38;5;124;03m    If pre_calc_units is not None, takes the args and kwargs for a NumPy function and\u001b[39;00m\n\u001b[1;32m   (...)\u001b[0m\n\u001b[0;32m    112\u001b[0m \u001b[38;5;124;03m    stripped.\u001b[39;00m\n\u001b[0;32m    113\u001b[0m \u001b[38;5;124;03m    \"\"\"\u001b[39;00m\n\u001b[0;32m    114\u001b[0m     \u001b[38;5;28;01mreturn\u001b[39;00m (\n\u001b[1;32m--> 115\u001b[0m         \u001b[38;5;28mtuple\u001b[39m(convert_arg(arg, pre_calc_units\u001b[38;5;241m=\u001b[39mpre_calc_units) \u001b[38;5;28;01mfor\u001b[39;00m arg \u001b[38;5;129;01min\u001b[39;00m args),\n\u001b[0;32m    116\u001b[0m         {\n\u001b[0;32m    117\u001b[0m             key: convert_arg(arg, pre_calc_units\u001b[38;5;241m=\u001b[39mpre_calc_units)\n\u001b[0;32m    118\u001b[0m             \u001b[38;5;28;01mfor\u001b[39;00m key, arg \u001b[38;5;129;01min\u001b[39;00m kwargs\u001b[38;5;241m.\u001b[39mitems()\n\u001b[0;32m    119\u001b[0m         },\n\u001b[0;32m    120\u001b[0m     )\n",
      "File \u001b[1;32mc:\\Users\\gjm36\\AppData\\Local\\miniforge3\\envs\\rrmm\\Lib\\site-packages\\pint\\facets\\numpy\\numpy_func.py:88\u001b[0m, in \u001b[0;36mconvert_arg\u001b[1;34m(arg, pre_calc_units)\u001b[0m\n\u001b[0;32m     86\u001b[0m \u001b[38;5;28;01mif\u001b[39;00m pre_calc_units \u001b[38;5;129;01mis\u001b[39;00m \u001b[38;5;129;01mnot\u001b[39;00m \u001b[38;5;28;01mNone\u001b[39;00m:\n\u001b[0;32m     87\u001b[0m     \u001b[38;5;28;01mif\u001b[39;00m _is_quantity(arg):\n\u001b[1;32m---> 88\u001b[0m         \u001b[38;5;28;01mreturn\u001b[39;00m arg\u001b[38;5;241m.\u001b[39mm_as(pre_calc_units)\n\u001b[0;32m     89\u001b[0m     \u001b[38;5;28;01melif\u001b[39;00m _is_sequence_with_quantity_elements(arg):\n\u001b[0;32m     90\u001b[0m         \u001b[38;5;28;01mreturn\u001b[39;00m [convert_arg(item, pre_calc_units) \u001b[38;5;28;01mfor\u001b[39;00m item \u001b[38;5;129;01min\u001b[39;00m arg]\n",
      "File \u001b[1;32mc:\\Users\\gjm36\\AppData\\Local\\miniforge3\\envs\\rrmm\\Lib\\site-packages\\pint\\facets\\plain\\quantity.py:315\u001b[0m, in \u001b[0;36mPlainQuantity.m_as\u001b[1;34m(self, units)\u001b[0m\n\u001b[0;32m    303\u001b[0m \u001b[38;5;28;01mdef\u001b[39;00m \u001b[38;5;21mm_as\u001b[39m(\u001b[38;5;28mself\u001b[39m, units) \u001b[38;5;241m-\u001b[39m\u001b[38;5;241m>\u001b[39m MagnitudeT:\n\u001b[0;32m    304\u001b[0m \u001b[38;5;250m    \u001b[39m\u001b[38;5;124;03m\"\"\"PlainQuantity's magnitude expressed in particular units.\u001b[39;00m\n\u001b[0;32m    305\u001b[0m \n\u001b[0;32m    306\u001b[0m \u001b[38;5;124;03m    Parameters\u001b[39;00m\n\u001b[1;32m   (...)\u001b[0m\n\u001b[0;32m    313\u001b[0m \n\u001b[0;32m    314\u001b[0m \u001b[38;5;124;03m    \"\"\"\u001b[39;00m\n\u001b[1;32m--> 315\u001b[0m     \u001b[38;5;28;01mreturn\u001b[39;00m \u001b[38;5;28mself\u001b[39m\u001b[38;5;241m.\u001b[39mto(units)\u001b[38;5;241m.\u001b[39mmagnitude\n",
      "File \u001b[1;32mc:\\Users\\gjm36\\AppData\\Local\\miniforge3\\envs\\rrmm\\Lib\\site-packages\\pint\\facets\\plain\\quantity.py:536\u001b[0m, in \u001b[0;36mPlainQuantity.to\u001b[1;34m(self, other, *contexts, **ctx_kwargs)\u001b[0m\n\u001b[0;32m    519\u001b[0m \u001b[38;5;250m\u001b[39m\u001b[38;5;124;03m\"\"\"Return PlainQuantity rescaled to different units.\u001b[39;00m\n\u001b[0;32m    520\u001b[0m \n\u001b[0;32m    521\u001b[0m \u001b[38;5;124;03mParameters\u001b[39;00m\n\u001b[1;32m   (...)\u001b[0m\n\u001b[0;32m    532\u001b[0m \u001b[38;5;124;03mpint.PlainQuantity\u001b[39;00m\n\u001b[0;32m    533\u001b[0m \u001b[38;5;124;03m\"\"\"\u001b[39;00m\n\u001b[0;32m    534\u001b[0m other \u001b[38;5;241m=\u001b[39m to_units_container(other, \u001b[38;5;28mself\u001b[39m\u001b[38;5;241m.\u001b[39m_REGISTRY)\n\u001b[1;32m--> 536\u001b[0m magnitude \u001b[38;5;241m=\u001b[39m \u001b[38;5;28mself\u001b[39m\u001b[38;5;241m.\u001b[39m_convert_magnitude_not_inplace(other, \u001b[38;5;241m*\u001b[39mcontexts, \u001b[38;5;241m*\u001b[39m\u001b[38;5;241m*\u001b[39mctx_kwargs)\n\u001b[0;32m    538\u001b[0m \u001b[38;5;28;01mreturn\u001b[39;00m \u001b[38;5;28mself\u001b[39m\u001b[38;5;241m.\u001b[39m\u001b[38;5;18m__class__\u001b[39m(magnitude, other)\n",
      "File \u001b[1;32mc:\\Users\\gjm36\\AppData\\Local\\miniforge3\\envs\\rrmm\\Lib\\site-packages\\pint\\facets\\plain\\quantity.py:480\u001b[0m, in \u001b[0;36mPlainQuantity._convert_magnitude_not_inplace\u001b[1;34m(self, other, *contexts, **ctx_kwargs)\u001b[0m\n\u001b[0;32m    477\u001b[0m     \u001b[38;5;28;01mwith\u001b[39;00m \u001b[38;5;28mself\u001b[39m\u001b[38;5;241m.\u001b[39m_REGISTRY\u001b[38;5;241m.\u001b[39mcontext(\u001b[38;5;241m*\u001b[39mcontexts, \u001b[38;5;241m*\u001b[39m\u001b[38;5;241m*\u001b[39mctx_kwargs):\n\u001b[0;32m    478\u001b[0m         \u001b[38;5;28;01mreturn\u001b[39;00m \u001b[38;5;28mself\u001b[39m\u001b[38;5;241m.\u001b[39m_REGISTRY\u001b[38;5;241m.\u001b[39mconvert(\u001b[38;5;28mself\u001b[39m\u001b[38;5;241m.\u001b[39m_magnitude, \u001b[38;5;28mself\u001b[39m\u001b[38;5;241m.\u001b[39m_units, other)\n\u001b[1;32m--> 480\u001b[0m \u001b[38;5;28;01mreturn\u001b[39;00m \u001b[38;5;28mself\u001b[39m\u001b[38;5;241m.\u001b[39m_REGISTRY\u001b[38;5;241m.\u001b[39mconvert(\u001b[38;5;28mself\u001b[39m\u001b[38;5;241m.\u001b[39m_magnitude, \u001b[38;5;28mself\u001b[39m\u001b[38;5;241m.\u001b[39m_units, other)\n",
      "File \u001b[1;32mc:\\Users\\gjm36\\AppData\\Local\\miniforge3\\envs\\rrmm\\Lib\\site-packages\\pint\\facets\\plain\\registry.py:1050\u001b[0m, in \u001b[0;36mGenericPlainRegistry.convert\u001b[1;34m(self, value, src, dst, inplace)\u001b[0m\n\u001b[0;32m   1047\u001b[0m \u001b[38;5;28;01mif\u001b[39;00m src \u001b[38;5;241m==\u001b[39m dst:\n\u001b[0;32m   1048\u001b[0m     \u001b[38;5;28;01mreturn\u001b[39;00m value\n\u001b[1;32m-> 1050\u001b[0m \u001b[38;5;28;01mreturn\u001b[39;00m \u001b[38;5;28mself\u001b[39m\u001b[38;5;241m.\u001b[39m_convert(value, src, dst, inplace)\n",
      "File \u001b[1;32mc:\\Users\\gjm36\\AppData\\Local\\miniforge3\\envs\\rrmm\\Lib\\site-packages\\pint\\facets\\context\\registry.py:405\u001b[0m, in \u001b[0;36mGenericContextRegistry._convert\u001b[1;34m(self, value, src, dst, inplace)\u001b[0m\n\u001b[0;32m    401\u001b[0m             src \u001b[38;5;241m=\u001b[39m \u001b[38;5;28mself\u001b[39m\u001b[38;5;241m.\u001b[39m_active_ctx\u001b[38;5;241m.\u001b[39mtransform(a, b, \u001b[38;5;28mself\u001b[39m, src)\n\u001b[0;32m    403\u001b[0m         value, src \u001b[38;5;241m=\u001b[39m src\u001b[38;5;241m.\u001b[39m_magnitude, src\u001b[38;5;241m.\u001b[39m_units\n\u001b[1;32m--> 405\u001b[0m \u001b[38;5;28;01mreturn\u001b[39;00m \u001b[38;5;28msuper\u001b[39m()\u001b[38;5;241m.\u001b[39m_convert(value, src, dst, inplace)\n",
      "File \u001b[1;32mc:\\Users\\gjm36\\AppData\\Local\\miniforge3\\envs\\rrmm\\Lib\\site-packages\\pint\\facets\\nonmultiplicative\\registry.py:259\u001b[0m, in \u001b[0;36mGenericNonMultiplicativeRegistry._convert\u001b[1;34m(self, value, src, dst, inplace)\u001b[0m\n\u001b[0;32m    257\u001b[0m \u001b[38;5;66;03m# convert if no offset units are present\u001b[39;00m\n\u001b[0;32m    258\u001b[0m \u001b[38;5;28;01mif\u001b[39;00m \u001b[38;5;129;01mnot\u001b[39;00m (src_offset_unit \u001b[38;5;129;01mor\u001b[39;00m dst_offset_unit):\n\u001b[1;32m--> 259\u001b[0m     \u001b[38;5;28;01mreturn\u001b[39;00m \u001b[38;5;28msuper\u001b[39m()\u001b[38;5;241m.\u001b[39m_convert(value, src, dst, inplace)\n\u001b[0;32m    261\u001b[0m src_dim \u001b[38;5;241m=\u001b[39m \u001b[38;5;28mself\u001b[39m\u001b[38;5;241m.\u001b[39m_get_dimensionality(src)\n\u001b[0;32m    262\u001b[0m dst_dim \u001b[38;5;241m=\u001b[39m \u001b[38;5;28mself\u001b[39m\u001b[38;5;241m.\u001b[39m_get_dimensionality(dst)\n",
      "File \u001b[1;32mc:\\Users\\gjm36\\AppData\\Local\\miniforge3\\envs\\rrmm\\Lib\\site-packages\\pint\\facets\\plain\\registry.py:1085\u001b[0m, in \u001b[0;36mGenericPlainRegistry._convert\u001b[1;34m(self, value, src, dst, inplace, check_dimensionality)\u001b[0m\n\u001b[0;32m   1082\u001b[0m factor \u001b[38;5;241m=\u001b[39m \u001b[38;5;28mself\u001b[39m\u001b[38;5;241m.\u001b[39m_get_conversion_factor(src, dst)\n\u001b[0;32m   1084\u001b[0m \u001b[38;5;28;01mif\u001b[39;00m \u001b[38;5;28misinstance\u001b[39m(factor, DimensionalityError):\n\u001b[1;32m-> 1085\u001b[0m     \u001b[38;5;28;01mraise\u001b[39;00m factor\n\u001b[0;32m   1087\u001b[0m \u001b[38;5;66;03m# factor is type float and if our magnitude is type Decimal then\u001b[39;00m\n\u001b[0;32m   1088\u001b[0m \u001b[38;5;66;03m# must first convert to Decimal before we can '*' the values\u001b[39;00m\n\u001b[0;32m   1089\u001b[0m \u001b[38;5;28;01mif\u001b[39;00m \u001b[38;5;28misinstance\u001b[39m(value, Decimal):\n",
      "\u001b[1;31mDimensionalityError\u001b[0m: Cannot convert from 'millimeter' ([length]) to 'dimensionless' (dimensionless)"
     ]
    }
   ],
   "source": [
    "# Weibull with units\n",
    "Wu = WeibullFit(xu)\n",
    "print(Wu.shape)\n",
    "print(Wu.scale)\n",
    "print(Wu.random(10))\n",
    "print(Wu.ks_distance())\n",
    "print(Wu.density())\n",
    "print(Wu.density(cumulative = True))\n",
    "print(Wu.loglikelihood(deriv = 0))\n",
    "print(Wu.loglikelihood(deriv = 1))\n",
    "print(Wu.loglikelihood(deriv = 2))\n",
    "print(Wu.covariance())\n",
    "\n",
    "\n"
   ]
  },
  {
   "cell_type": "code",
   "execution_count": null,
   "metadata": {},
   "outputs": [
    {
     "name": "stdout",
     "output_type": "stream",
     "text": [
      "0.1270510672273536\n",
      "-0.0720756234064388\n",
      "1.1813500908995935\n",
      "9.999999996523254\n",
      "[5.99777435 9.09497706 7.01913458 8.6049799  7.82542437 8.31942132\n",
      " 9.48538981 9.93050414 2.55163879 7.486368  ]\n",
      "[0.         0.12085967 0.11737876]\n"
     ]
    }
   ],
   "source": [
    "# generate some data - binned\n",
    "xall = np.linspace(1, 10, 6)\n",
    "xmin = xall[:-1]\n",
    "xmax = xall[1:]\n",
    "n = np.ones(len(xmin))\n",
    "P = PowerFitBinned(xmin, xmax, n)\n",
    "print(P.multiplier)\n",
    "print(P.exponent)\n",
    "print(P.lower)\n",
    "print(P.upper)\n",
    "print(P.random(10))\n",
    "print(P.density(np.array([1, 2, 3])))"
   ]
  },
  {
   "cell_type": "code",
   "execution_count": null,
   "metadata": {},
   "outputs": [
    {
     "name": "stdout",
     "output_type": "stream",
     "text": [
      "0.9575566729246514\n",
      "7.47967032855669\n",
      "12.249327139058021\n",
      "[11.64403972 10.571524   11.32473628 11.97127467  8.78734394 11.44191334\n",
      "  9.17040223 10.57217253  9.39507752 10.40004743]\n",
      "1.032748894097686\n",
      "0.1852998040273739\n",
      "[0.21664428 0.19392935 0.194218   0.20007107 0.18117823 0.16091434\n",
      " 0.2014137  0.19585929 0.22190668 0.20999665 0.22266274 0.22662158\n",
      " 0.20826733 0.17193885 0.23379505 0.2318689  0.1942803  0.22900244\n",
      " 0.22442049 0.19413359 0.23179838 0.18065737 0.20183209 0.2258453\n",
      " 0.24279134 0.21815128 0.19492125 0.2033778  0.21570619 0.2100013\n",
      " 0.21210317 0.20058159 0.23953618 0.23823669 0.20948761 0.23107447\n",
      " 0.22008223 0.23069492 0.19981879 0.23809131 0.2031062  0.22116566\n",
      " 0.17639965 0.25806665 0.20081703 0.21662064 0.23050597 0.1867032\n",
      " 0.23745956 0.23977847]\n"
     ]
    }
   ],
   "source": [
    "# test Power fit\n",
    "P = PowerFit(x)\n",
    "print(P.exponent)\n",
    "print(P.lower)\n",
    "print(P.upper)\n",
    "print(P.random(10))\n",
    "print(P.covariance())\n",
    "print(P.ks_distance())\n",
    "print(P.density())"
   ]
  }
 ],
 "metadata": {
  "kernelspec": {
   "display_name": "rrmm",
   "language": "python",
   "name": "python3"
  },
  "language_info": {
   "codemirror_mode": {
    "name": "ipython",
    "version": 3
   },
   "file_extension": ".py",
   "mimetype": "text/x-python",
   "name": "python",
   "nbconvert_exporter": "python",
   "pygments_lexer": "ipython3",
   "version": "3.13.0"
  }
 },
 "nbformat": 4,
 "nbformat_minor": 2
}
