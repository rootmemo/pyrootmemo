{
 "cells": [
  {
   "cell_type": "code",
   "execution_count": 1,
   "metadata": {},
   "outputs": [],
   "source": [
    "import numpy as np\n",
    "from pyrootmemo.fit.fit_x import GumbelFit, WeibullFit, PowerFit\n",
    "from pyrootmemo.fit.fit_xy_binned import PowerFitBinned"
   ]
  },
  {
   "cell_type": "code",
   "execution_count": 7,
   "metadata": {},
   "outputs": [
    {
     "name": "stdout",
     "output_type": "stream",
     "text": [
      "0.1270510672273536\n",
      "-0.0720756234064388\n",
      "1.1813500908995935\n",
      "9.999999996523254\n",
      "[3.27404296 4.69975233 9.92508537 9.00778945 9.16154396 2.89931584\n",
      " 8.75548481 9.17746872 5.90851443 3.84758057]\n",
      "[0.         0.12085967 0.11737876]\n"
     ]
    }
   ],
   "source": [
    "# generate some data - binned\n",
    "xall = np.linspace(1, 10, 6)\n",
    "xmin = xall[:-1]\n",
    "xmax = xall[1:]\n",
    "n = np.ones(len(xmin))\n",
    "P = PowerFitBinned(xmin, xmax, n)\n",
    "print(P.multiplier)\n",
    "print(P.exponent)\n",
    "print(P.lower)\n",
    "print(P.upper)\n",
    "print(P.random(10))\n",
    "print(P.density(np.array([1, 2, 3])))"
   ]
  },
  {
   "cell_type": "code",
   "execution_count": 2,
   "metadata": {},
   "outputs": [],
   "source": [
    "# generate some data\n",
    "rng = np.random.default_rng()\n",
    "x = rng.normal(10, 1, 50)"
   ]
  },
  {
   "cell_type": "code",
   "execution_count": 3,
   "metadata": {},
   "outputs": [
    {
     "name": "stdout",
     "output_type": "stream",
     "text": [
      "9.60490079879173\n",
      "0.729191040976942\n",
      "[ 9.26781411  9.78342602 10.13543759  9.93093396  9.29383239 10.36424169\n",
      " 11.18269047  9.32441607 10.8478874   9.68405899]\n",
      "[[0.0119009  0.00281268]\n",
      " [0.00281268 0.00624641]]\n",
      "0.12314141765097819\n"
     ]
    }
   ],
   "source": [
    "# Test Gumbel fit\n",
    "G = GumbelFit(x)\n",
    "print(G.location)\n",
    "print(G.scale)\n",
    "print(G.random(10))\n",
    "print(G.covariance())\n",
    "print(G.ks_distance())\n",
    "\n",
    "\n"
   ]
  },
  {
   "cell_type": "code",
   "execution_count": 4,
   "metadata": {},
   "outputs": [
    {
     "name": "stdout",
     "output_type": "stream",
     "text": [
      "12.261494928195146\n",
      "10.3940801891141\n",
      "[10.36706676  9.75849025  8.89754906 10.26218941 10.32034756 10.10547582\n",
      " 10.52767841 11.19602176 11.27021484  9.01672465]\n",
      "[[0.68711456 0.02640411]\n",
      " [0.02640411 0.00703307]]\n",
      "0.10619182983274889\n",
      "[0.4309787  0.2538294  0.28907636 0.15884705 0.21285952 0.17044475\n",
      " 0.22192478 0.37931504 0.43545132 0.42351217 0.11120774 0.14117961\n",
      " 0.43231179 0.43250798 0.1744795  0.39367255 0.3814619  0.3321048\n",
      " 0.43528237 0.40711823 0.19649388 0.3682331  0.37313293 0.21301932\n",
      " 0.3376192  0.43520817 0.42468725 0.37932527 0.30511925 0.10622065\n",
      " 0.43295804 0.41763077 0.26225739 0.22968303 0.34254824 0.40201974\n",
      " 0.21133669 0.13430443 0.00538928 0.23103386 0.26695764 0.21045803\n",
      " 0.42175733 0.42317781 0.42426799 0.41876484 0.42193989 0.39424806\n",
      " 0.2103908  0.29113083]\n"
     ]
    }
   ],
   "source": [
    "# test Weibull fit\n",
    "W = WeibullFit(x)\n",
    "print(W.shape)\n",
    "print(W.scale)\n",
    "print(W.random(10))\n",
    "print(W.covariance())\n",
    "print(W.ks_distance())\n",
    "print(W.density())"
   ]
  },
  {
   "cell_type": "code",
   "execution_count": 5,
   "metadata": {},
   "outputs": [
    {
     "name": "stdout",
     "output_type": "stream",
     "text": [
      "-2.66022763748583\n",
      "8.452791902843838\n",
      "12.210012225025544\n",
      "[ 9.88323146 11.71154564  9.10731208  8.95174825 10.79283704  8.63873978\n",
      " 11.17708302  9.3727667   9.65661129 11.14087023]\n",
      "1.8077335145676543\n",
      "0.13519147602890114\n",
      "[0.26119365 0.33643572 0.32207929 0.38621066 0.20182611 0.37873906\n",
      " 0.35083256 0.28793955 0.2522565  0.23998299 0.18878158 0.39879541\n",
      " 0.24595621 0.25951545 0.37626416 0.28207072 0.28708627 0.2179098\n",
      " 0.25099476 0.27604819 0.3637149  0.22424483 0.29036158 0.35517718\n",
      " 0.30373418 0.25068862 0.2405893  0.2879355  0.21384949 0.42982662\n",
      " 0.25894858 0.27063996 0.332881   0.34717509 0.30190344 0.27841626\n",
      " 0.356017   0.19194082 0.1615893  0.34654954 0.20864952 0.20152967\n",
      " 0.26820302 0.26729902 0.26657621 0.2378161  0.26808902 0.28182584\n",
      " 0.35649187 0.21188562]\n"
     ]
    }
   ],
   "source": [
    "# test Power fit\n",
    "P = PowerFit(x)\n",
    "print(P.exponent)\n",
    "print(P.lower)\n",
    "print(P.upper)\n",
    "print(P.random(10))\n",
    "print(P.covariance())\n",
    "print(P.ks_distance())\n",
    "print(P.density())"
   ]
  }
 ],
 "metadata": {
  "kernelspec": {
   "display_name": "rrmm",
   "language": "python",
   "name": "python3"
  },
  "language_info": {
   "codemirror_mode": {
    "name": "ipython",
    "version": 3
   },
   "file_extension": ".py",
   "mimetype": "text/x-python",
   "name": "python",
   "nbconvert_exporter": "python",
   "pygments_lexer": "ipython3",
   "version": "3.13.0"
  }
 },
 "nbformat": 4,
 "nbformat_minor": 2
}
