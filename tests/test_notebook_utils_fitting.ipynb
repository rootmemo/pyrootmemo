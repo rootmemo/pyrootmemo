{
 "cells": [
  {
   "cell_type": "code",
   "execution_count": 9,
   "metadata": {},
   "outputs": [],
   "source": [
    "import numpy as np\n",
    "from pyrootmemo.fit.fit_x import GumbelFit, WeibullFit, PowerFit\n",
    "from pyrootmemo.fit.fit_xy_linear import LinearFit\n",
    "from pyrootmemo.fit.fit_x_binned import PowerFitBinned\n",
    "from pyrootmemo.tools.helpers import units\n",
    "import matplotlib.pyplot as plt"
   ]
  },
  {
   "cell_type": "code",
   "execution_count": null,
   "metadata": {},
   "outputs": [
    {
     "name": "stdout",
     "output_type": "stream",
     "text": [
      "0.1270510672273536 millimeter ** 2 0.07083916808689963 millimeter ** 2\n",
      "-0.0720756234064388\n",
      "1.1813500908995935 millimeter\n",
      "9.999999996523254 millimeter\n",
      "[3.333987682841392 8.845615461158138 1.3313489200075788 2.197733087755979 2.3125513501825004 6.0309370066079655 2.2690460363364835 8.823923727014808 7.072323539272525 6.021130545506363] millimeter\n",
      "[0.0 0.10067593871496672 0.21966940366330048] millimeter ** 3\n"
     ]
    }
   ],
   "source": [
    "# test power law for binned data\n",
    "xall = np.linspace(1, 10, 6)\n",
    "x = np.column_stack((xall[:-1], xall[1:]))\n",
    "y = np.ones(x.shape[0])\n",
    "xu = x * units('mm')\n",
    "yu = y * units('mm^2')\n",
    "Pu2 = PowerFitBinned(xu, yu, lower = 0.5 * units('mm'))\n",
    "Pu = PowerFitBinned(xu, yu)\n",
    "print(Pu.multiplier, Pu2.multiplier)\n",
    "print(Pu.exponent, Pu2.exponent)\n",
    "print(Pu.lower, Pu2.lower)\n",
    "print(Pu.upper, Pu2.upper)\n",
    "print(Pu.random(10))\n",
    "print(Pu.density(np.array([1, 2, 3]) * units('mm'), cumulative = True))"
   ]
  },
  {
   "cell_type": "code",
   "execution_count": 11,
   "metadata": {},
   "outputs": [],
   "source": [
    "# generate some data\n",
    "rng = np.random.default_rng()\n",
    "x = rng.normal(10, 1, 50)\n",
    "xu = x * units('mm')"
   ]
  },
  {
   "cell_type": "code",
   "execution_count": 12,
   "metadata": {},
   "outputs": [
    {
     "name": "stdout",
     "output_type": "stream",
     "text": [
      "3.70591939350423 megapascal\n",
      "2.1419605315892163 megapascal / millimeter\n"
     ]
    }
   ],
   "source": [
    "# check linear regression\n",
    "y = 5.0 + 2.0 * x + rng.normal(0, 3, len(x))\n",
    "yu = y * units('MPa')\n",
    "fit = LinearFit(xu, yu)\n",
    "print(fit.intercept)\n",
    "print(fit.gradient)"
   ]
  },
  {
   "cell_type": "code",
   "execution_count": 13,
   "metadata": {},
   "outputs": [
    {
     "name": "stdout",
     "output_type": "stream",
     "text": [
      "0.7266366636307514\n",
      "-0.5478910363090396\n",
      "7.650681313892666\n",
      "12.487886224167136\n",
      "[ 9.80934366 11.73927898  9.55411994 11.58468059  8.51526184  8.55960264\n",
      " 10.45816457  9.56992933  9.19038521  7.81148305]\n",
      "1.0021829710432408\n",
      "0.2030726659294163\n"
     ]
    }
   ],
   "source": [
    "# test Power fit\n",
    "P = PowerFit(x)\n",
    "print(P.multiplier)\n",
    "print(P.exponent)\n",
    "print(P.lower)\n",
    "print(P.upper)\n",
    "print(P.random(10))\n",
    "print(P.covariance())\n",
    "print(P.ks_distance())"
   ]
  },
  {
   "cell_type": "code",
   "execution_count": 14,
   "metadata": {},
   "outputs": [
    {
     "ename": "TypeError",
     "evalue": "DimensionalityError.__init__() missing 1 required positional argument: 'units2'",
     "output_type": "error",
     "traceback": [
      "\u001b[1;31m---------------------------------------------------------------------------\u001b[0m",
      "\u001b[1;31mTypeError\u001b[0m                                 Traceback (most recent call last)",
      "Cell \u001b[1;32mIn[14], line 2\u001b[0m\n\u001b[0;32m      1\u001b[0m \u001b[38;5;66;03m# test Power fit with units\u001b[39;00m\n\u001b[1;32m----> 2\u001b[0m Pu \u001b[38;5;241m=\u001b[39m PowerFit(xu)\n\u001b[0;32m      3\u001b[0m \u001b[38;5;28mprint\u001b[39m(Pu\u001b[38;5;241m.\u001b[39mmultiplier)\n\u001b[0;32m      4\u001b[0m \u001b[38;5;28mprint\u001b[39m(Pu\u001b[38;5;241m.\u001b[39mexponent)\n",
      "File \u001b[1;32m\\\\myfiles.campus.bath.ac.uk\\gjm36\\dos\\Projects\\2023_root_reinforcement_book_Anil_Yildiz\\pyrootmemo\\src\\pyrootmemo\\fit\\fit_x.py:547\u001b[0m, in \u001b[0;36mPowerFit.__init__\u001b[1;34m(self, x, weights, lower, upper, start, root_method)\u001b[0m\n\u001b[0;32m    537\u001b[0m \u001b[38;5;28;01mdef\u001b[39;00m \u001b[38;5;21m__init__\u001b[39m(\n\u001b[0;32m    538\u001b[0m         \u001b[38;5;28mself\u001b[39m,\n\u001b[0;32m    539\u001b[0m         x,\n\u001b[1;32m   (...)\u001b[0m\n\u001b[0;32m    545\u001b[0m ):\n\u001b[0;32m    546\u001b[0m     \u001b[38;5;66;03m# call initialiser of parent class\u001b[39;00m\n\u001b[1;32m--> 547\u001b[0m     \u001b[38;5;28msuper\u001b[39m()\u001b[38;5;241m.\u001b[39m\u001b[38;5;21m__init__\u001b[39m(\n\u001b[0;32m    548\u001b[0m         x, \n\u001b[0;32m    549\u001b[0m         weights \u001b[38;5;241m=\u001b[39m weights, \n\u001b[0;32m    550\u001b[0m         start \u001b[38;5;241m=\u001b[39m start, \n\u001b[0;32m    551\u001b[0m         root_method \u001b[38;5;241m=\u001b[39m root_method,\n\u001b[0;32m    552\u001b[0m         xmin \u001b[38;5;241m=\u001b[39m \u001b[38;5;241m0.0\u001b[39m,\n\u001b[0;32m    553\u001b[0m         xmin_include \u001b[38;5;241m=\u001b[39m \u001b[38;5;28;01mFalse\u001b[39;00m            \n\u001b[0;32m    554\u001b[0m     )\n\u001b[0;32m    555\u001b[0m     \u001b[38;5;66;03m# generate fit\u001b[39;00m\n\u001b[0;32m    556\u001b[0m     \u001b[38;5;28mself\u001b[39m\u001b[38;5;241m.\u001b[39mmultiplier, \u001b[38;5;28mself\u001b[39m\u001b[38;5;241m.\u001b[39mexponent, \u001b[38;5;28mself\u001b[39m\u001b[38;5;241m.\u001b[39mlower, \u001b[38;5;28mself\u001b[39m\u001b[38;5;241m.\u001b[39mupper \u001b[38;5;241m=\u001b[39m \u001b[38;5;28mself\u001b[39m\u001b[38;5;241m.\u001b[39mgenerate_fit(\n\u001b[0;32m    557\u001b[0m         \u001b[38;5;28mself\u001b[39m\u001b[38;5;241m.\u001b[39mx, \u001b[38;5;28mself\u001b[39m\u001b[38;5;241m.\u001b[39mweights, \n\u001b[0;32m    558\u001b[0m         lower \u001b[38;5;241m=\u001b[39m lower, upper \u001b[38;5;241m=\u001b[39m upper\n\u001b[0;32m    559\u001b[0m         )\n",
      "File \u001b[1;32m\\\\myfiles.campus.bath.ac.uk\\gjm36\\dos\\Projects\\2023_root_reinforcement_book_Anil_Yildiz\\pyrootmemo\\src\\pyrootmemo\\fit\\fit_x.py:45\u001b[0m, in \u001b[0;36mFitBaseX.__init__\u001b[1;34m(self, x, weights, start, root_method, x0, xmin, xmin_include)\u001b[0m\n\u001b[0;32m     43\u001b[0m \u001b[38;5;28mself\u001b[39m\u001b[38;5;241m.\u001b[39m_check_input(\u001b[38;5;28mself\u001b[39m\u001b[38;5;241m.\u001b[39mweights, finite \u001b[38;5;241m=\u001b[39m \u001b[38;5;28;01mTrue\u001b[39;00m, \u001b[38;5;28mmin\u001b[39m \u001b[38;5;241m=\u001b[39m \u001b[38;5;241m0.0\u001b[39m, min_include \u001b[38;5;241m=\u001b[39m \u001b[38;5;28;01mTrue\u001b[39;00m, label \u001b[38;5;241m=\u001b[39m \u001b[38;5;124m'\u001b[39m\u001b[38;5;124mweights\u001b[39m\u001b[38;5;124m'\u001b[39m)\n\u001b[0;32m     44\u001b[0m \u001b[38;5;66;03m# set reference values\u001b[39;00m\n\u001b[1;32m---> 45\u001b[0m \u001b[38;5;28mself\u001b[39m\u001b[38;5;241m.\u001b[39mx0 \u001b[38;5;241m=\u001b[39m \u001b[38;5;28mself\u001b[39m\u001b[38;5;241m.\u001b[39mget_reference(x, x0)\n\u001b[0;32m     46\u001b[0m \u001b[38;5;66;03m# starting guess for fit\u001b[39;00m\n\u001b[0;32m     47\u001b[0m \u001b[38;5;28mself\u001b[39m\u001b[38;5;241m.\u001b[39mstart \u001b[38;5;241m=\u001b[39m start\n",
      "File \u001b[1;32m\\\\myfiles.campus.bath.ac.uk\\gjm36\\dos\\Projects\\2023_root_reinforcement_book_Anil_Yildiz\\pyrootmemo\\src\\pyrootmemo\\fit\\fit.py:73\u001b[0m, in \u001b[0;36mFitBase.get_reference\u001b[1;34m(self, x, x0)\u001b[0m\n\u001b[0;32m     71\u001b[0m             \u001b[38;5;28;01mraise\u001b[39;00m DimensionalityError(\u001b[38;5;124m'\u001b[39m\u001b[38;5;124munits of x and x0 are not compatible\u001b[39m\u001b[38;5;124m'\u001b[39m)\n\u001b[0;32m     72\u001b[0m     \u001b[38;5;28;01melif\u001b[39;00m np\u001b[38;5;241m.\u001b[39misscalar(x0):\n\u001b[1;32m---> 73\u001b[0m         \u001b[38;5;28;01mraise\u001b[39;00m DimensionalityError(\u001b[38;5;124m'\u001b[39m\u001b[38;5;124munits of x and x0 are not compatible\u001b[39m\u001b[38;5;124m'\u001b[39m)\n\u001b[0;32m     74\u001b[0m \u001b[38;5;28;01melse\u001b[39;00m:\n\u001b[0;32m     75\u001b[0m     \u001b[38;5;66;03m# x defined without units\u001b[39;00m\n\u001b[0;32m     76\u001b[0m     \u001b[38;5;28;01mif\u001b[39;00m x0 \u001b[38;5;129;01mis\u001b[39;00m \u001b[38;5;28;01mNone\u001b[39;00m:\n",
      "\u001b[1;31mTypeError\u001b[0m: DimensionalityError.__init__() missing 1 required positional argument: 'units2'"
     ]
    }
   ],
   "source": [
    "# test Power fit with units\n",
    "Pu = PowerFit(xu)\n",
    "print(Pu.multiplier)\n",
    "print(Pu.exponent)\n",
    "print(Pu.lower)\n",
    "print(Pu.upper)\n",
    "print(Pu.random(10))\n",
    "print(Pu.covariance())\n",
    "print(Pu.covariance(method = 'bootstrap'))\n",
    "print(Pu.ks_distance())\n",
    "print(Pu.density())\n",
    "print(Pu.density(cumulative = True))\n",
    "\n",
    "plt.hist(xu, density = True)\n",
    "xp = np.linspace(Pu.lower, Pu.upper, 100)\n",
    "yp = Pu.density(xp)\n",
    "plt.plot(xp, yp, '-')"
   ]
  },
  {
   "cell_type": "code",
   "execution_count": null,
   "metadata": {},
   "outputs": [
    {
     "name": "stdout",
     "output_type": "stream",
     "text": [
      "9.412382154113697 millimeter\n",
      "0.9567187143159136 millimeter\n",
      "[7.903438955037496 8.352024586718574 7.971775186370404 15.50141631657894 10.2248581948433 9.406990886629897 8.55493167372799 10.562166669168679 8.873310896516578 9.508654891138162] millimeter\n",
      "[0.2714504326397754 0.15572388266676956 0.31695220575559646 0.1704745745475714 0.17867409233533146 0.19843349513801334 0.1592733618020651 0.37970787829270664 0.14695502010807862 0.3552725736737828 0.28390383188092555 0.0656824597667161 0.362259762474272 0.34439509810835783 0.23460241140439483 0.18748065493732954 0.3241397546604136 0.0983961991624156 0.1998504160805229 0.20148844815513609 0.3276818265411907 0.17485161831199705 0.3711525000708459 0.10731570773645627 0.38276231129699106 0.17335096407590905 0.36280664410248264 0.2874492349489197 0.1358511994750661 0.15391079510242403 0.27182892366342676 0.1465558594965011 0.3634885619402327 0.36106091734733725 0.1566801231852482 0.22931600666410534 0.23615397295544877 0.3549430938728649 0.26153187045858595 0.14064150503380735 0.24958575987229714 0.0429100991071665 0.14282280833701386 0.36027604805377494 0.31433613849657244 0.1929209658071886 0.3837152480558536 0.3552734679554835 0.298927201960569 0.3367307578723237] / millimeter\n",
      "[0.6841284647732576 0.8369324460049408 0.6065930994174158 0.8195426685597696 0.8096745410193357 0.785238941865019 0.05130786588750188 0.4276083669872669 0.8470642878860134 0.5204209302337522 0.1362841443651129 0.9350005815900132 0.4999768473404677 0.5483054176946742 0.7376613822818847 0.06598348046568865 0.5925137245133091 0.9007675178349854 0.7834484129008967 0.07405906308218681 0.18695036783676186 0.8142936152809312 0.469065803201761 0.891180992931716 0.40363151198120606 0.058381772827955446 0.2513827086310158 0.658683998822306 0.859689398335087 0.8390394895829275 0.1251238482857567 0.8475220229201287 0.25311162701486467 0.5036708521963703 0.05005623196303768 0.09191487377382689 0.7355233254113548 0.5213273765845255 0.11628560556595992 0.8542699747248735 0.7166219063252082 0.008640321899910583 0.8517886445032182 0.24522425334202153 0.6115572439606793 0.7921544656482058 0.39196642775316853 0.23406009475622536 0.15159364012884355 0.5659735893852663] dimensionless\n",
      "[[0.02055657 0.00491707]\n",
      " [0.00491707 0.01074388]]\n",
      "[[0.01936827 0.00219077]\n",
      " [0.00219077 0.00535434]]\n",
      "0.10344841290089668\n",
      "-74.90459967152938\n",
      "[-4.26325641e-14 -7.10542736e-14]\n",
      "[[ -54.6262598    25.00037158]\n",
      " [  25.00037158 -104.51796899]]\n"
     ]
    },
    {
     "data": {
      "text/plain": [
       "[<matplotlib.lines.Line2D at 0x174493d6e90>]"
      ]
     },
     "execution_count": 7,
     "metadata": {},
     "output_type": "execute_result"
    },
    {
     "data": {
      "image/png": "[encoded data removed]",
      "text/plain": [
       "<Figure size 432x288 with 1 Axes>"
      ]
     },
     "metadata": {
      "needs_background": "light"
     },
     "output_type": "display_data"
    }
   ],
   "source": [
    "# Gumbel fit with units\n",
    "Gu = GumbelFit(xu)\n",
    "print(Gu.location)\n",
    "print(Gu.scale)\n",
    "print(Gu.random(10))\n",
    "print(Gu.density())\n",
    "print(Gu.density(cumulative = True))\n",
    "print(Gu.covariance())\n",
    "print(Gu.covariance(method = 'bootstrap'))\n",
    "print(Gu.ks_distance())\n",
    "print(Gu.loglikelihood(deriv = 0))\n",
    "print(Gu.loglikelihood(deriv = 1))\n",
    "print(Gu.loglikelihood(deriv = 2))\n",
    "\n",
    "plt.hist(xu, density = True)\n",
    "xp = np.linspace(min(xu), max(xu), 100)\n",
    "yp = Gu.density(xp)\n",
    "plt.plot(xp, yp, '-')"
   ]
  },
  {
   "cell_type": "code",
   "execution_count": null,
   "metadata": {},
   "outputs": [
    {
     "name": "stdout",
     "output_type": "stream",
     "text": [
      "9.412382154113697\n",
      "0.9567187143159136\n",
      "[ 9.68911748 10.27867276 12.25359381  9.94706181  9.56694471  9.53985674\n",
      "  9.97901761  8.46893278  8.08458997 10.09833327]\n",
      "[[0.02055657 0.00491707]\n",
      " [0.00491707 0.01074388]]\n",
      "0.10344841290089668\n"
     ]
    }
   ],
   "source": [
    "# Test Gumbel fit\n",
    "G = GumbelFit(x)\n",
    "print(G.location)\n",
    "print(G.scale)\n",
    "print(G.random(10))\n",
    "print(G.covariance())\n",
    "print(G.ks_distance())\n"
   ]
  },
  {
   "cell_type": "code",
   "execution_count": null,
   "metadata": {},
   "outputs": [
    {
     "name": "stdout",
     "output_type": "stream",
     "text": [
      "10.92770232271225\n",
      "10.397593176713968\n",
      "[ 9.71388123 11.40900878  9.54029388  9.10877058 11.03098747 10.6589431\n",
      "  9.11471518  9.28562013 11.16188688  9.98585834]\n",
      "[[0.65173872 0.02833898]\n",
      " [0.02833898 0.00880807]]\n",
      "0.11026185254597737\n",
      "[0.38809984 0.27124714 0.378459   0.30031641 0.31447876 0.34291569\n",
      " 0.11122393 0.30770369 0.25179124 0.34882053 0.16326881 0.03687362\n",
      " 0.34028323 0.35972884 0.37592593 0.12158179 0.37457732 0.12118481\n",
      " 0.34465643 0.12690993 0.18990528 0.30805278 0.32673072 0.14690033\n",
      " 0.29640203 0.1163426  0.22231709 0.38763816 0.22493524 0.26735567\n",
      " 0.1571509  0.25086792 0.22317454 0.34185432 0.1102894  0.13803597\n",
      " 0.3768443  0.34918953 0.15221289 0.236814   0.38324374 0.06708205\n",
      " 0.24207779 0.21925895 0.37970734 0.33577094 0.29084778 0.21369825\n",
      " 0.17148642 0.36608241]\n"
     ]
    }
   ],
   "source": [
    "# test Weibull fit\n",
    "W = WeibullFit(x)\n",
    "print(W.shape)\n",
    "print(W.scale)\n",
    "print(W.random(10))\n",
    "print(W.covariance())\n",
    "print(W.ks_distance())\n",
    "print(W.density())"
   ]
  },
  {
   "cell_type": "code",
   "execution_count": null,
   "metadata": {},
   "outputs": [
    {
     "name": "stdout",
     "output_type": "stream",
     "text": [
      "10.92770232271225\n",
      "10.397593176713968 millimeter\n",
      "[7.727152974913382 10.228711705587196 11.697664592004902 7.427576040112663 10.548040126428948 9.646488887504333 10.570295826434425 10.620645798262109 10.704208894930977 9.077062443191007] millimeter\n",
      "0.11026185254597737\n",
      "[0.38809984334753245 0.27124713999578065 0.3784589994028837 0.3003164141345871 0.31447876484537196 0.34291568533858374 0.11122392755730459 0.3077036944206714 0.2517912425409563 0.34882052748412706 0.1632688083804877 0.036873617807036956 0.3402832314438326 0.35972884210976586 0.3759259269492876 0.12158179364746427 0.3745773207144105 0.12118481251781177 0.3446564335875063 0.12690992739622411 0.1899052798217684 0.308052784641825 0.32673072485833227 0.14690032925681817 0.29640202845183106 0.11634259686518961 0.22231708826976215 0.3876381573832495 0.22493524176810997 0.26735566830607504 0.15715090040379007 0.2508679181214085 0.22317453688435285 0.3418543183427959 0.11028940135772886 0.13803597465671705 0.37684430388240814 0.3491895266376654 0.1522128945203256 0.23681400365690197 0.38324373577750614 0.0670820527231528 0.24207778537215177 0.21925894524679973 0.379707343691936 0.3357709390711565 0.29084778498283875 0.21369825348251562 0.17148641721438876 0.3660824095222125] / millimeter\n",
      "[0.6094442141476688 0.8606564237681604 0.5079602580320326 0.8301468560489433 0.8127639399969866 0.7700770514816794 0.08931385059212826 0.3318518208775999 0.8781724156885696 0.414603832447737 0.14125295349720224 0.9915129210901887 0.3949703634848257 0.4428429650995087 0.6906349040948168 0.09916558692582633 0.4914211132593813 0.9601858049516169 0.7669859644674908 0.10432415729445677 0.17039710345388437 0.8208984510913512 0.36686255783675803 0.9477008334289005 0.31285947068861686 0.09415346865336693 0.20867767457589048 0.5741042564571439 0.8994686751105816 0.8643216515238821 0.13481964077888287 0.8789563216101772 0.20973814745402264 0.398454040514585 0.08843633576521537 0.1152991980594038 0.6872159796931538 0.4154947007845944 0.12969394438027104 0.8904170474090685 0.657619575873913 0.04989318458019276 0.8862249174278524 0.20491694055648435 0.5139221774116476 0.7820718224184865 0.30392264234220145 0.1981627365526183 0.15004273368841914 0.46167110039755976] dimensionless\n",
      "64351385264129.46\n",
      "[6.48200189e+12 4.80880519e+00]\n",
      "[[  -1.78392637    5.73958214]\n",
      " [   5.73958214 -131.99868574]]\n",
      "[[0.65173872 0.02833898]\n",
      " [0.02833898 0.00880807]]\n"
     ]
    },
    {
     "data": {
      "text/plain": [
       "[<matplotlib.lines.Line2D at 0x1744946f4d0>]"
      ]
     },
     "execution_count": 10,
     "metadata": {},
     "output_type": "execute_result"
    },
    {
     "data": {
      "image/png": "[encoded data removed]",
      "text/plain": [
       "<Figure size 432x288 with 1 Axes>"
      ]
     },
     "metadata": {
      "needs_background": "light"
     },
     "output_type": "display_data"
    }
   ],
   "source": [
    "# Weibull with units\n",
    "Wu = WeibullFit(xu)\n",
    "print(Wu.shape)\n",
    "print(Wu.scale)\n",
    "print(Wu.random(10))\n",
    "print(Wu.ks_distance())\n",
    "print(Wu.density())\n",
    "print(Wu.density(cumulative = True))\n",
    "print(Wu.loglikelihood(deriv = 0))\n",
    "print(Wu.loglikelihood(deriv = 1))\n",
    "print(Wu.loglikelihood(deriv = 2))\n",
    "print(Wu.covariance())\n",
    "\n",
    "plt.hist(xu, density = True)\n",
    "xp = np.linspace(min(xu), max(xu), 100)\n",
    "yp = Wu.density(xp)\n",
    "plt.plot(xp, yp, '-')"
   ]
  }
 ],
 "metadata": {
  "kernelspec": {
   "display_name": "rrmm",
   "language": "python",
   "name": "python3"
  },
  "language_info": {
   "codemirror_mode": {
    "name": "ipython",
    "version": 3
   },
   "file_extension": ".py",
   "mimetype": "text/x-python",
   "name": "python",
   "nbconvert_exporter": "python",
   "pygments_lexer": "ipython3",
   "version": "3.13.0"
  }
 },
 "nbformat": 4,
 "nbformat_minor": 2
}
